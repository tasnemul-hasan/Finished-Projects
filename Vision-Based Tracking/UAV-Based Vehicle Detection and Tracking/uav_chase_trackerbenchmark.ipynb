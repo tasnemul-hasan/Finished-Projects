{
  "metadata": {
    "kernelspec": {
      "language": "python",
      "display_name": "Python 3",
      "name": "python3"
    },
    "language_info": {
      "name": "python",
      "version": "3.10.12",
      "mimetype": "text/x-python",
      "codemirror_mode": {
        "name": "ipython",
        "version": 3
      },
      "pygments_lexer": "ipython3",
      "nbconvert_exporter": "python",
      "file_extension": ".py"
    },
    "kaggle": {
      "accelerator": "none",
      "dataSources": [
        {
          "sourceId": 8575832,
          "sourceType": "datasetVersion",
          "datasetId": 5128116
        },
        {
          "sourceId": 9349203,
          "sourceType": "datasetVersion",
          "datasetId": 5666946
        },
        {
          "sourceId": 9390216,
          "sourceType": "datasetVersion",
          "datasetId": 5698075
        },
        {
          "sourceId": 9499857,
          "sourceType": "datasetVersion",
          "datasetId": 5781265
        },
        {
          "sourceId": 9512468,
          "sourceType": "datasetVersion",
          "datasetId": 5790453
        }
      ],
      "dockerImageVersionId": 30528,
      "isInternetEnabled": true,
      "language": "python",
      "sourceType": "notebook",
      "isGpuEnabled": false
    },
    "colab": {
      "provenance": []
    }
  },
  "nbformat_minor": 0,
  "nbformat": 4,
  "cells": [
    {
      "cell_type": "markdown",
      "source": [
        "# GitHub Clones"
      ],
      "metadata": {
        "id": "9Gofj87Mwf7y"
      }
    },
    {
      "cell_type": "code",
      "source": [
        "Home = '/kaggle/working/'\n",
        "%cd {Home}\n",
        "start = 0\n",
        "#!git clone https://github.com/facebookresearch/detectron2 detectron2_repo\n",
        "#!git clone https://github.com/KeeganFernandesWork/yolo_tracking\n",
        "if start:\n",
        "    !pip install ultralytics\n",
        "    !pip install -e detectron2_repo\n",
        "    from ultralytics import YOLO\n",
        "\n",
        "%cd {Home}\n",
        "%cd yolo_tracking\n",
        "\n",
        "if start:\n",
        "    !pip install -r requirements.txt\n",
        "    !pip install .\n",
        "\n",
        "from IPython.display import clear_output\n",
        "clear_output(wait=False)"
      ],
      "metadata": {
        "execution": {
          "iopub.status.busy": "2024-10-01T05:30:33.005990Z",
          "iopub.execute_input": "2024-10-01T05:30:33.006991Z",
          "iopub.status.idle": "2024-10-01T05:30:33.034851Z",
          "shell.execute_reply.started": "2024-10-01T05:30:33.006954Z",
          "shell.execute_reply": "2024-10-01T05:30:33.033808Z"
        },
        "trusted": true,
        "id": "MVgDWDepwf72"
      },
      "execution_count": null,
      "outputs": []
    },
    {
      "cell_type": "markdown",
      "source": [
        "# Libraries"
      ],
      "metadata": {
        "id": "88A2kpCqwf74"
      }
    },
    {
      "cell_type": "code",
      "source": [
        "# Run after restart session\n",
        "%matplotlib inline\n",
        "\n",
        "import os\n",
        "import cv2\n",
        "import PIL\n",
        "import sys\n",
        "import time\n",
        "import json\n",
        "import torch\n",
        "import shutil\n",
        "import warnings\n",
        "import detectron2\n",
        "import numpy as np\n",
        "import tracemalloc\n",
        "import torch.nn as nn\n",
        "from PIL import Image\n",
        "from pathlib import Path\n",
        "from ultralytics import YOLO\n",
        "import matplotlib.pyplot as plt\n",
        "from PIL import Image, ImageOps\n",
        "from detectron2 import model_zoo\n",
        "from IPython.display import display\n",
        "from detectron2.config import get_cfg\n",
        "from detectron2.structures import Boxes\n",
        "from IPython.display import clear_output\n",
        "from torchvision import models, transforms\n",
        "from detectron2.utils.logger import setup_logger\n",
        "from sklearn.metrics.pairwise import cosine_similarity\n",
        "from detectron2.data import build_detection_test_loader\n",
        "from detectron2.data import MetadataCatalog, DatasetCatalog\n",
        "from detectron2.data.datasets import register_coco_instances\n",
        "from detectron2.engine import DefaultTrainer, DefaultPredictor\n",
        "from detectron2.evaluation import COCOEvaluator, inference_on_dataset\n",
        "warnings.filterwarnings(\"ignore\", category=FutureWarning, message=\".*torch.load.*weights_only=False.*\")\n",
        "from boxmot import (OCSORT, BoTSORT, BYTETracker, DeepOCSORT, StrongSORT, create_tracker, get_tracker_config)\n",
        "setup_logger()"
      ],
      "metadata": {
        "execution": {
          "iopub.status.busy": "2024-10-03T06:43:07.415894Z",
          "iopub.execute_input": "2024-10-03T06:43:07.416344Z",
          "iopub.status.idle": "2024-10-03T06:43:13.841605Z",
          "shell.execute_reply.started": "2024-10-03T06:43:07.416307Z",
          "shell.execute_reply": "2024-10-03T06:43:13.839629Z"
        },
        "collapsed": true,
        "jupyter": {
          "outputs_hidden": true
        },
        "trusted": true,
        "id": "9h-YxYkjwf74",
        "outputId": "c0a9b1fa-b8ca-4bae-b12a-71bb276f85cb"
      },
      "execution_count": null,
      "outputs": [
        {
          "name": "stderr",
          "text": "/opt/conda/lib/python3.10/site-packages/scipy/__init__.py:146: UserWarning: A NumPy version >=1.16.5 and <1.23.0 is required for this version of SciPy (detected version 1.23.5\n  warnings.warn(f\"A NumPy version >={np_minversion} and <{np_maxversion}\"\n",
          "output_type": "stream"
        },
        {
          "traceback": [
            "\u001b[0;31m---------------------------------------------------------------------------\u001b[0m",
            "\u001b[0;31mModuleNotFoundError\u001b[0m                       Traceback (most recent call last)",
            "Cell \u001b[0;32mIn[1], line 22\u001b[0m\n\u001b[1;32m     20\u001b[0m \u001b[38;5;28;01mimport\u001b[39;00m \u001b[38;5;21;01mshutil\u001b[39;00m\n\u001b[1;32m     21\u001b[0m \u001b[38;5;28;01mimport\u001b[39;00m \u001b[38;5;21;01mwarnings\u001b[39;00m\n\u001b[0;32m---> 22\u001b[0m \u001b[38;5;28;01mimport\u001b[39;00m \u001b[38;5;21;01mdetectron2\u001b[39;00m\n\u001b[1;32m     23\u001b[0m \u001b[38;5;28;01mimport\u001b[39;00m \u001b[38;5;21;01mnumpy\u001b[39;00m \u001b[38;5;28;01mas\u001b[39;00m \u001b[38;5;21;01mnp\u001b[39;00m\n\u001b[1;32m     24\u001b[0m \u001b[38;5;28;01mimport\u001b[39;00m \u001b[38;5;21;01mtracemalloc\u001b[39;00m\n",
            "\u001b[0;31mModuleNotFoundError\u001b[0m: No module named 'detectron2'"
          ],
          "ename": "ModuleNotFoundError",
          "evalue": "No module named 'detectron2'",
          "output_type": "error"
        }
      ]
    },
    {
      "cell_type": "markdown",
      "source": [
        "# Functions"
      ],
      "metadata": {
        "id": "ivGZEBc6wf75"
      }
    },
    {
      "cell_type": "code",
      "source": [
        "# Define a CNN model with a variable input size control\n",
        "class AdaptiveCNN(nn.Module):\n",
        "    def __init__(self, output_size=(1, 1)):\n",
        "        super(AdaptiveCNN, self).__init__()\n",
        "        self.features = nn.Sequential(\n",
        "            nn.Conv2d(3, 32, kernel_size=3, stride=1, padding=1),  # Conv layer\n",
        "            nn.ReLU(),\n",
        "            nn.MaxPool2d(kernel_size=2, stride=2),                 # Downsample\n",
        "            nn.Conv2d(32, 64, kernel_size=3, stride=1, padding=1), # Conv layer\n",
        "            nn.ReLU(),\n",
        "            nn.MaxPool2d(kernel_size=2, stride=2),                 # Downsample\n",
        "            nn.Conv2d(64, 128, kernel_size=3, stride=1, padding=1),# Conv layer\n",
        "            nn.ReLU(),\n",
        "            nn.MaxPool2d(kernel_size=2, stride=2),                 # Downsample\n",
        "            nn.Conv2d(128, 256, kernel_size=3, stride=1, padding=1), # Conv layer\n",
        "            nn.ReLU(),\n",
        "            nn.AdaptiveAvgPool2d(output_size)  # Adaptive pooling to ensure fixed-size output\n",
        "        )\n",
        "        self.flatten = nn.Flatten()  # Flatten to convert to 1D feature vector\n",
        "\n",
        "    def forward(self, x):\n",
        "        x = self.features(x)\n",
        "        x = self.flatten(x)  # Flatten the feature map to a 1D feature vector\n",
        "        return x\n",
        "\n",
        "\n",
        "#==============================================================\n",
        "def sift_feature_matching(target_img, crop_img):\n",
        "    # Load the two images\n",
        "    img1 = crop_img    # Query image\n",
        "    img2 = target_img  # Train image\n",
        "    # Convert images to grayscale\n",
        "    img1 = cv2.cvtColor(img1, cv2.COLOR_BGR2GRAY)\n",
        "    img2 = cv2.cvtColor(img2, cv2.COLOR_BGR2GRAY)\n",
        "\n",
        "    # Initialize the SIFT detector\n",
        "    sift = cv2.SIFT_create()\n",
        "\n",
        "    # Detect SIFT keypoints and compute descriptors for both images\n",
        "    keypoints1, descriptors1 = sift.detectAndCompute(img1, None)\n",
        "    keypoints2, descriptors2 = sift.detectAndCompute(img2, None)\n",
        "\n",
        "    # Initialize the BFMatcher\n",
        "    bf = cv2.BFMatcher()\n",
        "\n",
        "    # Use KNN matcher to find the best 2 matches for each descriptor\n",
        "    matches = bf.knnMatch(descriptors1, descriptors2, k=2)\n",
        "\n",
        "    # Apply Lowe's ratio test to filter good matches\n",
        "    good_matches = []\n",
        "    for m, n in matches:\n",
        "        if m.distance < 0.8 * n.distance:  # Ratio test\n",
        "            good_matches.append(m)\n",
        "\n",
        "    return len(good_matches)"
      ],
      "metadata": {
        "execution": {
          "iopub.status.busy": "2024-10-01T05:30:35.769175Z",
          "iopub.execute_input": "2024-10-01T05:30:35.769898Z",
          "iopub.status.idle": "2024-10-01T05:30:35.802195Z",
          "shell.execute_reply.started": "2024-10-01T05:30:35.769868Z",
          "shell.execute_reply": "2024-10-01T05:30:35.801142Z"
        },
        "trusted": true,
        "id": "ks7XgmRxwf76"
      },
      "execution_count": null,
      "outputs": []
    },
    {
      "cell_type": "code",
      "source": [
        "# Function to extract features from images or bounding boxes with controlled input size\n",
        "def extract_features_variable_size(crop_img, model, input_size):\n",
        "    # Resize the crop to the controlled input size\n",
        "    transform = transforms.Compose([\n",
        "        transforms.ToPILImage(),\n",
        "        transforms.Resize((input_size, input_size)),  # Resize to the specified input size\n",
        "        transforms.ToTensor(),\n",
        "        transforms.Normalize(mean=[0.485, 0.456, 0.406], std=[0.229, 0.224, 0.225]),\n",
        "    ])\n",
        "    crop_transformed = transform(crop_img).unsqueeze(0)\n",
        "\n",
        "    # Extract features using the CNN model\n",
        "    with torch.no_grad():\n",
        "        features = model(crop_transformed)\n",
        "\n",
        "    return features.squeeze().numpy()\n",
        "\n",
        "\n",
        "#==============================================================\n",
        "def extract_target_img(frame, target_bbox, show_crop_img=False):\n",
        "    # Extract features for the target bounding box\n",
        "    target_x1, target_y1, target_x2, target_y2 = target_bbox\n",
        "    # Convert bounding box coordinates to integers\n",
        "    target_x1 = int(target_x1)\n",
        "    target_y1 = int(target_y1)\n",
        "    target_x2 = int(target_x2)\n",
        "    target_y2 = int(target_y2)\n",
        "    target_crop = frame[target_y1:target_y2, target_x1:target_x2]\n",
        "    if show_crop_img:\n",
        "        plt.figure(figsize=(8, 6))  # Set the figure size\n",
        "        plt.imshow(target_crop)\n",
        "\n",
        "    return target_crop\n",
        "\n",
        "\n",
        "#==============================================================\n",
        "# Function to compute cosine similarity\n",
        "def compute_similarity(features1, features2):\n",
        "    return cosine_similarity(features1.reshape(1, -1), features2.reshape(1, -1))[0][0]\n",
        "\n",
        "\n",
        "#==============================================================\n",
        "# Eculidian Distance\n",
        "def euclidean_distance(feature1, feature2):\n",
        "    feature1 = np.array(feature1)\n",
        "    feature2 = np.array(feature2)\n",
        "    return np.linalg.norm(feature1 - feature2)\n",
        "\n",
        "\n",
        "#==============================================================\n",
        "def cv2_imshow(img, size=(8, 6), show=True, save='', title=''):\n",
        "    if show:\n",
        "        plt.figure(figsize=size)  # Set the figure size\n",
        "        plt.axis('off')\n",
        "        if len(title)>0:\n",
        "            plt.title(title)\n",
        "\n",
        "        plt.imshow(img)\n",
        "\n",
        "\n",
        "    if os.path.isdir(save[:26]):\n",
        "        plt.imsave(save, img)\n",
        "\n",
        "\n",
        "#==============================================================\n",
        "def draw_bounding_boxes(image, boxes, classes, gt, plot=False):\n",
        "    # Draw ground truth bounding boxes\n",
        "    if gt:\n",
        "        color = (0, 0, 255)\n",
        "    else:\n",
        "        color = (0, 255, 0)\n",
        "\n",
        "    item_no=1\n",
        "    for box,clas in zip(boxes, classes):\n",
        "        x_min, y_min, x_max, y_max = map(int, box)\n",
        "        label = f'{item_no}__{clas}'\n",
        "        cv2.rectangle(image, (x_min, y_min), (x_max, y_max), color, 1)  # Blue for ground truth\n",
        "        cv2.putText(image, label, (x_min, y_min - 10), cv2.FONT_HERSHEY_SIMPLEX, 0.5, color, 1)\n",
        "\n",
        "        item_no +=1\n",
        "\n",
        "    if(plot==True):\n",
        "        plt.figure(figsize=(12, 8))\n",
        "        plt.imshow(image)\n",
        "        plt.title(\"Predicted Bounding Boxes and Classes\")\n",
        "        plt.axis('off')  # Hide axis\n",
        "        plt.show()\n",
        "\n",
        "    return image\n",
        "\n",
        "\n",
        "#==============================================================\n",
        "def xywhn_to_xyxy(cx, cy, w, h, image_width, image_height):\n",
        "    \"\"\"\n",
        "    Convert YOLO format [cx, cy, w, h] with normalized values to [x_min, y_min, x_max, y_max] in pixel values.\n",
        "\n",
        "    Parameters:\n",
        "    - cx, cy: Center coordinates (normalized)\n",
        "    - w, h: Width and height (normalized)\n",
        "    - image_width: Width of the image in pixels\n",
        "    - image_height: Height of the image in pixels\n",
        "\n",
        "    Returns:\n",
        "    - A list [x_min, y_min, x_max, y_max] in pixel values\n",
        "    \"\"\"\n",
        "    x_min = (cx - w / 2) * image_width\n",
        "    y_min = (cy - h / 2) * image_height\n",
        "    x_max = (cx + w / 2) * image_width\n",
        "    y_max = (cy + h / 2) * image_height\n",
        "    return [x_min, y_min, x_max, y_max]\n",
        "\n",
        "\n",
        "#==============================================================\n",
        "def x1y1x2y2_to_xywh(box):\n",
        "    \"\"\"\n",
        "    Converts bounding box from [x1, y1, x2, y2] to [x, y, w, h].\n",
        "\n",
        "    Args:\n",
        "        box (list or tuple): Bounding box in [x1, y1, x2, y2] format.\n",
        "\n",
        "    Returns:\n",
        "        list: Bounding box in [x, y, w, h] format.\n",
        "    \"\"\"\n",
        "    x1, y1, x2, y2 = box\n",
        "    x = x1\n",
        "    y = y1\n",
        "    w = x2 - x1\n",
        "    h = y2 - y1\n",
        "    return [x, y, w, h]\n",
        "\n",
        "\n",
        "#==============================================================\n",
        "def rescale_bboxes(pred_boxes):\n",
        "    scaled_boxes = []\n",
        "    for box in pred_boxes:\n",
        "    # Example bounding box coordinates in the resized image (640x640)\n",
        "        x_min_resized, y_min_resized, x_max_resized, y_max_resized = box\n",
        "\n",
        "        # Original image dimensions\n",
        "        original_width = 1920\n",
        "        original_height = 1080\n",
        "\n",
        "        # Resized image dimensions\n",
        "        resized_width = 640\n",
        "        resized_height = 640\n",
        "\n",
        "        # Scaling factors\n",
        "        width_scaling_factor = original_width / resized_width\n",
        "        height_scaling_factor = original_height / resized_height\n",
        "\n",
        "        # Scale bounding box coordinates\n",
        "        x_min_original = x_min_resized * width_scaling_factor\n",
        "        y_min_original = y_min_resized * height_scaling_factor\n",
        "        x_max_original = x_max_resized * width_scaling_factor\n",
        "        y_max_original = y_max_resized * height_scaling_factor\n",
        "\n",
        "        # Output scaled bounding box\n",
        "        scaled_boxes.append( (x_min_original, y_min_original, x_max_original, y_max_original) )\n",
        "\n",
        "    return scaled_boxes"
      ],
      "metadata": {
        "execution": {
          "iopub.status.busy": "2024-10-01T05:30:35.818450Z",
          "iopub.execute_input": "2024-10-01T05:30:35.818768Z",
          "iopub.status.idle": "2024-10-01T05:30:35.829808Z",
          "shell.execute_reply.started": "2024-10-01T05:30:35.818742Z",
          "shell.execute_reply": "2024-10-01T05:30:35.828844Z"
        },
        "trusted": true,
        "id": "NXvWIgsXwf76"
      },
      "execution_count": null,
      "outputs": []
    },
    {
      "cell_type": "code",
      "source": [
        "# Function to filter bounding boxes based on feature similarity\n",
        "def filter_bboxes(frame, bboxes, target_img, threshold=0.8, show_filter_img=False, show_scores=False):\n",
        "    similarity_scores =[]\n",
        "    sift_scores = []\n",
        "\n",
        "    # Iterate through all bounding boxes\n",
        "    for bbox in bboxes:\n",
        "        # Extract features for the current bounding box\n",
        "        x1, y1, x2, y2 = bbox\n",
        "        x1 = int(x1)\n",
        "        y1 = int(y1)\n",
        "        x2 = int(x2)\n",
        "        y2 = int(y2)\n",
        "        crop = frame[y1:y2, x1:x2]\n",
        "        if crop.size == 0:  # Skip empty crops\n",
        "            continue\n",
        "\n",
        "        min_input_size = crop.shape[0] if crop.shape[0] < crop.shape[1] else crop.shape[1]\n",
        "        if min_input_size < 16:\n",
        "            continue\n",
        "\n",
        "        # Initialize the CNN model with adaptive pooling to a fixed output size\n",
        "        model = AdaptiveCNN(output_size=(1, 1))  # Output size after pooling\n",
        "        model.eval()  # Set the model to evaluation mode\n",
        "\n",
        "\n",
        "        crop = cv2.resize(crop, (min_input_size, min_input_size))\n",
        "        # Extract features from the bounding boxes with controlled input size\n",
        "        target_features = extract_features_variable_size(target_img.copy(), model, min_input_size)\n",
        "        detection_features = extract_features_variable_size(crop, model, min_input_size)\n",
        "\n",
        "        # Compute similarity between the two feature vectors\n",
        "        sift_scores.append(sift_feature_matching(target_img.copy(), crop))\n",
        "        similarity_scores.append(compute_similarity(target_features, detection_features))\n",
        "\n",
        "    if show_filter_img:\n",
        "        frame_copy = frame.copy()\n",
        "        i=1\n",
        "        for bbox in bboxes:\n",
        "            x1, y1, x2, y2 = bbox\n",
        "            x1 = int(x1)\n",
        "            y1 = int(y1)\n",
        "            x2 = int(x2)\n",
        "            y2 = int(y2)\n",
        "            cv2.rectangle(frame_copy, (x1, y1), (x2, y2), (0, 255, 0), 2)\n",
        "            cv2.putText(frame_copy, f\"BBox{i}\", (x1, y1 - 10), cv2.FONT_HERSHEY_SIMPLEX, 0.5, (0, 255, 0), 2)\n",
        "            i+=1\n",
        "\n",
        "        cv2_imshow(frame_copy)\n",
        "\n",
        "\n",
        "    try:\n",
        "        max_similarity_indexes = [index for index, value in enumerate(similarity_scores) if value > 0.9]\n",
        "        possible_target_sift_values = [sift_scores[i] for i in max_similarity_indexes]\n",
        "\n",
        "        seen = set()\n",
        "        duplicates = set(x for x in possible_target_sift_values if x in seen or seen.add(x)) # find duplicates\n",
        "        if (duplicates):\n",
        "            max_final_index = np.argmax(similarity_scores)\n",
        "        else:\n",
        "            max_sift_index = np.argmax(possible_target_sift_values)\n",
        "            max_final_index = max_similarity_indexes[max_sift_index]\n",
        "    except:\n",
        "        max_final_index = -1\n",
        "\n",
        "\n",
        "    if show_scores:\n",
        "        print('\\n\\n')\n",
        "        print('Sift_scores:', sift_scores)\n",
        "        print('Resnet Simlarity scores:', similarity_scores)\n",
        "        print('Max Index:', max_final_index)\n",
        "\n",
        "\n",
        "    return max_final_index"
      ],
      "metadata": {
        "id": "FkwLXwPowf77"
      },
      "execution_count": null,
      "outputs": []
    },
    {
      "cell_type": "code",
      "source": [
        "Home = '/kaggle/working/'\n",
        "color = (0, 255, 0)  # BGR\n",
        "thickness = 2\n",
        "fontscale = 1\n",
        "\n",
        "device = \"cuda\" # cuda:0 , cpu\n",
        "fp16 = True # True if gpu available\n",
        "\n",
        "source = '/kaggle/input/test-video-15fps/Test4_15fps.mp4'\n",
        "target_label = '/kaggle/input/test-dataset/test/labels/frame_0001.txt'\n",
        "first_frame = '/kaggle/input/test-dataset/test/images/frame_0001.jpg'\n",
        "wgts_dir = '/kaggle/input/all-weights/'\n",
        "\n",
        "model_names = ['faster_rcnn', 'retinanet', 'cascade_rcnn', 'yolo']\n",
        "all_wgts = ['faster_rcnn.pth', 'retinaNet.pth', 'cascade_rcnn.pth', 'yolo.pt']\n",
        "detectron_models = [\"COCO-Detection/faster_rcnn_R_50_FPN_1x.yaml\", \"COCO-Detection/retinanet_R_50_FPN_1x.yaml\", \"Misc/cascade_mask_rcnn_R_50_FPN_1x.yaml\"]"
      ],
      "metadata": {
        "_uuid": "7b034df8-bce5-48d8-9884-9aeb9846eecb",
        "_cell_guid": "e7a9dabf-7a39-4a72-aa4b-7789d036c7f1",
        "jupyter": {
          "outputs_hidden": false
        },
        "execution": {
          "iopub.status.busy": "2024-10-01T05:30:35.860930Z",
          "iopub.execute_input": "2024-10-01T05:30:35.861211Z",
          "iopub.status.idle": "2024-10-01T05:30:35.868850Z",
          "shell.execute_reply.started": "2024-10-01T05:30:35.861186Z",
          "shell.execute_reply": "2024-10-01T05:30:35.867949Z"
        },
        "trusted": true,
        "id": "xzuYvnvTwf78"
      },
      "execution_count": null,
      "outputs": []
    },
    {
      "cell_type": "code",
      "source": [
        "def setup_config(model, output_dir):\n",
        "    cfg = get_cfg()\n",
        "\n",
        "    cfg.merge_from_file(model_zoo.get_config_file(model))\n",
        "    cfg.MODEL.WEIGHTS = model_zoo.get_checkpoint_url(model)\n",
        "    #cfg.DATASETS.TRAIN = (train_data,)\n",
        "    #cfg.DATASETS.TEST = (val_data,)\n",
        "    cfg.TEST.EVAL_PERIOD = 500\n",
        "    cfg.DATALOADER.NUM_WORKERS = 2\n",
        "    cfg.SOLVER.IMS_PER_BATCH = 16\n",
        "    cfg.MODEL.ROI_HEADS.BATCH_SIZE_PER_IMAGE = 128\n",
        "    cfg.MODEL.ROI_HEADS.NUM_CLASSES = 3  # Number of classes for Faster RCNN\n",
        "    cfg.MODEL.RETINANET.NUM_CLASSES = 3  # Number of classes for Retina Net\n",
        "    cfg.MODEL.MASK_ON = False\n",
        "    cfg.MODEL.LOAD_PROPOSALS = False\n",
        "\n",
        "    # Debug/verbose\n",
        "    setup_logger()\n",
        "    # Create the output directory\n",
        "    cfg.OUTPUT_DIR = output_dir\n",
        "\n",
        "    return cfg\n",
        "\n",
        "\n",
        "#==============================================================\n",
        "def load_yolo(image, weight, threshold):\n",
        "    start_time = time.time()\n",
        "    tracemalloc.start()\n",
        "    #-----------------------\n",
        "    image = cv2.resize(image, (640,640))\n",
        "\n",
        "    model = YOLO(weight)\n",
        "    results = model.predict(image, conf=threshold)\n",
        "    pred_boxes = results[0].boxes.xyxy.cpu().numpy()  # Predicted bounding boxes\n",
        "    pred_classes = results[0].boxes.data[:, 5].cpu().numpy()  # Predicted class IDs\n",
        "    pred_scores = results[0].boxes.data[:, 4].cpu().numpy()  # Confidence scores\n",
        "    #------------------------\n",
        "    current, peak = tracemalloc.get_traced_memory()\n",
        "    tracemalloc.stop()\n",
        "    end_time = time.time()\n",
        "    execution_time = end_time - start_time\n",
        "    execution_time = np.round(execution_time,2)\n",
        "\n",
        "    pred_boxes = rescale_bboxes(pred_boxes)\n",
        "    return pred_boxes, pred_classes, pred_scores, execution_time\n",
        "\n",
        "\n",
        "#==============================================================\n",
        "def load_detectron2(image, yaml_model, threshold, all_models=detectron_models, all_wgts=all_wgts, wgts_dir = wgts_dir):\n",
        "    start_time = time.time()\n",
        "    tracemalloc.start()\n",
        "    #------------------------------------\n",
        "    image = cv2.resize(image, (640,640))\n",
        "\n",
        "    model_index = all_models.index(yaml_model)\n",
        "    cfg = setup_config(yaml_model, wgts_dir)\n",
        "    cfg.MODEL.WEIGHTS = os.path.join(cfg.OUTPUT_DIR, all_wgts[model_index])\n",
        "\n",
        "    # Step 2: Create a Predictor\n",
        "    predictor = DefaultPredictor(cfg)\n",
        "    outputs = predictor(image)\n",
        "\n",
        "    custom_threshold = threshold\n",
        "    instances = outputs[\"instances\"]\n",
        "\n",
        "    # Extract the bounding boxes, class labels, and scores\n",
        "    boxes = instances.pred_boxes if instances.has(\"pred_boxes\") else None\n",
        "    scores = instances.scores if instances.has(\"scores\") else None\n",
        "    classes = instances.pred_classes if instances.has(\"pred_classes\") else None\n",
        "\n",
        "    # Filter predictions based on the custom threshold\n",
        "    filtered_indices = scores > custom_threshold\n",
        "    filtered_boxes = boxes[filtered_indices]\n",
        "    filtered_scores = scores[filtered_indices]\n",
        "    filtered_classes = classes[filtered_indices]\n",
        "\n",
        "    pred_boxes = filtered_boxes.tensor.to('cpu').tolist()\n",
        "    pred_scores = filtered_scores.to('cpu').tolist()\n",
        "    pred_classes = filtered_classes.to('cpu').tolist()\n",
        "    #-------------------------------------------------\n",
        "    current, peak = tracemalloc.get_traced_memory()\n",
        "    tracemalloc.stop()\n",
        "    end_time = time.time()\n",
        "    execution_time = end_time - start_time\n",
        "    execution_time = np.round(execution_time,2)\n",
        "\n",
        "    pred_boxes = rescale_bboxes(pred_boxes)\n",
        "    return pred_boxes, pred_classes, pred_scores, execution_time\n",
        "\n",
        "\n",
        "#==============================================================\n",
        "def create_video_writer(video_cap, output_filename):\n",
        "\n",
        "    # grab the width, height, and fps of the frames in the video stream.\n",
        "    frame_width = int(video_cap.get(cv2.CAP_PROP_FRAME_WIDTH))\n",
        "    frame_height = int(video_cap.get(cv2.CAP_PROP_FRAME_HEIGHT))\n",
        "    fps = int(video_cap.get(cv2.CAP_PROP_FPS))\n",
        "\n",
        "    # initialize the FourCC and a video writer object\n",
        "    fourcc = cv2.VideoWriter_fourcc(*'XVID')\n",
        "    writer = cv2.VideoWriter(output_filename, fourcc, fps,\n",
        "                             (frame_width, frame_height))\n",
        "\n",
        "    return writer"
      ],
      "metadata": {
        "execution": {
          "iopub.status.busy": "2024-10-01T05:30:35.870372Z",
          "iopub.execute_input": "2024-10-01T05:30:35.870685Z",
          "iopub.status.idle": "2024-10-01T05:30:35.887059Z",
          "shell.execute_reply.started": "2024-10-01T05:30:35.870651Z",
          "shell.execute_reply": "2024-10-01T05:30:35.886050Z"
        },
        "trusted": true,
        "id": "bpjFfCxwwf78"
      },
      "execution_count": null,
      "outputs": []
    },
    {
      "cell_type": "markdown",
      "source": [
        "# All Trackers"
      ],
      "metadata": {
        "id": "xgUnvpqAwf78"
      }
    },
    {
      "cell_type": "code",
      "source": [
        "tracker_DeepOCSORT = DeepOCSORT(\n",
        "    model_weights=Path('osnet_x0_25_msmt17.pt'), # which ReID model to use\n",
        "    device=device,\n",
        "    fp16=fp16,\n",
        "    det_thresh=0.1,      # Only detections with a confidence score above this threshold are considered valid and are passed to the tracking algorithm.\n",
        "    max_age=50,          # Specifies the maximum number of frames a tracker can go without being updated by a new detection before it is considered lost.\n",
        "    min_hits=3,          # Defines the minimum number of hits (consecutive frames with detections) needed to consider a track as confirmed.\n",
        "    iou_threshold=0.3,   # The Intersection over Union (IoU) threshold used for associating detections with existing tracks.\n",
        ")\n",
        "\n",
        "tracker_StrongSORT = StrongSORT(\n",
        "    model_weights=Path('mobilenetv2_x1_4_dukemtmcreid.pt'), # which ReID model to use\n",
        "    device=device,\n",
        "    fp16=fp16,\n",
        "    max_dist=0.1,             # Sets the maximum allowable distance (typically a cosine distance) between appearance features for matching detections to existing tracks.\n",
        "    max_iou_dist=0.3,         # Specifies the maximum Intersection over Union (IoU) distance allowed for associating detections with predicted tracks.\n",
        "    max_age=50,               # Defines the maximum number of frames a track can exist without being updated by a new detection before being considered lost.\n",
        "    max_unmatched_preds=7,    # Specifies the maximum number of unmatched predictions that can be retained.\n",
        "    n_init=3,                 # Sets the number of consecutive frames in which a detection must be associated with a track before it is confirmed.\n",
        "    nn_budget=100,            # Limits the number of appearance features stored for each track.\n",
        "    mc_lambda=0.995,          # A parameter related to motion compensation; it controls the decay rate of the motion model.\n",
        "    ema_alpha=0.9             # Sets the alpha value for the Exponential Moving Average (EMA) used to smooth the appearance features of a track.\n",
        ")\n",
        "\n",
        "tracker_BoTSORT = BoTSORT(\n",
        "    model_weights=Path('osnet_x0_25_msmt17.pt'),  # Update with the correct model path\n",
        "    device='cuda',  # or 'cuda' if using GPU\n",
        "    fp16=False,  # Set to True if using FP16 precision\n",
        "    track_high_thresh=0.1,\n",
        "    new_track_thresh=0.3,\n",
        "    track_buffer=50,\n",
        "    match_thresh=0.3,\n",
        "    frame_rate=15\n",
        ")\n",
        "\n",
        "tracker_BYTETracker =  BYTETracker(\n",
        "    track_thresh=0.1,  # Sets the threshold for the minimum confidence score required for a detection to be considered for tracking.\n",
        "    match_thresh=0.3,  # Specifies the threshold for matching existing tracks with new detections based on IoU (Intersection over Union) distance.\n",
        "    track_buffer=50,   # Determines the maximum number of frames that a track can remain without being updated by a new detection before being considered lost.\n",
        "    det_thresh =0.1,\n",
        "    frame_rate=15      # The frame rate of the input video, typically specified in frames per second (fps).\n",
        ")\n",
        "\n",
        "trackers_list = [tracker_DeepOCSORT, tracker_StrongSORT, tracker_BoTSORT, tracker_BYTETracker]\n",
        "trackers_names = ['DeepOCSORT', 'StrongSORT', 'BotSORT', 'ByteTracker']\n",
        "thresholds = [0.5, 0.3, 0.1, 1e-5]"
      ],
      "metadata": {
        "execution": {
          "iopub.status.busy": "2024-10-01T05:30:35.888263Z",
          "iopub.execute_input": "2024-10-01T05:30:35.888532Z",
          "iopub.status.idle": "2024-10-01T05:30:36.475655Z",
          "shell.execute_reply.started": "2024-10-01T05:30:35.888508Z",
          "shell.execute_reply": "2024-10-01T05:30:36.474622Z"
        },
        "trusted": true,
        "id": "szG8a14wwf79",
        "outputId": "b078fce6-bf39-4ac0-fb27-a70ffa6972b9"
      },
      "execution_count": null,
      "outputs": [
        {
          "name": "stderr",
          "text": "\u001b[32m2024-10-01 05:30:36.046\u001b[0m | \u001b[32m\u001b[1mSUCCESS \u001b[0m | \u001b[36mboxmot.appearance.reid_model_factory\u001b[0m:\u001b[36mload_pretrained_weights\u001b[0m:\u001b[36m187\u001b[0m - \u001b[32m\u001b[1mSuccessfully loaded pretrained weights from \"osnet_x0_25_msmt17.pt\"\u001b[0m\n\u001b[32m2024-10-01 05:30:36.047\u001b[0m | \u001b[33m\u001b[1mWARNING \u001b[0m | \u001b[36mboxmot.appearance.reid_model_factory\u001b[0m:\u001b[36mload_pretrained_weights\u001b[0m:\u001b[36m191\u001b[0m - \u001b[33m\u001b[1mThe following layers are discarded due to unmatched keys or layer size: ('classifier.weight', 'classifier.bias')\u001b[0m\n\u001b[32m2024-10-01 05:30:36.342\u001b[0m | \u001b[32m\u001b[1mSUCCESS \u001b[0m | \u001b[36mboxmot.appearance.reid_model_factory\u001b[0m:\u001b[36mload_pretrained_weights\u001b[0m:\u001b[36m187\u001b[0m - \u001b[32m\u001b[1mSuccessfully loaded pretrained weights from \"mobilenetv2_x1_4_dukemtmcreid.pt\"\u001b[0m\n\u001b[32m2024-10-01 05:30:36.344\u001b[0m | \u001b[33m\u001b[1mWARNING \u001b[0m | \u001b[36mboxmot.appearance.reid_model_factory\u001b[0m:\u001b[36mload_pretrained_weights\u001b[0m:\u001b[36m191\u001b[0m - \u001b[33m\u001b[1mThe following layers are discarded due to unmatched keys or layer size: ('classifier.weight', 'classifier.bias')\u001b[0m\n\u001b[32m2024-10-01 05:30:36.448\u001b[0m | \u001b[32m\u001b[1mSUCCESS \u001b[0m | \u001b[36mboxmot.appearance.reid_model_factory\u001b[0m:\u001b[36mload_pretrained_weights\u001b[0m:\u001b[36m187\u001b[0m - \u001b[32m\u001b[1mSuccessfully loaded pretrained weights from \"osnet_x0_25_msmt17.pt\"\u001b[0m\n\u001b[32m2024-10-01 05:30:36.449\u001b[0m | \u001b[33m\u001b[1mWARNING \u001b[0m | \u001b[36mboxmot.appearance.reid_model_factory\u001b[0m:\u001b[36mload_pretrained_weights\u001b[0m:\u001b[36m191\u001b[0m - \u001b[33m\u001b[1mThe following layers are discarded due to unmatched keys or layer size: ('classifier.weight', 'classifier.bias')\u001b[0m\n",
          "output_type": "stream"
        }
      ]
    },
    {
      "cell_type": "code",
      "source": [
        "for tracker_name in trackers_names:\n",
        "    tracker = trackers_list[trackers_names.index(tracker_name)]\n",
        "    out_dir = f'{Home}/Output/{tracker_name}/'\n",
        "    os.makedirs(out_dir, exist_ok=True)\n",
        "\n",
        "    for model_name in model_names:\n",
        "        for threshold in thresholds:\n",
        "            # ===================================================================\n",
        "            tracker = BYTETracker(frame_rate=15)\n",
        "            start_time = time.time()\n",
        "            tracemalloc.start()\n",
        "            # ===================================================================\n",
        "            # Extract ground truth\n",
        "            image = cv2.imread(first_frame)\n",
        "            with open(target_label, 'r') as f:\n",
        "                lines = f.readlines()\n",
        "\n",
        "            target_gt = lines[0].split()\n",
        "            target_gt = [float(x) for x in target_gt]  # convert string to float\n",
        "            target_bbox = xywhn_to_xyxy(target_gt[1], target_gt[2], target_gt[3], target_gt[4], image_width=image.shape[1], image_height=image.shape[0])\n",
        "            target_img = extract_target_img(image, target_bbox)\n",
        "\n",
        "            #=========================================================================\n",
        "            vid = cv2.VideoCapture(source)\n",
        "            #os.remove(out_dir + tracker_name +'.mp4') # delete old ones\n",
        "            #writer = create_video_writer(vid, out_dir + f'{tracker_name}_{model_name}_{threshold}.mp4')\n",
        "\n",
        "            tracker_predictions = []\n",
        "            frame_no = 0\n",
        "\n",
        "            show = False\n",
        "            debug = []\n",
        "            lets_debug = 0\n",
        "            frame_debug_start = 0\n",
        "            frame_debug_end = 0\n",
        "\n",
        "            while True:\n",
        "                ret, frame = vid.read()\n",
        "                #=========================================================================\n",
        "                if(lets_debug == 1):\n",
        "                    if(frame_no >frame_debug_start and frame_no < frame_debug_end):\n",
        "                        show=True\n",
        "                    elif(frame_no > frame_debug_end):\n",
        "                        break\n",
        "                    else:\n",
        "                        frame_no +=1\n",
        "                        continue\n",
        "                        clear_output(wait=False)\n",
        "                else:\n",
        "                    clear_output(wait=False)\n",
        "\n",
        "                #========================================================================\n",
        "\n",
        "              # if video frames end\n",
        "                if not ret:\n",
        "                    break\n",
        "                else:\n",
        "                    frame_no += 1\n",
        "                    print(f'Tracker:{tracker_name}  Model:{model_name}  Threshold:{threshold}  Frame No:{frame_no}')\n",
        "\n",
        "                if model_name == 'yolo':\n",
        "                    weight = wgts_dir + all_wgts[model_names.index(model_name)]\n",
        "                    pred_boxes, pred_classes, pred_scores, execution_time = load_yolo(frame.copy(), weight, threshold)\n",
        "                else:\n",
        "                    yaml_model = detectron_models[model_names.index(model_name)]\n",
        "                    pred_boxes, pred_classes, pred_scores, execution_time = load_detectron2(frame.copy(), yaml_model, threshold)\n",
        "\n",
        "\n",
        "                filtered_index = filter_bboxes(frame.copy(), pred_boxes, target_img, threshold=0.8, show_filter_img=show, show_scores=show)\n",
        "                if filtered_index == -1:\n",
        "                    dets = np.empty((0, 6))\n",
        "                else:\n",
        "                    dets = list(pred_boxes[filtered_index])\n",
        "                    dets.append(pred_scores[filtered_index])\n",
        "                    dets.append(pred_classes[filtered_index])\n",
        "                    dets = np.array([dets])\n",
        "\n",
        "                ts = tracker.update(dets, frame.copy()) # --> ts output = (x1, y1, x2, y2, id, conf, cls)\n",
        "                if show:\n",
        "                    print('Filter Index:', filtered_index)\n",
        "                    print('Detection:', dets)\n",
        "                    print('Tracker Output:', ts)\n",
        "\n",
        "                xyxys = ts[:,0:4].astype('int') # float64 to int\n",
        "                ids = ts[:, 4].astype('int') # float64 to int\n",
        "                confs = np.round(ts[:, 5], 2)\n",
        "                clss = ts[:, 6]\n",
        "\n",
        "              # print bboxes with their associated id, cls and conf\n",
        "                for xyxy, id, conf, cls in zip(xyxys, ids, confs, clss):\n",
        "                    im = cv2.rectangle(\n",
        "                    frame,\n",
        "                    (xyxy[0], xyxy[1]),\n",
        "                    (xyxy[2], xyxy[3]),\n",
        "                    color,\n",
        "                    thickness\n",
        "                    )\n",
        "\n",
        "                    cv2.putText(\n",
        "                    frame,\n",
        "                    f'id: {id}, conf: {conf}, c: {cls}',\n",
        "                    (xyxy[0], xyxy[1]-10),\n",
        "                    cv2.FONT_HERSHEY_SIMPLEX,\n",
        "                    fontscale,\n",
        "                    color,\n",
        "                    thickness\n",
        "                    )\n",
        "                    break\n",
        "\n",
        "                height, width = image.shape[:2]\n",
        "                text = f'Frame: {frame_no}'\n",
        "                position = (width - 300, 30)\n",
        "                cv2.putText(frame, text, position, cv2.FONT_HERSHEY_SIMPLEX, fontscale, color, thickness)\n",
        "                # save tracker predictions for benchmark\n",
        "                # <frame_no>, <tracke_obj_id>, <bb_left>, <bb_top>, <bb_width>, <bb_height>, <conf>, -1 -1 -1\n",
        "                # <frame_no>, <tracke_obj_id>, <x1>, <y1>, <x2-x1>, <y2-y1>, <conf>, -1 -1 -1\n",
        "                try:\n",
        "                    pred = f\"{frame_no}, {id}, {xyxy[0]}, {xyxy[1]}, {xyxy[2]-xyxy[0]}, {xyxy[2]-xyxy[0]}, {conf}, -1, -1, -1\"\n",
        "                except:\n",
        "                    xyxy = [-1,-1,-1,-1]\n",
        "                    id = -1\n",
        "                    conf = -1\n",
        "                    pred = f\"{frame_no}, {id}, {xyxy[0]}, {xyxy[1]}, {xyxy[2]-xyxy[0]}, {xyxy[2]-xyxy[0]}, {conf}, -1, -1, -1\"\n",
        "\n",
        "                tracker_predictions.append(pred)\n",
        "\n",
        "                #debug_txt = f'{frame_no}, Dets:{dets}, Ts:{ts}'\n",
        "                #debug.append(debug_txt)\n",
        "\n",
        "                if show:\n",
        "                    cv2_imshow(frame, title=f'{frame_no}')\n",
        "\n",
        "                #writer.write(frame)\n",
        "\n",
        "\n",
        "            #vid.release()\n",
        "            #writer.release()\n",
        "            # ===================================================================\n",
        "            current, peak = tracemalloc.get_traced_memory()\n",
        "            tracemalloc.stop()\n",
        "\n",
        "            # Calculate the time taken\n",
        "            end_time = time.time()\n",
        "            execution_time = end_time - start_time\n",
        "\n",
        "            Execution_time = np.round(execution_time,2)\n",
        "            Current_memory = np.round(current / 1024 / 1024, 2)\n",
        "            Peak_memory = np.round(peak / 1024 / 1024, 2)\n",
        "\n",
        "            simulation_performance = [Execution_time, Current_memory, Peak_memory]\n",
        "            # ===================================================================\n",
        "            with open(out_dir + f'{tracker_name}_{model_name}_{threshold}_pred.txt', 'w') as mot_file:\n",
        "                for pred in tracker_predictions:\n",
        "                        mot_file.write(pred + '\\n')\n",
        "\n",
        "\n",
        "            with open(out_dir + f'{tracker_name}_{model_name}_{threshold}_simulation_performance.txt', 'w') as file:\n",
        "                    file.write(f'Execution_time \\t Current_memory \\t Peak_memory \\n')\n",
        "                    file.write(f'{Execution_time} \\t {Current_memory} \\t {Peak_memory} \\n')\n",
        "\n",
        "\n",
        "print(\"Task Completed\")"
      ],
      "metadata": {
        "execution": {
          "iopub.status.busy": "2024-10-01T05:30:36.478312Z",
          "iopub.execute_input": "2024-10-01T05:30:36.478665Z",
          "iopub.status.idle": "2024-10-01T06:38:34.441464Z",
          "shell.execute_reply.started": "2024-10-01T05:30:36.478638Z",
          "shell.execute_reply": "2024-10-01T06:38:34.440556Z"
        },
        "trusted": true,
        "id": "nJfsl_lYwf79",
        "outputId": "9bf25936-68a0-4691-e416-6fae6ba57498"
      },
      "execution_count": null,
      "outputs": [
        {
          "name": "stdout",
          "text": "Task Completed\n",
          "output_type": "stream"
        }
      ]
    },
    {
      "cell_type": "markdown",
      "source": [
        "# Edit python files"
      ],
      "metadata": {
        "id": "PSOSIJ6iwf7-"
      }
    },
    {
      "cell_type": "code",
      "source": [
        "# Edit .py file in GitHub and Upload to Kaggle\n",
        "\n",
        "import shutil\n",
        "import os\n",
        "\n",
        "Home = '/kaggle/working/'\n",
        "shutil.rmtree('/kaggle/working/Random-Custom-Functions')\n",
        "\n",
        "%cd {Home}\n",
        "!git clone https://github.com/tasnemul-hasan/Random-Custom-Functions.git\n",
        "\n",
        "src_list=['deep_ocsort.py', 'strong_sort.py', 'bot_sort.py', 'byte_tracker.py']\n",
        "dest_trsckers = ['deepocsort', 'strongsort', 'botsort', 'bytetrack']\n",
        "\n",
        "for i in range(4):\n",
        "    # Define source and destination paths\n",
        "    source_path = f'/kaggle/working/Random-Custom-Functions/YoloTracking/{src_list[i]}'\n",
        "    destination_path = f'/kaggle/working/yolo_tracking/boxmot/trackers/{dest_trsckers[i]}/{src_list[i]}'\n",
        "\n",
        "    os.remove(destination_path)\n",
        "    shutil.copyfile(source_path, destination_path)\n",
        "\n",
        "    print(destination_path)"
      ],
      "metadata": {
        "execution": {
          "iopub.status.busy": "2024-10-01T06:45:01.541832Z",
          "iopub.execute_input": "2024-10-01T06:45:01.542299Z",
          "iopub.status.idle": "2024-10-01T06:45:03.420996Z",
          "shell.execute_reply.started": "2024-10-01T06:45:01.542262Z",
          "shell.execute_reply": "2024-10-01T06:45:03.419651Z"
        },
        "trusted": true,
        "id": "Hm_sYHXDwf7-",
        "outputId": "499185a7-0e45-4492-ee0b-612dc97eded2"
      },
      "execution_count": null,
      "outputs": [
        {
          "name": "stdout",
          "text": "/kaggle/working\nCloning into 'Random-Custom-Functions'...\nremote: Enumerating objects: 224, done.\u001b[K\nremote: Counting objects: 100% (24/24), done.\u001b[K\nremote: Compressing objects: 100% (23/23), done.\u001b[K\nremote: Total 224 (delta 9), reused 1 (delta 1), pack-reused 200 (from 1)\u001b[K\nReceiving objects: 100% (224/224), 75.96 KiB | 1.19 MiB/s, done.\nResolving deltas: 100% (61/61), done.\n/kaggle/working/yolo_tracking/boxmot/trackers/deepocsort/deep_ocsort.py\n/kaggle/working/yolo_tracking/boxmot/trackers/strongsort/strong_sort.py\n/kaggle/working/yolo_tracking/boxmot/trackers/botsort/bot_sort.py\n/kaggle/working/yolo_tracking/boxmot/trackers/bytetrack/byte_tracker.py\n",
          "output_type": "stream"
        },
        {
          "execution_count": 1,
          "output_type": "execute_result",
          "data": {
            "text/plain": "\"\\n# Make Zip to download all results\\n\\nOUTPUT_NAME = f'/kaggle/working/Tracker_Output'\\nDIRECTORY_TO_ZIP = f'/kaggle/working/Output'\\n\\nprint(DIRECTORY_TO_ZIP)\\nshutil.make_archive(OUTPUT_NAME, 'zip', DIRECTORY_TO_ZIP)\\n\""
          },
          "metadata": {}
        }
      ]
    },
    {
      "cell_type": "markdown",
      "source": [
        "# Tracker Output Modification"
      ],
      "metadata": {
        "id": "4fM4c3jawf7-"
      }
    },
    {
      "cell_type": "code",
      "source": [
        "# Replace the second column of the DataFrame with the modified list\n",
        "import pandas as pd\n",
        "\n",
        "model_names = ['faster_rcnn', 'retinanet', 'cascade_rcnn', 'yolo']\n",
        "trackers_names = ['DeepOCSORT', 'StrongSORT', 'BotSORT', 'ByteTracker']\n",
        "thresholds = [0.5, 0.3, 0.1, 1e-5]\n",
        "\n",
        "for tracker_name in trackers_names:\n",
        "    print(tracker_name)\n",
        "    for model_name in model_names:\n",
        "        for threshold in thresholds:\n",
        "            # Load the data from the text file into a DataFrame\n",
        "            dir_name = f'/kaggle/working/Output/{tracker_name}/'\n",
        "            file_name = f'{tracker_name}_{model_name}_{threshold}_pred.txt'\n",
        "            data = pd.read_csv(dir_name + file_name, header=None)\n",
        "\n",
        "            # Extract the second column as a list\n",
        "            second_column = data[1].tolist()\n",
        "\n",
        "            # Subtract all values in the list from first_ID then add 1\n",
        "            first_ID = second_column[0]\n",
        "            modified_list = [(abs(first_ID-value)+1) for value in second_column]\n",
        "\n",
        "            data[1] = modified_list\n",
        "\n",
        "            # Save the modified DataFrame to a new text file\n",
        "            output_file = dir_name + 'Mod_'+ file_name\n",
        "            data.to_csv(output_file, header=False, index=False, sep=',')"
      ],
      "metadata": {
        "execution": {
          "iopub.status.busy": "2024-10-01T07:03:14.508804Z",
          "iopub.execute_input": "2024-10-01T07:03:14.509427Z",
          "iopub.status.idle": "2024-10-01T07:03:15.227989Z",
          "shell.execute_reply.started": "2024-10-01T07:03:14.509379Z",
          "shell.execute_reply": "2024-10-01T07:03:15.226571Z"
        },
        "trusted": true,
        "id": "JEXGIr8gwf7-",
        "outputId": "62f2d35c-6dfa-479d-8437-7eed145b1951"
      },
      "execution_count": null,
      "outputs": [
        {
          "name": "stdout",
          "text": "DeepOCSORT\nStrongSORT\nBotSORT\nByteTracker\n",
          "output_type": "stream"
        }
      ]
    },
    {
      "cell_type": "markdown",
      "source": [
        "# Tracker Evaluation"
      ],
      "metadata": {
        "id": "0oqWo5MYwf7-"
      }
    },
    {
      "cell_type": "code",
      "source": [
        "import shutil\n",
        "import os\n",
        "\n",
        "model_names = ['faster_rcnn', 'retinanet', 'cascade_rcnn', 'yolo']\n",
        "trackers_names = ['DeepOCSORT', 'StrongSORT', 'BotSORT', 'ByteTracker']\n",
        "thresholds = [0.5, 0.3, 0.1, 1e-5]\n",
        "\n",
        "dest_folder = '/kaggle/working/TrackEval/data/trackers/mot_challenge/TestVideo4-train/'\n",
        "src_tracker_folder = '/kaggle/working/TrackEval/data/trackers/mot_challenge/TestVideo4-train/PerfectTracker'\n",
        "\n",
        "\n",
        "for tracker_name in trackers_names:\n",
        "    print(tracker_name)\n",
        "    for model_name in model_names:\n",
        "        for threshold in thresholds:\n",
        "            # Load the data from the text file into a DataFrame\n",
        "            new_folder_name = f'{tracker_name}_{model_name}_{threshold}'\n",
        "            dest_tracker_folder = dest_folder+new_folder_name\n",
        "            if os.path.exists(dest_tracker_folder):\n",
        "                # Remove the destination folder if it exists\n",
        "                shutil.rmtree(dest_tracker_folder)\n",
        "            shutil.copytree(src_tracker_folder, dest_tracker_folder)\n",
        "\n",
        "            src_txt_dir = f'/kaggle/working/Output/{tracker_name}/'\n",
        "            src_txt_file_name = src_txt_dir + f'Mod_{tracker_name}_{model_name}_{threshold}_pred.txt'\n",
        "            dest_txt_file_name = dest_tracker_folder + '/data/TestVideo4-01.txt'\n",
        "            shutil.copyfile(src_txt_file_name, dest_txt_file_name)"
      ],
      "metadata": {
        "execution": {
          "iopub.status.busy": "2024-10-01T07:03:40.312097Z",
          "iopub.execute_input": "2024-10-01T07:03:40.312782Z",
          "iopub.status.idle": "2024-10-01T07:03:40.428389Z",
          "shell.execute_reply.started": "2024-10-01T07:03:40.312741Z",
          "shell.execute_reply": "2024-10-01T07:03:40.426954Z"
        },
        "trusted": true,
        "id": "5WPzJVRywf7-",
        "outputId": "828bc962-ea00-499e-c15a-2a11c207ee55"
      },
      "execution_count": null,
      "outputs": [
        {
          "name": "stdout",
          "text": "DeepOCSORT\nStrongSORT\nBotSORT\nByteTracker\n",
          "output_type": "stream"
        }
      ]
    },
    {
      "cell_type": "code",
      "source": [
        "%cd /kaggle/working/TrackEval\n",
        "\n",
        "!python scripts/run_mot_challenge.py --BENCHMARK TestVideo4 --SPLIT_TO_EVAL train --METRICS HOTA CLEAR Identity VACE --USE_PARALLEL False --NUM_PARALLEL_CORES 1\n"
      ],
      "metadata": {
        "execution": {
          "iopub.status.busy": "2024-10-01T07:03:53.055854Z",
          "iopub.execute_input": "2024-10-01T07:03:53.056326Z",
          "iopub.status.idle": "2024-10-01T07:05:28.507654Z",
          "shell.execute_reply.started": "2024-10-01T07:03:53.056290Z",
          "shell.execute_reply": "2024-10-01T07:05:28.505747Z"
        },
        "collapsed": true,
        "jupyter": {
          "outputs_hidden": true
        },
        "trusted": true,
        "id": "oPsMVlarwf7_",
        "outputId": "e7c658e9-6271-4897-b3f7-cda2b2683608"
      },
      "execution_count": null,
      "outputs": [
        {
          "name": "stdout",
          "text": "/kaggle/working/TrackEval\n/opt/conda/lib/python3.10/site-packages/scipy/__init__.py:146: UserWarning: A NumPy version >=1.16.5 and <1.23.0 is required for this version of SciPy (detected version 1.23.5\n  warnings.warn(f\"A NumPy version >={np_minversion} and <{np_maxversion}\"\nError importing BURST due to missing underlying dependency: No module named 'pycocotools'\n\nEval Config:\nUSE_PARALLEL         : False                         \nNUM_PARALLEL_CORES   : 1                             \nBREAK_ON_ERROR       : True                          \nRETURN_ON_ERROR      : False                         \nLOG_ON_ERROR         : /kaggle/working/TrackEval/error_log.txt\nPRINT_RESULTS        : True                          \nPRINT_ONLY_COMBINED  : False                         \nPRINT_CONFIG         : True                          \nTIME_PROGRESS        : True                          \nDISPLAY_LESS_PROGRESS : False                         \nOUTPUT_SUMMARY       : True                          \nOUTPUT_EMPTY_CLASSES : True                          \nOUTPUT_DETAILED      : True                          \nPLOT_CURVES          : True                          \n\nMotChallenge2DBox Config:\nPRINT_CONFIG         : True                          \nGT_FOLDER            : /kaggle/working/TrackEval/data/gt/mot_challenge/\nTRACKERS_FOLDER      : /kaggle/working/TrackEval/data/trackers/mot_challenge/\nOUTPUT_FOLDER        : None                          \nTRACKERS_TO_EVAL     : None                          \nCLASSES_TO_EVAL      : ['target_vehicle']            \nBENCHMARK            : TestVideo4                    \nSPLIT_TO_EVAL        : train                         \nINPUT_AS_ZIP         : False                         \nDO_PREPROC           : False                         \nTRACKER_SUB_FOLDER   : data                          \nOUTPUT_SUB_FOLDER    :                               \nTRACKER_DISPLAY_NAMES : None                          \nSEQMAP_FOLDER        : None                          \nSEQMAP_FILE          : None                          \nSEQ_INFO             : None                          \nGT_LOC_FORMAT        : {gt_folder}/{seq}/gt/gt.txt   \nSKIP_SPLIT_FOL       : False                         \n\nCLEAR Config:\nMETRICS              : ['HOTA', 'CLEAR', 'Identity', 'VACE']\nTHRESHOLD            : 0.5                           \nPRINT_CONFIG         : True                          \n\nIdentity Config:\nMETRICS              : ['HOTA', 'CLEAR', 'Identity', 'VACE']\nTHRESHOLD            : 0.5                           \nPRINT_CONFIG         : True                          \n\nEvaluating 65 tracker(s) on 1 sequence(s) for 1 class(es) on MotChallenge2DBox dataset using the following metrics: HOTA, CLEAR, Identity, VACE, Count\n\n\nEvaluating StrongSORT_retinanet_0.3\n\n    MotChallenge2DBox.get_raw_seq_data(StrongSORT_retinanet_0.3, TestVideo4-01) 0.1501 sec\n    MotChallenge2DBox.get_preprocessed_seq_data(target_vehicle)            0.2388 sec\n    HOTA.eval_sequence()                                                   0.3624 sec\n    CLEAR.eval_sequence()                                                  0.0708 sec\n    Identity.eval_sequence()                                               0.0231 sec\n    VACE.eval_sequence()                                                   0.0455 sec\n    Count.eval_sequence()                                                  0.0000 sec\n1 eval_sequence(TestVideo4-01, StrongSORT_retinanet_0.3)                 0.8947 sec\n\nAll sequences for StrongSORT_retinanet_0.3 finished in 0.90 seconds\n\nHOTA: StrongSORT_retinanet_0.3-target_vehicleHOTA      DetA      AssA      DetRe     DetPr     AssRe     AssPr     LocA      OWTA      HOTA(0)   LocA(0)   HOTALocA(0)\nTestVideo4-01                      25.565    28.458    23.158    40.929    40.761    24.807    62.798    73.56     30.746    39.215    62.769    24.615    \nCOMBINED                           25.565    28.458    23.158    40.929    40.761    24.807    62.798    73.56     30.746    39.215    62.769    24.615    \n\nCLEAR: StrongSORT_retinanet_0.3-target_vehicleMOTA      MOTP      MODA      CLR_Re    CLR_Pr    MTR       PTR       MLR       sMOTA     CLR_TP    CLR_FN    CLR_FP    IDSW      MT        PT        ML        Frag      \nTestVideo4-01                      14.933    66.772    15.345    57.878    57.641    0         100       0         -4.2988   562       409       413       4         0         1         0         50        \nCOMBINED                           14.933    66.772    15.345    57.878    57.641    0         100       0         -4.2988   562       409       413       4         0         1         0         50        \n\nIdentity: StrongSORT_retinanet_0.3-target_vehicleIDF1      IDR       IDP       IDTP      IDFN      IDFP      \nTestVideo4-01                      42.96     43.048    42.872    418       553       557       \nCOMBINED                           42.96     43.048    42.872    418       553       557       \n\nVACE: StrongSORT_retinanet_0.3-target_vehicleSFDA      ATA       \nTestVideo4-01                      40.4      1.6245    \nCOMBINED                           40.4      1.6245    \n\nCount: StrongSORT_retinanet_0.3-target_vehicleDets      GT_Dets   IDs       GT_IDs    \nTestVideo4-01                      975       971       52        1         \nCOMBINED                           975       971       52        1         \n\nEvaluating BotSORT_retinanet_1e-05\n\n    MotChallenge2DBox.get_raw_seq_data(BotSORT_retinanet_1e-05, TestVideo4-01) 0.1451 sec\n    MotChallenge2DBox.get_preprocessed_seq_data(target_vehicle)            0.2400 sec\n    HOTA.eval_sequence()                                                   0.3169 sec\n    CLEAR.eval_sequence()                                                  0.0739 sec\n    Identity.eval_sequence()                                               0.0250 sec\n    VACE.eval_sequence()                                                   0.0463 sec\n    Count.eval_sequence()                                                  0.0000 sec\n2 eval_sequence(TestVideo4-01, BotSORT_retinanet_1e-05)                  0.8524 sec\n\nAll sequences for BotSORT_retinanet_1e-05 finished in 0.85 seconds\n\nHOTA: BotSORT_retinanet_1e-05-target_vehicleHOTA      DetA      AssA      DetRe     DetPr     AssRe     AssPr     LocA      OWTA      HOTA(0)   LocA(0)   HOTALocA(0)\nTestVideo4-01                      5.07      9.9277    2.6408    17.183    17.112    2.7356    64.719    68.287    6.6744    11.282    45.082    5.0861    \nCOMBINED                           5.07      9.9277    2.6408    17.183    17.112    2.7356    64.719    68.287    6.6744    11.282    45.082    5.0861    \n\nCLEAR: BotSORT_retinanet_1e-05-target_vehicleMOTA      MOTP      MODA      CLR_Re    CLR_Pr    MTR       PTR       MLR       sMOTA     CLR_TP    CLR_FN    CLR_FP    IDSW      MT        PT        ML        Frag      \nTestVideo4-01                      -72.4     67.354    -70.34    15.036    14.974    0         0         100       -77.308   146       825       829       20        0         0         1         12        \nCOMBINED                           -72.4     67.354    -70.34    15.036    14.974    0         0         100       -77.308   146       825       829       20        0         0         1         12        \n\nIdentity: BotSORT_retinanet_1e-05-target_vehicleIDF1      IDR       IDP       IDTP      IDFN      IDFP      \nTestVideo4-01                      4.2138    4.2225    4.2051    41        930       934       \nCOMBINED                           4.2138    4.2225    4.2051    41        930       934       \n\nVACE: BotSORT_retinanet_1e-05-target_vehicleSFDA      ATA       \nTestVideo4-01                      17.264    0.12992   \nCOMBINED                           17.264    0.12992   \n\nCount: BotSORT_retinanet_1e-05-target_vehicleDets      GT_Dets   IDs       GT_IDs    \nTestVideo4-01                      975       971       64        1         \nCOMBINED                           975       971       64        1         \n\nEvaluating StrongSORT_yolo_0.3\n\n    MotChallenge2DBox.get_raw_seq_data(StrongSORT_yolo_0.3, TestVideo4-01) 0.1768 sec\n    MotChallenge2DBox.get_preprocessed_seq_data(target_vehicle)            0.2616 sec\n    HOTA.eval_sequence()                                                   0.3984 sec\n    CLEAR.eval_sequence()                                                  0.0730 sec\n    Identity.eval_sequence()                                               0.0238 sec\n    VACE.eval_sequence()                                                   0.0460 sec\n    Count.eval_sequence()                                                  0.0000 sec\n3 eval_sequence(TestVideo4-01, StrongSORT_yolo_0.3)                      0.9836 sec\n\nAll sequences for StrongSORT_yolo_0.3 finished in 0.98 seconds\n\nHOTA: StrongSORT_yolo_0.3-target_vehicleHOTA      DetA      AssA      DetRe     DetPr     AssRe     AssPr     LocA      OWTA      HOTA(0)   LocA(0)   HOTALocA(0)\nTestVideo4-01                      34.472    42.571    28.144    53.152    52.934    30.681    62.072    73.176    38.648    55.173    63.453    35.009    \nCOMBINED                           34.472    42.571    28.144    53.152    52.934    30.681    62.072    73.176    38.648    55.173    63.453    35.009    \n\nCLEAR: StrongSORT_yolo_0.3-target_vehicleMOTA      MOTP      MODA      CLR_Re    CLR_Pr    MTR       PTR       MLR       sMOTA     CLR_TP    CLR_FN    CLR_FP    IDSW      MT        PT        ML        Frag      \nTestVideo4-01                      53.141    65.356    53.244    76.828    76.513    0         100       0         26.525    746       225       229       1         0         1         0         24        \nCOMBINED                           53.141    65.356    53.244    76.828    76.513    0         100       0         26.525    746       225       229       1         0         1         0         24        \n\nIdentity: StrongSORT_yolo_0.3-target_vehicleIDF1      IDR       IDP       IDTP      IDFN      IDFP      \nTestVideo4-01                      50.36     50.463    50.256    490       481       485       \nCOMBINED                           50.36     50.463    50.256    490       481       485       \n\nVACE: StrongSORT_yolo_0.3-target_vehicleSFDA      ATA       \nTestVideo4-01                      52.4      5.0463    \nCOMBINED                           52.4      5.0463    \n\nCount: StrongSORT_yolo_0.3-target_vehicleDets      GT_Dets   IDs       GT_IDs    \nTestVideo4-01                      975       971       19        1         \nCOMBINED                           975       971       19        1         \n\nEvaluating BotSORT_retinanet_0.1\n\n    MotChallenge2DBox.get_raw_seq_data(BotSORT_retinanet_0.1, TestVideo4-01) 0.1471 sec\n    MotChallenge2DBox.get_preprocessed_seq_data(target_vehicle)            0.2405 sec\n    HOTA.eval_sequence()                                                   0.3251 sec\n    CLEAR.eval_sequence()                                                  0.0692 sec\n    Identity.eval_sequence()                                               0.0236 sec\n    VACE.eval_sequence()                                                   0.0454 sec\n    Count.eval_sequence()                                                  0.0000 sec\n4 eval_sequence(TestVideo4-01, BotSORT_retinanet_0.1)                    0.8549 sec\n\nAll sequences for BotSORT_retinanet_0.1 finished in 0.86 seconds\n\nHOTA: BotSORT_retinanet_0.1-target_vehicleHOTA      DetA      AssA      DetRe     DetPr     AssRe     AssPr     LocA      OWTA      HOTA(0)   LocA(0)   HOTALocA(0)\nTestVideo4-01                      6.4928    16.929    2.6653    27.329    27.217    2.7104    81.902    71.412    8.3011    10.252    57.487    5.8935    \nCOMBINED                           6.4928    16.929    2.6653    27.329    27.217    2.7104    81.902    71.412    8.3011    10.252    57.487    5.8935    \n\nCLEAR: BotSORT_retinanet_0.1-target_vehicleMOTA      MOTP      MODA      CLR_Re    CLR_Pr    MTR       PTR       MLR       sMOTA     CLR_TP    CLR_FN    CLR_FP    IDSW      MT        PT        ML        Frag      \nTestVideo4-01                      -34.809   65.887    -29.145   35.633    35.487    0         100       0         -46.965   346       625       629       55        0         1         0         44        \nCOMBINED                           -34.809   65.887    -29.145   35.633    35.487    0         100       0         -46.965   346       625       629       55        0         1         0         44        \n\nIdentity: BotSORT_retinanet_0.1-target_vehicleIDF1      IDR       IDP       IDTP      IDFN      IDFP      \nTestVideo4-01                      7.8109    7.827     7.7949    76        895       899       \nCOMBINED                           7.8109    7.827     7.7949    76        895       899       \n\nVACE: BotSORT_retinanet_0.1-target_vehicleSFDA      ATA       \nTestVideo4-01                      26.986    0.11262   \nCOMBINED                           26.986    0.11262   \n\nCount: BotSORT_retinanet_0.1-target_vehicleDets      GT_Dets   IDs       GT_IDs    \nTestVideo4-01                      975       971       138       1         \nCOMBINED                           975       971       138       1         \n\nEvaluating ByteTracker_faster_rcnn_0.1\n\n    MotChallenge2DBox.get_raw_seq_data(ByteTracker_faster_rcnn_0.1, TestVideo4-01) 0.1459 sec\n    MotChallenge2DBox.get_preprocessed_seq_data(target_vehicle)            0.2418 sec\n    HOTA.eval_sequence()                                                   0.3294 sec\n    CLEAR.eval_sequence()                                                  0.0694 sec\n    Identity.eval_sequence()                                               0.0234 sec\n    VACE.eval_sequence()                                                   0.0457 sec\n    Count.eval_sequence()                                                  0.0000 sec\n5 eval_sequence(TestVideo4-01, ByteTracker_faster_rcnn_0.1)              0.8596 sec\n\nAll sequences for ByteTracker_faster_rcnn_0.1 finished in 0.86 seconds\n\nHOTA: ByteTracker_faster_rcnn_0.1-target_vehicleHOTA      DetA      AssA      DetRe     DetPr     AssRe     AssPr     LocA      OWTA      HOTA(0)   LocA(0)   HOTALocA(0)\nTestVideo4-01                      12.566    19.377    8.9754    30.831    30.704    9.1244    78.542    73.896    15.992    16.893    60.684    10.252    \nCOMBINED                           12.566    19.377    8.9754    30.831    30.704    9.1244    78.542    73.896    15.992    16.893    60.684    10.252    \n\nCLEAR: ByteTracker_faster_rcnn_0.1-target_vehicleMOTA      MOTP      MODA      CLR_Re    CLR_Pr    MTR       PTR       MLR       sMOTA     CLR_TP    CLR_FN    CLR_FP    IDSW      MT        PT        ML        Frag      \nTestVideo4-01                      -25.438   69.568    -22.348   39.032    38.872    0         100       0         -37.316   379       592       596       30        0         1         0         37        \nCOMBINED                           -25.438   69.568    -22.348   39.032    38.872    0         100       0         -37.316   379       592       596       30        0         1         0         37        \n\nIdentity: ByteTracker_faster_rcnn_0.1-target_vehicleIDF1      IDR       IDP       IDTP      IDFN      IDFP      \nTestVideo4-01                      18.397    18.435    18.359    179       792       796       \nCOMBINED                           18.397    18.435    18.359    179       792       796       \n\nVACE: ByteTracker_faster_rcnn_0.1-target_vehicleSFDA      ATA       \nTestVideo4-01                      30.502    0.3047    \nCOMBINED                           30.502    0.3047    \n\nCount: ByteTracker_faster_rcnn_0.1-target_vehicleDets      GT_Dets   IDs       GT_IDs    \nTestVideo4-01                      975       971       120       1         \nCOMBINED                           975       971       120       1         \n\nEvaluating StrongSORT_faster_rcnn_1e-05\n\n    MotChallenge2DBox.get_raw_seq_data(StrongSORT_faster_rcnn_1e-05, TestVideo4-01) 0.1472 sec\n    MotChallenge2DBox.get_preprocessed_seq_data(target_vehicle)            0.2407 sec\n    HOTA.eval_sequence()                                                   0.3342 sec\n    CLEAR.eval_sequence()                                                  0.0701 sec\n    Identity.eval_sequence()                                               0.0228 sec\n    VACE.eval_sequence()                                                   0.0477 sec\n    Count.eval_sequence()                                                  0.0000 sec\n6 eval_sequence(TestVideo4-01, StrongSORT_faster_rcnn_1e-05)             0.8670 sec\n\nAll sequences for StrongSORT_faster_rcnn_1e-05 finished in 0.87 seconds\n\nHOTA: StrongSORT_faster_rcnn_1e-05-target_vehicleHOTA      DetA      AssA      DetRe     DetPr     AssRe     AssPr     LocA      OWTA      HOTA(0)   LocA(0)   HOTALocA(0)\nTestVideo4-01                      16.757    20.317    14.166    31.817    31.687    15.193    57.352    73.125    21.065    25.534    60.745    15.511    \nCOMBINED                           16.757    20.317    14.166    31.817    31.687    15.193    57.352    73.125    21.065    25.534    60.745    15.511    \n\nCLEAR: StrongSORT_faster_rcnn_1e-05-target_vehicleMOTA      MOTP      MODA      CLR_Re    CLR_Pr    MTR       PTR       MLR       sMOTA     CLR_TP    CLR_FN    CLR_FP    IDSW      MT        PT        ML        Frag      \nTestVideo4-01                      -17.611   67.515    -16.993   41.71     41.538    0         100       0         -31.16    405       566       570       6         0         1         0         46        \nCOMBINED                           -17.611   67.515    -16.993   41.71     41.538    0         100       0         -31.16    405       566       570       6         0         1         0         46        \n\nIdentity: StrongSORT_faster_rcnn_1e-05-target_vehicleIDF1      IDR       IDP       IDTP      IDFN      IDFP      \nTestVideo4-01                      27.03     27.085    26.974    263       708       712       \nCOMBINED                           27.03     27.085    26.974    263       708       712       \n\nVACE: StrongSORT_faster_rcnn_1e-05-target_vehicleSFDA      ATA       \nTestVideo4-01                      31.433    1.9347    \nCOMBINED                           31.433    1.9347    \n\nCount: StrongSORT_faster_rcnn_1e-05-target_vehicleDets      GT_Dets   IDs       GT_IDs    \nTestVideo4-01                      975       971       27        1         \nCOMBINED                           975       971       27        1         \n\nEvaluating StrongSORT_cascade_rcnn_0.5\n\n    MotChallenge2DBox.get_raw_seq_data(StrongSORT_cascade_rcnn_0.5, TestVideo4-01) 0.1465 sec\n    MotChallenge2DBox.get_preprocessed_seq_data(target_vehicle)            0.2423 sec\n    HOTA.eval_sequence()                                                   0.3704 sec\n    CLEAR.eval_sequence()                                                  0.0716 sec\n    Identity.eval_sequence()                                               0.0231 sec\n    VACE.eval_sequence()                                                   0.0454 sec\n    Count.eval_sequence()                                                  0.0000 sec\n7 eval_sequence(TestVideo4-01, StrongSORT_cascade_rcnn_0.5)              0.9033 sec\n\nAll sequences for StrongSORT_cascade_rcnn_0.5 finished in 0.90 seconds\n\nHOTA: StrongSORT_cascade_rcnn_0.5-target_vehicleHOTA      DetA      AssA      DetRe     DetPr     AssRe     AssPr     LocA      OWTA      HOTA(0)   LocA(0)   HOTALocA(0)\nTestVideo4-01                      23.552    31.128    18.401    43.552    43.374    19.655    62.079    73.02     28.063    35.694    61.803    22.06     \nCOMBINED                           23.552    31.128    18.401    43.552    43.374    19.655    62.079    73.02     28.063    35.694    61.803    22.06     \n\nCLEAR: StrongSORT_cascade_rcnn_0.5-target_vehicleMOTA      MOTP      MODA      CLR_Re    CLR_Pr    MTR       PTR       MLR       sMOTA     CLR_TP    CLR_FN    CLR_FP    IDSW      MT        PT        ML        Frag      \nTestVideo4-01                      19.876    66.446    20.494    60.453    60.205    0         100       0         -0.40784  587       384       388       6         0         1         0         34        \nCOMBINED                           19.876    66.446    20.494    60.453    60.205    0         100       0         -0.40784  587       384       388       6         0         1         0         34        \n\nIdentity: StrongSORT_cascade_rcnn_0.5-target_vehicleIDF1      IDR       IDP       IDTP      IDFN      IDFP      \nTestVideo4-01                      38.129    38.208    38.051    371       600       604       \nCOMBINED                           38.129    38.208    38.051    371       600       604       \n\nVACE: StrongSORT_cascade_rcnn_0.5-target_vehicleSFDA      ATA       \nTestVideo4-01                      42.927    1.8638    \nCOMBINED                           42.927    1.8638    \n\nCount: StrongSORT_cascade_rcnn_0.5-target_vehicleDets      GT_Dets   IDs       GT_IDs    \nTestVideo4-01                      975       971       40        1         \nCOMBINED                           975       971       40        1         \n\nEvaluating BotSORT_faster_rcnn_0.5\n\n    MotChallenge2DBox.get_raw_seq_data(BotSORT_faster_rcnn_0.5, TestVideo4-01) 0.1462 sec\n    MotChallenge2DBox.get_preprocessed_seq_data(target_vehicle)            0.2394 sec\n    HOTA.eval_sequence()                                                   0.3624 sec\n    CLEAR.eval_sequence()                                                  0.0705 sec\n    Identity.eval_sequence()                                               0.0248 sec\n    VACE.eval_sequence()                                                   0.0455 sec\n    Count.eval_sequence()                                                  0.0000 sec\n8 eval_sequence(TestVideo4-01, BotSORT_faster_rcnn_0.5)                  0.8928 sec\n\nAll sequences for BotSORT_faster_rcnn_0.5 finished in 0.89 seconds\n\nHOTA: BotSORT_faster_rcnn_0.5-target_vehicleHOTA      DetA      AssA      DetRe     DetPr     AssRe     AssPr     LocA      OWTA      HOTA(0)   LocA(0)   HOTALocA(0)\nTestVideo4-01                      17.645    29.18     10.932    41.265    41.096    11.265    69.279    72.273    21.099    27.016    62.273    16.824    \nCOMBINED                           17.645    29.18     10.932    41.265    41.096    11.265    69.279    72.273    21.099    27.016    62.273    16.824    \n\nCLEAR: BotSORT_faster_rcnn_0.5-target_vehicleMOTA      MOTP      MODA      CLR_Re    CLR_Pr    MTR       PTR       MLR       sMOTA     CLR_TP    CLR_FN    CLR_FP    IDSW      MT        PT        ML        Frag      \nTestVideo4-01                      11.432    65.175    16.375    58.393    58.154    0         100       0         -8.9042   567       404       408       48        0         1         0         79        \nCOMBINED                           11.432    65.175    16.375    58.393    58.154    0         100       0         -8.9042   567       404       408       48        0         1         0         79        \n\nIdentity: BotSORT_faster_rcnn_0.5-target_vehicleIDF1      IDR       IDP       IDTP      IDFN      IDFP      \nTestVideo4-01                      28.16     28.218    28.103    274       697       701       \nCOMBINED                           28.16     28.218    28.103    274       697       701       \n\nVACE: BotSORT_faster_rcnn_0.5-target_vehicleSFDA      ATA       \nTestVideo4-01                      40.778    0.23914   \nCOMBINED                           40.778    0.23914   \n\nCount: BotSORT_faster_rcnn_0.5-target_vehicleDets      GT_Dets   IDs       GT_IDs    \nTestVideo4-01                      975       971       235       1         \nCOMBINED                           975       971       235       1         \n\nEvaluating DeepOCSORT_faster_rcnn_1e-05\n\n    MotChallenge2DBox.get_raw_seq_data(DeepOCSORT_faster_rcnn_1e-05, TestVideo4-01) 0.1466 sec\n    MotChallenge2DBox.get_preprocessed_seq_data(target_vehicle)            0.2409 sec\n    HOTA.eval_sequence()                                                   0.3229 sec\n    CLEAR.eval_sequence()                                                  0.0685 sec\n    Identity.eval_sequence()                                               0.0226 sec\n    VACE.eval_sequence()                                                   0.0453 sec\n    Count.eval_sequence()                                                  0.0000 sec\n9 eval_sequence(TestVideo4-01, DeepOCSORT_faster_rcnn_1e-05)             0.8516 sec\n\nAll sequences for DeepOCSORT_faster_rcnn_1e-05 finished in 0.85 seconds\n\nHOTA: DeepOCSORT_faster_rcnn_1e-05-target_vehicleHOTA      DetA      AssA      DetRe     DetPr     AssRe     AssPr     LocA      OWTA      HOTA(0)   LocA(0)   HOTALocA(0)\nTestVideo4-01                      13.156    16.355    10.988    26.744    26.634    11.478    66.754    72.66     16.908    20.589    56.641    11.662    \nCOMBINED                           13.156    16.355    10.988    26.744    26.634    11.478    66.754    72.66     16.908    20.589    56.641    11.662    \n\nCLEAR: DeepOCSORT_faster_rcnn_1e-05-target_vehicleMOTA      MOTP      MODA      CLR_Re    CLR_Pr    MTR       PTR       MLR       sMOTA     CLR_TP    CLR_FN    CLR_FP    IDSW      MT        PT        ML        Frag      \nTestVideo4-01                      -32.441   67.567    -31.823   34.295    34.154    0         100       0         -43.564   333       638       642       6         0         1         0         27        \nCOMBINED                           -32.441   67.567    -31.823   34.295    34.154    0         100       0         -43.564   333       638       642       6         0         1         0         27        \n\nIdentity: DeepOCSORT_faster_rcnn_1e-05-target_vehicleIDF1      IDR       IDP       IDTP      IDFN      IDFP      \nTestVideo4-01                      19.836    19.876    19.795    193       778       782       \nCOMBINED                           19.836    19.876    19.795    193       778       782       \n\nVACE: DeepOCSORT_faster_rcnn_1e-05-target_vehicleSFDA      ATA       \nTestVideo4-01                      26.484    0.60232   \nCOMBINED                           26.484    0.60232   \n\nCount: DeepOCSORT_faster_rcnn_1e-05-target_vehicleDets      GT_Dets   IDs       GT_IDs    \nTestVideo4-01                      975       971       65        1         \nCOMBINED                           975       971       65        1         \n\nEvaluating StrongSORT_yolo_1e-05\n\n    MotChallenge2DBox.get_raw_seq_data(StrongSORT_yolo_1e-05, TestVideo4-01) 0.2467 sec\n    MotChallenge2DBox.get_preprocessed_seq_data(target_vehicle)            0.2511 sec\n    HOTA.eval_sequence()                                                   0.3270 sec\n    CLEAR.eval_sequence()                                                  0.0684 sec\n    Identity.eval_sequence()                                               0.0237 sec\n    VACE.eval_sequence()                                                   0.0456 sec\n    Count.eval_sequence()                                                  0.0000 sec\n10 eval_sequence(TestVideo4-01, StrongSORT_yolo_1e-05)                    0.9669 sec\n\nAll sequences for StrongSORT_yolo_1e-05 finished in 0.97 seconds\n\nHOTA: StrongSORT_yolo_1e-05-target_vehicleHOTA      DetA      AssA      DetRe     DetPr     AssRe     AssPr     LocA      OWTA      HOTA(0)   LocA(0)   HOTALocA(0)\nTestVideo4-01                      11.981    17.67     8.5987    27.964    27.849    8.9974    56.324    69.869    15.186    20.591    53.079    10.929    \nCOMBINED                           11.981    17.67     8.5987    27.964    27.849    8.9974    56.324    69.869    15.186    20.591    53.079    10.929    \n\nCLEAR: StrongSORT_yolo_1e-05-target_vehicleMOTA      MOTP      MODA      CLR_Re    CLR_Pr    MTR       PTR       MLR       sMOTA     CLR_TP    CLR_FN    CLR_FP    IDSW      MT        PT        ML        Frag      \nTestVideo4-01                      -39.444   66.364    -38.826   30.793    30.667    0         100       0         -49.802   299       672       676       6         0         1         0         40        \nCOMBINED                           -39.444   66.364    -38.826   30.793    30.667    0         100       0         -49.802   299       672       676       6         0         1         0         40        \n\nIdentity: StrongSORT_yolo_1e-05-target_vehicleIDF1      IDR       IDP       IDTP      IDFN      IDFP      \nTestVideo4-01                      15.622    15.654    15.59     152       819       823       \nCOMBINED                           15.622    15.654    15.59     152       819       823       \n\nVACE: StrongSORT_yolo_1e-05-target_vehicleSFDA      ATA       \nTestVideo4-01                      27.834    0.27224   \nCOMBINED                           27.834    0.27224   \n\nCount: StrongSORT_yolo_1e-05-target_vehicleDets      GT_Dets   IDs       GT_IDs    \nTestVideo4-01                      975       971       114       1         \nCOMBINED                           975       971       114       1         \n\nEvaluating ByteTracker_yolo_1e-05\n\n    MotChallenge2DBox.get_raw_seq_data(ByteTracker_yolo_1e-05, TestVideo4-01) 0.1466 sec\n    MotChallenge2DBox.get_preprocessed_seq_data(target_vehicle)            0.2381 sec\n    HOTA.eval_sequence()                                                   0.3343 sec\n    CLEAR.eval_sequence()                                                  0.0703 sec\n    Identity.eval_sequence()                                               0.0228 sec\n    VACE.eval_sequence()                                                   0.0450 sec\n    Count.eval_sequence()                                                  0.0000 sec\n11 eval_sequence(TestVideo4-01, ByteTracker_yolo_1e-05)                   0.8615 sec\n\nAll sequences for ByteTracker_yolo_1e-05 finished in 0.86 seconds\n\nHOTA: ByteTracker_yolo_1e-05-target_vehicleHOTA      DetA      AssA      DetRe     DetPr     AssRe     AssPr     LocA      OWTA      HOTA(0)   LocA(0)   HOTALocA(0)\nTestVideo4-01                      7.2981    20.892    2.8307    32.121    31.989    2.8498    75.156    71.15     9.1426    11.536    55.981    6.4582    \nCOMBINED                           7.2981    20.892    2.8307    32.121    31.989    2.8498    75.156    71.15     9.1426    11.536    55.981    6.4582    \n\nCLEAR: ByteTracker_yolo_1e-05-target_vehicleMOTA      MOTP      MODA      CLR_Re    CLR_Pr    MTR       PTR       MLR       sMOTA     CLR_TP    CLR_FN    CLR_FP    IDSW      MT        PT        ML        Frag      \nTestVideo4-01                      -21.73    65.709    -18.435   40.989    40.821    0         100       0         -35.786   398       573       577       32        0         1         0         31        \nCOMBINED                           -21.73    65.709    -18.435   40.989    40.821    0         100       0         -35.786   398       573       577       32        0         1         0         31        \n\nIdentity: ByteTracker_yolo_1e-05-target_vehicleIDF1      IDR       IDP       IDTP      IDFN      IDFP      \nTestVideo4-01                      5.9609    5.9732    5.9487    58        913       917       \nCOMBINED                           5.9609    5.9732    5.9487    58        913       917       \n\nVACE: ByteTracker_yolo_1e-05-target_vehicleSFDA      ATA       \nTestVideo4-01                      31.931    0.18666   \nCOMBINED                           31.931    0.18666   \n\nCount: ByteTracker_yolo_1e-05-target_vehicleDets      GT_Dets   IDs       GT_IDs    \nTestVideo4-01                      975       971       63        1         \nCOMBINED                           975       971       63        1         \n\nEvaluating PerfectTracker\n\n    MotChallenge2DBox.get_raw_seq_data(PerfectTracker, TestVideo4-01)      0.1476 sec\n    MotChallenge2DBox.get_preprocessed_seq_data(target_vehicle)            0.2429 sec\n    HOTA.eval_sequence()                                                   0.5262 sec\n    CLEAR.eval_sequence()                                                  0.0733 sec\n    Identity.eval_sequence()                                               0.0248 sec\n    VACE.eval_sequence()                                                   0.0470 sec\n    Count.eval_sequence()                                                  0.0000 sec\n12 eval_sequence(TestVideo4-01, PerfectTracker)                           1.0662 sec\n\nAll sequences for PerfectTracker finished in 1.07 seconds\n\nHOTA: PerfectTracker-target_vehicleHOTA      DetA      AssA      DetRe     DetPr     AssRe     AssPr     LocA      OWTA      HOTA(0)   LocA(0)   HOTALocA(0)\nTestVideo4-01                      100       100       100       100       100       100       100       100       100       100       100       100       \nCOMBINED                           100       100       100       100       100       100       100       100       100       100       100       100       \n\nCLEAR: PerfectTracker-target_vehicleMOTA      MOTP      MODA      CLR_Re    CLR_Pr    MTR       PTR       MLR       sMOTA     CLR_TP    CLR_FN    CLR_FP    IDSW      MT        PT        ML        Frag      \nTestVideo4-01                      100       100       100       100       100       100       0         0         100       971       0         0         0         1         0         0         0         \nCOMBINED                           100       100       100       100       100       100       0         0         100       971       0         0         0         1         0         0         0         \n\nIdentity: PerfectTracker-target_vehicleIDF1      IDR       IDP       IDTP      IDFN      IDFP      \nTestVideo4-01                      100       100       100       971       0         0         \nCOMBINED                           100       100       100       971       0         0         \n\nVACE: PerfectTracker-target_vehicleSFDA      ATA       \nTestVideo4-01                      100       100       \nCOMBINED                           100       100       \n\nCount: PerfectTracker-target_vehicleDets      GT_Dets   IDs       GT_IDs    \nTestVideo4-01                      971       971       1         1         \nCOMBINED                           971       971       1         1         \n\nEvaluating StrongSORT_yolo_0.1\n\n    MotChallenge2DBox.get_raw_seq_data(StrongSORT_yolo_0.1, TestVideo4-01) 0.1475 sec\n    MotChallenge2DBox.get_preprocessed_seq_data(target_vehicle)            0.2403 sec\n    HOTA.eval_sequence()                                                   0.3978 sec\n    CLEAR.eval_sequence()                                                  0.0722 sec\n    Identity.eval_sequence()                                               0.0232 sec\n    VACE.eval_sequence()                                                   0.0459 sec\n    Count.eval_sequence()                                                  0.0000 sec\n13 eval_sequence(TestVideo4-01, StrongSORT_yolo_0.1)                      0.9315 sec\n\nAll sequences for StrongSORT_yolo_0.1 finished in 0.93 seconds\n\nHOTA: StrongSORT_yolo_0.1-target_vehicleHOTA      DetA      AssA      DetRe     DetPr     AssRe     AssPr     LocA      OWTA      HOTA(0)   LocA(0)   HOTALocA(0)\nTestVideo4-01                      31.849    41.055    24.994    52.052    51.838    27.362    63.147    73.311    36.016    49.81     64.06     31.908    \nCOMBINED                           31.849    41.055    24.994    52.052    51.838    27.362    63.147    73.311    36.016    49.81     64.06     31.908    \n\nCLEAR: StrongSORT_yolo_0.1-target_vehicleMOTA      MOTP      MODA      CLR_Re    CLR_Pr    MTR       PTR       MLR       sMOTA     CLR_TP    CLR_FN    CLR_FP    IDSW      MT        PT        ML        Frag      \nTestVideo4-01                      49.743    65.528    50.154    75.283    74.974    0         100       0         23.791    731       240       244       4         0         1         0         25        \nCOMBINED                           49.743    65.528    50.154    75.283    74.974    0         100       0         23.791    731       240       244       4         0         1         0         25        \n\nIdentity: StrongSORT_yolo_0.1-target_vehicleIDF1      IDR       IDP       IDTP      IDFN      IDFP      \nTestVideo4-01                      50.257    50.36     50.154    489       482       486       \nCOMBINED                           50.257    50.36     50.154    489       482       486       \n\nVACE: StrongSORT_yolo_0.1-target_vehicleSFDA      ATA       \nTestVideo4-01                      51.254    3.3574    \nCOMBINED                           51.254    3.3574    \n\nCount: StrongSORT_yolo_0.1-target_vehicleDets      GT_Dets   IDs       GT_IDs    \nTestVideo4-01                      975       971       29        1         \nCOMBINED                           975       971       29        1         \n\nEvaluating BotSORT_faster_rcnn_0.3\n\n    MotChallenge2DBox.get_raw_seq_data(BotSORT_faster_rcnn_0.3, TestVideo4-01) 0.1473 sec\n    MotChallenge2DBox.get_preprocessed_seq_data(target_vehicle)            0.2422 sec\n    HOTA.eval_sequence()                                                   0.3485 sec\n    CLEAR.eval_sequence()                                                  0.0706 sec\n    Identity.eval_sequence()                                               0.0246 sec\n    VACE.eval_sequence()                                                   0.0450 sec\n    Count.eval_sequence()                                                  0.0000 sec\n14 eval_sequence(TestVideo4-01, BotSORT_faster_rcnn_0.3)                  0.8824 sec\n\nAll sequences for BotSORT_faster_rcnn_0.3 finished in 0.88 seconds\n\nHOTA: BotSORT_faster_rcnn_0.3-target_vehicleHOTA      DetA      AssA      DetRe     DetPr     AssRe     AssPr     LocA      OWTA      HOTA(0)   LocA(0)   HOTALocA(0)\nTestVideo4-01                      13.925    24.511    8.2198    36.647    36.497    8.4161    71.556    73.193    17.132    20.433    61.876    12.643    \nCOMBINED                           13.925    24.511    8.2198    36.647    36.497    8.4161    71.556    73.193    17.132    20.433    61.876    12.643    \n\nCLEAR: BotSORT_faster_rcnn_0.3-target_vehicleMOTA      MOTP      MODA      CLR_Re    CLR_Pr    MTR       PTR       MLR       sMOTA     CLR_TP    CLR_FN    CLR_FP    IDSW      MT        PT        ML        Frag      \nTestVideo4-01                      -4.3254   67.023    0.10299   50.257    50.051    0         100       0         -20.899   488       483       487       43        0         1         0         81        \nCOMBINED                           -4.3254   67.023    0.10299   50.257    50.051    0         100       0         -20.899   488       483       487       43        0         1         0         81        \n\nIdentity: BotSORT_faster_rcnn_0.3-target_vehicleIDF1      IDR       IDP       IDTP      IDFN      IDFP      \nTestVideo4-01                      20.555    20.597    20.513    200       771       775       \nCOMBINED                           20.555    20.597    20.513    200       771       775       \n\nVACE: BotSORT_faster_rcnn_0.3-target_vehicleSFDA      ATA       \nTestVideo4-01                      36.222    0.16412   \nCOMBINED                           36.222    0.16412   \n\nCount: BotSORT_faster_rcnn_0.3-target_vehicleDets      GT_Dets   IDs       GT_IDs    \nTestVideo4-01                      975       971       250       1         \nCOMBINED                           975       971       250       1         \n\nEvaluating DeepOCSORT_yolo_1e-05\n\n    MotChallenge2DBox.get_raw_seq_data(DeepOCSORT_yolo_1e-05, TestVideo4-01) 0.1467 sec\n    MotChallenge2DBox.get_preprocessed_seq_data(target_vehicle)            0.2404 sec\n    HOTA.eval_sequence()                                                   0.3512 sec\n    CLEAR.eval_sequence()                                                  0.0718 sec\n    Identity.eval_sequence()                                               0.0224 sec\n    VACE.eval_sequence()                                                   0.0456 sec\n    Count.eval_sequence()                                                  0.0000 sec\n15 eval_sequence(TestVideo4-01, DeepOCSORT_yolo_1e-05)                    0.8823 sec\n\nAll sequences for DeepOCSORT_yolo_1e-05 finished in 0.88 seconds\n\nHOTA: DeepOCSORT_yolo_1e-05-target_vehicleHOTA      DetA      AssA      DetRe     DetPr     AssRe     AssPr     LocA      OWTA      HOTA(0)   LocA(0)   HOTALocA(0)\nTestVideo4-01                      16.185    25.352    11.043    37.173    37.02     11.536    66.3      71.538    19.785    25.822    58.502    15.106    \nCOMBINED                           16.185    25.352    11.043    37.173    37.02     11.536    66.3      71.538    19.785    25.822    58.502    15.106    \n\nCLEAR: DeepOCSORT_yolo_1e-05-target_vehicleMOTA      MOTP      MODA      CLR_Re    CLR_Pr    MTR       PTR       MLR       sMOTA     CLR_TP    CLR_FN    CLR_FP    IDSW      MT        PT        ML        Frag      \nTestVideo4-01                      -7.827    66.043    -7.312    46.55     46.359    0         100       0         -23.634   452       519       523       5         0         1         0         22        \nCOMBINED                           -7.827    66.043    -7.312    46.55     46.359    0         100       0         -23.634   452       519       523       5         0         1         0         22        \n\nIdentity: DeepOCSORT_yolo_1e-05-target_vehicleIDF1      IDR       IDP       IDTP      IDFN      IDFP      \nTestVideo4-01                      20.452    20.494    20.41     199       772       776       \nCOMBINED                           20.452    20.494    20.41     199       772       776       \n\nVACE: DeepOCSORT_yolo_1e-05-target_vehicleSFDA      ATA       \nTestVideo4-01                      36.876    1.7821    \nCOMBINED                           36.876    1.7821    \n\nCount: DeepOCSORT_yolo_1e-05-target_vehicleDets      GT_Dets   IDs       GT_IDs    \nTestVideo4-01                      975       971       22        1         \nCOMBINED                           975       971       22        1         \n\nEvaluating BotSORT_cascade_rcnn_0.5\n\n    MotChallenge2DBox.get_raw_seq_data(BotSORT_cascade_rcnn_0.5, TestVideo4-01) 0.1469 sec\n    MotChallenge2DBox.get_preprocessed_seq_data(target_vehicle)            0.2432 sec\n    HOTA.eval_sequence()                                                   0.3630 sec\n    CLEAR.eval_sequence()                                                  0.0706 sec\n    Identity.eval_sequence()                                               0.0236 sec\n    VACE.eval_sequence()                                                   0.0468 sec\n    Count.eval_sequence()                                                  0.0000 sec\n16 eval_sequence(TestVideo4-01, BotSORT_cascade_rcnn_0.5)                 0.8984 sec\n\nAll sequences for BotSORT_cascade_rcnn_0.5 finished in 0.90 seconds\n\nHOTA: BotSORT_cascade_rcnn_0.5-target_vehicleHOTA      DetA      AssA      DetRe     DetPr     AssRe     AssPr     LocA      OWTA      HOTA(0)   LocA(0)   HOTALocA(0)\nTestVideo4-01                      18.23     30.574    11.172    43.141    42.964    11.567    74.761    73.838    21.791    26.774    64.269    17.208    \nCOMBINED                           18.23     30.574    11.172    43.141    42.964    11.567    74.761    73.838    21.791    26.774    64.269    17.208    \n\nCLEAR: BotSORT_cascade_rcnn_0.5-target_vehicleMOTA      MOTP      MODA      CLR_Re    CLR_Pr    MTR       PTR       MLR       sMOTA     CLR_TP    CLR_FN    CLR_FP    IDSW      MT        PT        ML        Frag      \nTestVideo4-01                      15.139    66.653    21.73     61.071    60.821    0         100       0         -5.2264   593       378       382       64        0         1         0         44        \nCOMBINED                           15.139    66.653    21.73     61.071    60.821    0         100       0         -5.2264   593       378       382       64        0         1         0         44        \n\nIdentity: BotSORT_cascade_rcnn_0.5-target_vehicleIDF1      IDR       IDP       IDTP      IDFN      IDFP      \nTestVideo4-01                      29.805    29.866    29.744    290       681       685       \nCOMBINED                           29.805    29.866    29.744    290       681       685       \n\nVACE: BotSORT_cascade_rcnn_0.5-target_vehicleSFDA      ATA       \nTestVideo4-01                      42.472    0.33001   \nCOMBINED                           42.472    0.33001   \n\nCount: BotSORT_cascade_rcnn_0.5-target_vehicleDets      GT_Dets   IDs       GT_IDs    \nTestVideo4-01                      975       971       180       1         \nCOMBINED                           975       971       180       1         \n\nEvaluating DeepOCSORT_retinanet_1e-05\n\n    MotChallenge2DBox.get_raw_seq_data(DeepOCSORT_retinanet_1e-05, TestVideo4-01) 0.1455 sec\n    MotChallenge2DBox.get_preprocessed_seq_data(target_vehicle)            0.2402 sec\n    HOTA.eval_sequence()                                                   0.2770 sec\n    CLEAR.eval_sequence()                                                  0.0672 sec\n    Identity.eval_sequence()                                               0.0222 sec\n    VACE.eval_sequence()                                                   0.0452 sec\n    Count.eval_sequence()                                                  0.0000 sec\n17 eval_sequence(TestVideo4-01, DeepOCSORT_retinanet_1e-05)               0.8014 sec\n\nAll sequences for DeepOCSORT_retinanet_1e-05 finished in 0.80 seconds\n\nHOTA: DeepOCSORT_retinanet_1e-05-target_vehicleHOTA      DetA      AssA      DetRe     DetPr     AssRe     AssPr     LocA      OWTA      HOTA(0)   LocA(0)   HOTALocA(0)\nTestVideo4-01                      5.8115    6.8793    4.9995    12.32     12.27     5.1467    49.838    66.637    7.7948    11.743    43.786    5.1419    \nCOMBINED                           5.8115    6.8793    4.9995    12.32     12.27     5.1467    49.838    66.637    7.7948    11.743    43.786    5.1419    \n\nCLEAR: DeepOCSORT_retinanet_1e-05-target_vehicleMOTA      MOTP      MODA      CLR_Re    CLR_Pr    MTR       PTR       MLR       sMOTA     CLR_TP    CLR_FN    CLR_FP    IDSW      MT        PT        ML        Frag      \nTestVideo4-01                      -81.565   64.624    -81.256   9.5778    9.5385    0         0         100       -84.954   93        878       882       3         0         0         1         12        \nCOMBINED                           -81.565   64.624    -81.256   9.5778    9.5385    0         0         100       -84.954   93        878       882       3         0         0         1         12        \n\nIdentity: DeepOCSORT_retinanet_1e-05-target_vehicleIDF1      IDR       IDP       IDTP      IDFN      IDFP      \nTestVideo4-01                      6.5776    6.5911    6.5641    64        907       911       \nCOMBINED                           6.5776    6.5911    6.5641    64        907       911       \n\nVACE: DeepOCSORT_retinanet_1e-05-target_vehicleSFDA      ATA       \nTestVideo4-01                      12.411    0.2161    \nCOMBINED                           12.411    0.2161    \n\nCount: DeepOCSORT_retinanet_1e-05-target_vehicleDets      GT_Dets   IDs       GT_IDs    \nTestVideo4-01                      975       971       60        1         \nCOMBINED                           975       971       60        1         \n\nEvaluating DeepOCSORT_faster_rcnn_0.1\n\n    MotChallenge2DBox.get_raw_seq_data(DeepOCSORT_faster_rcnn_0.1, TestVideo4-01) 0.1440 sec\n    MotChallenge2DBox.get_preprocessed_seq_data(target_vehicle)            0.2389 sec\n    HOTA.eval_sequence()                                                   0.3459 sec\n    CLEAR.eval_sequence()                                                  0.0694 sec\n    Identity.eval_sequence()                                               0.0229 sec\n    VACE.eval_sequence()                                                   0.0444 sec\n    Count.eval_sequence()                                                  0.0000 sec\n18 eval_sequence(TestVideo4-01, DeepOCSORT_faster_rcnn_0.1)               0.8700 sec\n\nAll sequences for DeepOCSORT_faster_rcnn_0.1 finished in 0.87 seconds\n\nHOTA: DeepOCSORT_faster_rcnn_0.1-target_vehicleHOTA      DetA      AssA      DetRe     DetPr     AssRe     AssPr     LocA      OWTA      HOTA(0)   LocA(0)   HOTALocA(0)\nTestVideo4-01                      23.428    23.695    23.271    35.335    35.19     25.332    58.953    71.313    28.663    41.51     57.137    23.718    \nCOMBINED                           23.428    23.695    23.271    35.335    35.19     25.332    58.953    71.313    28.663    41.51     57.137    23.718    \n\nCLEAR: DeepOCSORT_faster_rcnn_0.1-target_vehicleMOTA      MOTP      MODA      CLR_Re    CLR_Pr    MTR       PTR       MLR       sMOTA     CLR_TP    CLR_FN    CLR_FP    IDSW      MT        PT        ML        Frag      \nTestVideo4-01                      -15.551   66.336    -14.933   42.739    42.564    0         100       0         -29.939   415       556       560       6         0         1         0         44        \nCOMBINED                           -15.551   66.336    -14.933   42.739    42.564    0         100       0         -29.939   415       556       560       6         0         1         0         44        \n\nIdentity: DeepOCSORT_faster_rcnn_0.1-target_vehicleIDF1      IDR       IDP       IDTP      IDFN      IDFP      \nTestVideo4-01                      36.588    36.663    36.513    356       615       619       \nCOMBINED                           36.588    36.663    36.513    356       615       619       \n\nVACE: DeepOCSORT_faster_rcnn_0.1-target_vehicleSFDA      ATA       \nTestVideo4-01                      35.026    1.9296    \nCOMBINED                           35.026    1.9296    \n\nCount: DeepOCSORT_faster_rcnn_0.1-target_vehicleDets      GT_Dets   IDs       GT_IDs    \nTestVideo4-01                      975       971       37        1         \nCOMBINED                           975       971       37        1         \n\nEvaluating ByteTracker_retinanet_1e-05\n\n    MotChallenge2DBox.get_raw_seq_data(ByteTracker_retinanet_1e-05, TestVideo4-01) 0.1492 sec\n    MotChallenge2DBox.get_preprocessed_seq_data(target_vehicle)            0.2400 sec\n    HOTA.eval_sequence()                                                   0.2863 sec\n    CLEAR.eval_sequence()                                                  0.0669 sec\n    Identity.eval_sequence()                                               0.0216 sec\n    VACE.eval_sequence()                                                   0.0449 sec\n    Count.eval_sequence()                                                  0.0000 sec\n19 eval_sequence(TestVideo4-01, ByteTracker_retinanet_1e-05)              0.8135 sec\n\nAll sequences for ByteTracker_retinanet_1e-05 finished in 0.82 seconds\n\nHOTA: ByteTracker_retinanet_1e-05-target_vehicleHOTA      DetA      AssA      DetRe     DetPr     AssRe     AssPr     LocA      OWTA      HOTA(0)   LocA(0)   HOTALocA(0)\nTestVideo4-01                      7.1609    9.7496    5.318     16.147    16.081    5.9879    36.882    64.44     9.2321    24.225    32.888    7.9672    \nCOMBINED                           7.1609    9.7496    5.318     16.147    16.081    5.9879    36.882    64.44     9.2321    24.225    32.888    7.9672    \n\nCLEAR: ByteTracker_retinanet_1e-05-target_vehicleMOTA      MOTP      MODA      CLR_Re    CLR_Pr    MTR       PTR       MLR       sMOTA     CLR_TP    CLR_FN    CLR_FP    IDSW      MT        PT        ML        Frag      \nTestVideo4-01                      -84.243   65.889    -83.728   8.3419    8.3077    0         0         100       -87.089   81        890       894       5         0         0         1         7         \nCOMBINED                           -84.243   65.889    -83.728   8.3419    8.3077    0         0         100       -87.089   81        890       894       5         0         0         1         7         \n\nIdentity: ByteTracker_retinanet_1e-05-target_vehicleIDF1      IDR       IDP       IDTP      IDFN      IDFP      \nTestVideo4-01                      5.7554    5.7673    5.7436    56        915       919       \nCOMBINED                           5.7554    5.7673    5.7436    56        915       919       \n\nVACE: ByteTracker_retinanet_1e-05-target_vehicleSFDA      ATA       \nTestVideo4-01                      16.61     0.82389   \nCOMBINED                           16.61     0.82389   \n\nCount: ByteTracker_retinanet_1e-05-target_vehicleDets      GT_Dets   IDs       GT_IDs    \nTestVideo4-01                      975       971       13        1         \nCOMBINED                           975       971       13        1         \n\nEvaluating StrongSORT_faster_rcnn_0.3\n\n    MotChallenge2DBox.get_raw_seq_data(StrongSORT_faster_rcnn_0.3, TestVideo4-01) 0.1464 sec\n    MotChallenge2DBox.get_preprocessed_seq_data(target_vehicle)            0.2392 sec\n    HOTA.eval_sequence()                                                   0.3650 sec\n    CLEAR.eval_sequence()                                                  0.0741 sec\n    Identity.eval_sequence()                                               0.0227 sec\n    VACE.eval_sequence()                                                   0.0467 sec\n    Count.eval_sequence()                                                  0.0000 sec\n20 eval_sequence(TestVideo4-01, StrongSORT_faster_rcnn_0.3)               0.8988 sec\n\nAll sequences for StrongSORT_faster_rcnn_0.3 finished in 0.90 seconds\n\nHOTA: StrongSORT_faster_rcnn_0.3-target_vehicleHOTA      DetA      AssA      DetRe     DetPr     AssRe     AssPr     LocA      OWTA      HOTA(0)   LocA(0)   HOTALocA(0)\nTestVideo4-01                      27.151    29.472    25.121    41.785    41.614    26.917    60.469    72.906    32.388    42.861    62.308    26.706    \nCOMBINED                           27.151    29.472    25.121    41.785    41.614    26.917    60.469    72.906    32.388    42.861    62.308    26.706    \n\nCLEAR: StrongSORT_faster_rcnn_0.3-target_vehicleMOTA      MOTP      MODA      CLR_Re    CLR_Pr    MTR       PTR       MLR       sMOTA     CLR_TP    CLR_FN    CLR_FP    IDSW      MT        PT        ML        Frag      \nTestVideo4-01                      13.079    66.412    13.491    56.952    56.718    0         100       0         -6.0497   553       418       422       4         0         1         0         49        \nCOMBINED                           13.079    66.412    13.491    56.952    56.718    0         100       0         -6.0497   553       418       422       4         0         1         0         49        \n\nIdentity: StrongSORT_faster_rcnn_0.3-target_vehicleIDF1      IDR       IDP       IDTP      IDFN      IDFP      \nTestVideo4-01                      44.913    45.005    44.821    437       534       538       \nCOMBINED                           44.913    45.005    44.821    437       534       538       \n\nVACE: StrongSORT_faster_rcnn_0.3-target_vehicleSFDA      ATA       \nTestVideo4-01                      41.176    3.4619    \nCOMBINED                           41.176    3.4619    \n\nCount: StrongSORT_faster_rcnn_0.3-target_vehicleDets      GT_Dets   IDs       GT_IDs    \nTestVideo4-01                      975       971       25        1         \nCOMBINED                           975       971       25        1         \n\nEvaluating DeepOCSORT_yolo_0.1\n\n    MotChallenge2DBox.get_raw_seq_data(DeepOCSORT_yolo_0.1, TestVideo4-01) 0.1473 sec\n    MotChallenge2DBox.get_preprocessed_seq_data(target_vehicle)            0.2445 sec\n    HOTA.eval_sequence()                                                   0.3915 sec\n    CLEAR.eval_sequence()                                                  0.0720 sec\n    Identity.eval_sequence()                                               0.0232 sec\n    VACE.eval_sequence()                                                   0.0463 sec\n    Count.eval_sequence()                                                  0.0000 sec\n21 eval_sequence(TestVideo4-01, DeepOCSORT_yolo_0.1)                      0.9292 sec\n\nAll sequences for DeepOCSORT_yolo_0.1 finished in 0.93 seconds\n\nHOTA: DeepOCSORT_yolo_0.1-target_vehicleHOTA      DetA      AssA      DetRe     DetPr     AssRe     AssPr     LocA      OWTA      HOTA(0)   LocA(0)   HOTALocA(0)\nTestVideo4-01                      32.823    39.615    27.408    50.919    50.71     29.462    63.699    73.33     37.33     52.411    63.703    33.387    \nCOMBINED                           32.823    39.615    27.408    50.919    50.71     29.462    63.699    73.33     37.33     52.411    63.703    33.387    \n\nCLEAR: DeepOCSORT_yolo_0.1-target_vehicleMOTA      MOTP      MODA      CLR_Re    CLR_Pr    MTR       PTR       MLR       sMOTA     CLR_TP    CLR_FN    CLR_FP    IDSW      MT        PT        ML        Frag      \nTestVideo4-01                      45.417    65.707    45.623    73.018    72.718    0         100       0         20.377    709       262       266       2         0         1         0         13        \nCOMBINED                           45.417    65.707    45.623    73.018    72.718    0         100       0         20.377    709       262       266       2         0         1         0         13        \n\nIdentity: DeepOCSORT_yolo_0.1-target_vehicleIDF1      IDR       IDP       IDTP      IDFN      IDFP      \nTestVideo4-01                      50.36     50.463    50.256    490       481       485       \nCOMBINED                           50.36     50.463    50.256    490       481       485       \n\nVACE: DeepOCSORT_yolo_0.1-target_vehicleSFDA      ATA       \nTestVideo4-01                      50.182    5.3119    \nCOMBINED                           50.182    5.3119    \n\nCount: DeepOCSORT_yolo_0.1-target_vehicleDets      GT_Dets   IDs       GT_IDs    \nTestVideo4-01                      975       971       18        1         \nCOMBINED                           975       971       18        1         \n\nEvaluating ByteTracker_yolo_0.5\n\n    MotChallenge2DBox.get_raw_seq_data(ByteTracker_yolo_0.5, TestVideo4-01) 0.1489 sec\n    MotChallenge2DBox.get_preprocessed_seq_data(target_vehicle)            0.2397 sec\n    HOTA.eval_sequence()                                                   0.3906 sec\n    CLEAR.eval_sequence()                                                  0.0725 sec\n    Identity.eval_sequence()                                               0.0255 sec\n    VACE.eval_sequence()                                                   0.0471 sec\n    Count.eval_sequence()                                                  0.0000 sec\n22 eval_sequence(TestVideo4-01, ByteTracker_yolo_0.5)                     0.9287 sec\n\nAll sequences for ByteTracker_yolo_0.5 finished in 0.93 seconds\n\nHOTA: ByteTracker_yolo_0.5-target_vehicleHOTA      DetA      AssA      DetRe     DetPr     AssRe     AssPr     LocA      OWTA      HOTA(0)   LocA(0)   HOTALocA(0)\nTestVideo4-01                      32.832    38.699    28.131    50.079    49.873    29.497    67.661    73.128    37.494    51.508    62.592    32.24     \nCOMBINED                           32.832    38.699    28.131    50.079    49.873    29.497    67.661    73.128    37.494    51.508    62.592    32.24     \n\nCLEAR: ByteTracker_yolo_0.5-target_vehicleMOTA      MOTP      MODA      CLR_Re    CLR_Pr    MTR       PTR       MLR       sMOTA     CLR_TP    CLR_FN    CLR_FP    IDSW      MT        PT        ML        Frag      \nTestVideo4-01                      44.593    65.222    45.005    72.709    72.41     0         100       0         19.307    706       265       269       4         0         1         0         37        \nCOMBINED                           44.593    65.222    45.005    72.709    72.41     0         100       0         19.307    706       265       269       4         0         1         0         37        \n\nIdentity: ByteTracker_yolo_0.5-target_vehicleIDF1      IDR       IDP       IDTP      IDFN      IDFP      \nTestVideo4-01                      49.64     49.743    49.538    483       488       492       \nCOMBINED                           49.64     49.743    49.538    483       488       492       \n\nVACE: ByteTracker_yolo_0.5-target_vehicleSFDA      ATA       \nTestVideo4-01                      49.377    1.7765    \nCOMBINED                           49.377    1.7765    \n\nCount: ByteTracker_yolo_0.5-target_vehicleDets      GT_Dets   IDs       GT_IDs    \nTestVideo4-01                      975       971       55        1         \nCOMBINED                           975       971       55        1         \n\nEvaluating ByteTracker_retinanet_0.3\n\n    MotChallenge2DBox.get_raw_seq_data(ByteTracker_retinanet_0.3, TestVideo4-01) 0.1452 sec\n    MotChallenge2DBox.get_preprocessed_seq_data(target_vehicle)            0.2397 sec\n    HOTA.eval_sequence()                                                   0.3419 sec\n    CLEAR.eval_sequence()                                                  0.0711 sec\n    Identity.eval_sequence()                                               0.0228 sec\n    VACE.eval_sequence()                                                   0.0459 sec\n    Count.eval_sequence()                                                  0.0000 sec\n23 eval_sequence(TestVideo4-01, ByteTracker_retinanet_0.3)                0.8710 sec\n\nAll sequences for ByteTracker_retinanet_0.3 finished in 0.87 seconds\n\nHOTA: ByteTracker_retinanet_0.3-target_vehicleHOTA      DetA      AssA      DetRe     DetPr     AssRe     AssPr     LocA      OWTA      HOTA(0)   LocA(0)   HOTALocA(0)\nTestVideo4-01                      12.339    22.78     7.7262    34.506    34.364    7.8295    77.605    72.061    15.407    17.853    56.867    10.153    \nCOMBINED                           12.339    22.78     7.7262    34.506    34.364    7.8295    77.605    72.061    15.407    17.853    56.867    10.153    \n\nCLEAR: ByteTracker_retinanet_0.3-target_vehicleMOTA      MOTP      MODA      CLR_Re    CLR_Pr    MTR       PTR       MLR       sMOTA     CLR_TP    CLR_FN    CLR_FP    IDSW      MT        PT        ML        Frag      \nTestVideo4-01                      -20.803   67.718    -17.405   41.504    41.333    0         100       0         -34.201   403       568       572       33        0         1         0         24        \nCOMBINED                           -20.803   67.718    -17.405   41.504    41.333    0         100       0         -34.201   403       568       572       33        0         1         0         24        \n\nIdentity: ByteTracker_retinanet_0.3-target_vehicleIDF1      IDR       IDP       IDTP      IDFN      IDFP      \nTestVideo4-01                      15.827    15.86     15.795    154       817       821       \nCOMBINED                           15.827    15.86     15.795    154       817       821       \n\nVACE: ByteTracker_retinanet_0.3-target_vehicleSFDA      ATA       \nTestVideo4-01                      34.228    0.38217   \nCOMBINED                           34.228    0.38217   \n\nCount: ByteTracker_retinanet_0.3-target_vehicleDets      GT_Dets   IDs       GT_IDs    \nTestVideo4-01                      975       971       82        1         \nCOMBINED                           975       971       82        1         \n\nEvaluating DeepOCSORT_retinanet_0.1\n\n    MotChallenge2DBox.get_raw_seq_data(DeepOCSORT_retinanet_0.1, TestVideo4-01) 0.1478 sec\n    MotChallenge2DBox.get_preprocessed_seq_data(target_vehicle)            0.2624 sec\n    HOTA.eval_sequence()                                                   0.3150 sec\n    CLEAR.eval_sequence()                                                  0.0682 sec\n    Identity.eval_sequence()                                               0.0224 sec\n    VACE.eval_sequence()                                                   0.0518 sec\n    Count.eval_sequence()                                                  0.0000 sec\n24 eval_sequence(TestVideo4-01, DeepOCSORT_retinanet_0.1)                 0.8725 sec\n\nAll sequences for DeepOCSORT_retinanet_0.1 finished in 0.87 seconds\n\nHOTA: DeepOCSORT_retinanet_0.1-target_vehicleHOTA      DetA      AssA      DetRe     DetPr     AssRe     AssPr     LocA      OWTA      HOTA(0)   LocA(0)   HOTALocA(0)\nTestVideo4-01                      6.7758    14.944    3.2188    24.316    24.216    3.285     53.52     68.989    8.6904    12.297    52.345    6.4369    \nCOMBINED                           6.7758    14.944    3.2188    24.316    24.216    3.285     53.52     68.989    8.6904    12.297    52.345    6.4369    \n\nCLEAR: DeepOCSORT_retinanet_0.1-target_vehicleMOTA      MOTP      MODA      CLR_Re    CLR_Pr    MTR       PTR       MLR       sMOTA     CLR_TP    CLR_FN    CLR_FP    IDSW      MT        PT        ML        Frag      \nTestVideo4-01                      -50.36    65.5      -49.537   25.438    25.333    0         100       0         -59.137   247       724       728       8         0         1         0         34        \nCOMBINED                           -50.36    65.5      -49.537   25.438    25.333    0         100       0         -59.137   247       724       728       8         0         1         0         34        \n\nIdentity: DeepOCSORT_retinanet_0.1-target_vehicleIDF1      IDR       IDP       IDTP      IDFN      IDFP      \nTestVideo4-01                      5.3443    5.3553    5.3333    52        919       923       \nCOMBINED                           5.3443    5.3553    5.3333    52        919       923       \n\nVACE: DeepOCSORT_retinanet_0.1-target_vehicleSFDA      ATA       \nTestVideo4-01                      24.216    0.20209   \nCOMBINED                           24.216    0.20209   \n\nCount: DeepOCSORT_retinanet_0.1-target_vehicleDets      GT_Dets   IDs       GT_IDs    \nTestVideo4-01                      975       971       52        1         \nCOMBINED                           975       971       52        1         \n\nEvaluating ByteTracker_faster_rcnn_1e-05\n\n    MotChallenge2DBox.get_raw_seq_data(ByteTracker_faster_rcnn_1e-05, TestVideo4-01) 0.1543 sec\n    MotChallenge2DBox.get_preprocessed_seq_data(target_vehicle)            0.2394 sec\n    HOTA.eval_sequence()                                                   0.3245 sec\n    CLEAR.eval_sequence()                                                  0.0694 sec\n    Identity.eval_sequence()                                               0.0235 sec\n    VACE.eval_sequence()                                                   0.0472 sec\n    Count.eval_sequence()                                                  0.0000 sec\n25 eval_sequence(TestVideo4-01, ByteTracker_faster_rcnn_1e-05)            0.8625 sec\n\nAll sequences for ByteTracker_faster_rcnn_1e-05 finished in 0.86 seconds\n\nHOTA: ByteTracker_faster_rcnn_1e-05-target_vehicleHOTA      DetA      AssA      DetRe     DetPr     AssRe     AssPr     LocA      OWTA      HOTA(0)   LocA(0)   HOTALocA(0)\nTestVideo4-01                      10.409    18.042    6.9601    29.042    28.923    7.0695    79.155    73.566    13.356    13.788    60.293    8.313     \nCOMBINED                           10.409    18.042    6.9601    29.042    28.923    7.0695    79.155    73.566    13.356    13.788    60.293    8.313     \n\nCLEAR: ByteTracker_faster_rcnn_1e-05-target_vehicleMOTA      MOTP      MODA      CLR_Re    CLR_Pr    MTR       PTR       MLR       sMOTA     CLR_TP    CLR_FN    CLR_FP    IDSW      MT        PT        ML        Frag      \nTestVideo4-01                      -30.175   68.477    -27.291   36.56     36.41     0         100       0         -41.7     355       616       620       28        0         1         0         33        \nCOMBINED                           -30.175   68.477    -27.291   36.56     36.41     0         100       0         -41.7     355       616       620       28        0         1         0         33        \n\nIdentity: ByteTracker_faster_rcnn_1e-05-target_vehicleIDF1      IDR       IDP       IDTP      IDFN      IDFP      \nTestVideo4-01                      15.108    15.139    15.077    147       824       828       \nCOMBINED                           15.108    15.139    15.077    147       824       828       \n\nVACE: ByteTracker_faster_rcnn_1e-05-target_vehicleSFDA      ATA       \nTestVideo4-01                      28.807    0.30896   \nCOMBINED                           28.807    0.30896   \n\nCount: ByteTracker_faster_rcnn_1e-05-target_vehicleDets      GT_Dets   IDs       GT_IDs    \nTestVideo4-01                      975       971       97        1         \nCOMBINED                           975       971       97        1         \n\nEvaluating BotSORT_cascade_rcnn_1e-05\n\n    MotChallenge2DBox.get_raw_seq_data(BotSORT_cascade_rcnn_1e-05, TestVideo4-01) 0.1482 sec\n    MotChallenge2DBox.get_preprocessed_seq_data(target_vehicle)            0.2419 sec\n    HOTA.eval_sequence()                                                   0.3330 sec\n    CLEAR.eval_sequence()                                                  0.0718 sec\n    Identity.eval_sequence()                                               0.0228 sec\n    VACE.eval_sequence()                                                   0.0457 sec\n    Count.eval_sequence()                                                  0.0000 sec\n26 eval_sequence(TestVideo4-01, BotSORT_cascade_rcnn_1e-05)               0.8676 sec\n\nAll sequences for BotSORT_cascade_rcnn_1e-05 finished in 0.87 seconds\n\nHOTA: BotSORT_cascade_rcnn_1e-05-target_vehicleHOTA      DetA      AssA      DetRe     DetPr     AssRe     AssPr     LocA      OWTA      HOTA(0)   LocA(0)   HOTALocA(0)\nTestVideo4-01                      7.8111    19.291    3.6021    30.717    30.591    3.6452    81.93     74.216    9.9538    10.595    60.748    6.436     \nCOMBINED                           7.8111    19.291    3.6021    30.717    30.591    3.6452    81.93     74.216    9.9538    10.595    60.748    6.436     \n\nCLEAR: BotSORT_cascade_rcnn_1e-05-target_vehicleMOTA      MOTP      MODA      CLR_Re    CLR_Pr    MTR       PTR       MLR       sMOTA     CLR_TP    CLR_FN    CLR_FP    IDSW      MT        PT        ML        Frag      \nTestVideo4-01                      -23.069   68.249    -16.787   41.813    41.641    0         100       0         -36.345   406       565       569       61        0         1         0         40        \nCOMBINED                           -23.069   68.249    -16.787   41.813    41.641    0         100       0         -36.345   406       565       569       61        0         1         0         40        \n\nIdentity: BotSORT_cascade_rcnn_1e-05-target_vehicleIDF1      IDR       IDP       IDTP      IDFN      IDFP      \nTestVideo4-01                      10.072    10.093    10.051    98        873       877       \nCOMBINED                           10.072    10.093    10.051    98        873       877       \n\nVACE: BotSORT_cascade_rcnn_1e-05-target_vehicleSFDA      ATA       \nTestVideo4-01                      30.307    0.13826   \nCOMBINED                           30.307    0.13826   \n\nCount: BotSORT_cascade_rcnn_1e-05-target_vehicleDets      GT_Dets   IDs       GT_IDs    \nTestVideo4-01                      975       971       145       1         \nCOMBINED                           975       971       145       1         \n\nEvaluating DeepOCSORT_cascade_rcnn_1e-05\n\n    MotChallenge2DBox.get_raw_seq_data(DeepOCSORT_cascade_rcnn_1e-05, TestVideo4-01) 0.1476 sec\n    MotChallenge2DBox.get_preprocessed_seq_data(target_vehicle)            0.2406 sec\n    HOTA.eval_sequence()                                                   0.3305 sec\n    CLEAR.eval_sequence()                                                  0.0707 sec\n    Identity.eval_sequence()                                               0.0232 sec\n    VACE.eval_sequence()                                                   0.0456 sec\n    Count.eval_sequence()                                                  0.0000 sec\n27 eval_sequence(TestVideo4-01, DeepOCSORT_cascade_rcnn_1e-05)            0.8640 sec\n\nAll sequences for DeepOCSORT_cascade_rcnn_1e-05 finished in 0.87 seconds\n\nHOTA: DeepOCSORT_cascade_rcnn_1e-05-target_vehicleHOTA      DetA      AssA      DetRe     DetPr     AssRe     AssPr     LocA      OWTA      HOTA(0)   LocA(0)   HOTALocA(0)\nTestVideo4-01                      14.809    19.992    11.555    31.541    31.412    11.986    71.697    73.975    18.724    22.064    62.178    13.719    \nCOMBINED                           14.809    19.992    11.555    31.541    31.412    11.986    71.697    73.975    18.724    22.064    62.178    13.719    \n\nCLEAR: DeepOCSORT_cascade_rcnn_1e-05-target_vehicleMOTA      MOTP      MODA      CLR_Re    CLR_Pr    MTR       PTR       MLR       sMOTA     CLR_TP    CLR_FN    CLR_FP    IDSW      MT        PT        ML        Frag      \nTestVideo4-01                      -15.551   67.757    -15.139   42.636    42.462    0         100       0         -29.298   414       557       561       4         0         1         0         26        \nCOMBINED                           -15.551   67.757    -15.139   42.636    42.462    0         100       0         -29.298   414       557       561       4         0         1         0         26        \n\nIdentity: DeepOCSORT_cascade_rcnn_1e-05-target_vehicleIDF1      IDR       IDP       IDTP      IDFN      IDFP      \nTestVideo4-01                      19.836    19.876    19.795    193       778       782       \nCOMBINED                           19.836    19.876    19.795    193       778       782       \n\nVACE: DeepOCSORT_cascade_rcnn_1e-05-target_vehicleSFDA      ATA       \nTestVideo4-01                      31.151    0.75005   \nCOMBINED                           31.151    0.75005   \n\nCount: DeepOCSORT_cascade_rcnn_1e-05-target_vehicleDets      GT_Dets   IDs       GT_IDs    \nTestVideo4-01                      975       971       52        1         \nCOMBINED                           975       971       52        1         \n\nEvaluating StrongSORT_faster_rcnn_0.5\n\n    MotChallenge2DBox.get_raw_seq_data(StrongSORT_faster_rcnn_0.5, TestVideo4-01) 0.1488 sec\n    MotChallenge2DBox.get_preprocessed_seq_data(target_vehicle)            0.2433 sec\n    HOTA.eval_sequence()                                                   0.3725 sec\n    CLEAR.eval_sequence()                                                  0.0713 sec\n    Identity.eval_sequence()                                               0.0231 sec\n    VACE.eval_sequence()                                                   0.0460 sec\n    Count.eval_sequence()                                                  0.0000 sec\n28 eval_sequence(TestVideo4-01, StrongSORT_faster_rcnn_0.5)               0.9097 sec\n\nAll sequences for StrongSORT_faster_rcnn_0.5 finished in 0.91 seconds\n\nHOTA: StrongSORT_faster_rcnn_0.5-target_vehicleHOTA      DetA      AssA      DetRe     DetPr     AssRe     AssPr     LocA      OWTA      HOTA(0)   LocA(0)   HOTALocA(0)\nTestVideo4-01                      28.949    33.04     25.58     44.935    44.75     27.247    60.231    72.194    33.868    46.775    60.839    28.457    \nCOMBINED                           28.949    33.04     25.58     44.935    44.75     27.247    60.231    72.194    33.868    46.775    60.839    28.457    \n\nCLEAR: StrongSORT_faster_rcnn_0.5-target_vehicleMOTA      MOTP      MODA      CLR_Re    CLR_Pr    MTR       PTR       MLR       sMOTA     CLR_TP    CLR_FN    CLR_FP    IDSW      MT        PT        ML        Frag      \nTestVideo4-01                      22.245    65.491    22.554    61.483    61.231    0         100       0         1.0281    597       374       378       3         0         1         0         40        \nCOMBINED                           22.245    65.491    22.554    61.483    61.231    0         100       0         1.0281    597       374       378       3         0         1         0         40        \n\nIdentity: StrongSORT_faster_rcnn_0.5-target_vehicleIDF1      IDR       IDP       IDTP      IDFN      IDFP      \nTestVideo4-01                      45.94     46.035    45.846    447       524       528       \nCOMBINED                           45.94     46.035    45.846    447       524       528       \n\nVACE: StrongSORT_faster_rcnn_0.5-target_vehicleSFDA      ATA       \nTestVideo4-01                      44.376    5.7544    \nCOMBINED                           44.376    5.7544    \n\nCount: StrongSORT_faster_rcnn_0.5-target_vehicleDets      GT_Dets   IDs       GT_IDs    \nTestVideo4-01                      975       971       15        1         \nCOMBINED                           975       971       15        1         \n\nEvaluating DeepOCSORT_cascade_rcnn_0.1\n\n    MotChallenge2DBox.get_raw_seq_data(DeepOCSORT_cascade_rcnn_0.1, TestVideo4-01) 0.1510 sec\n    MotChallenge2DBox.get_preprocessed_seq_data(target_vehicle)            0.2426 sec\n    HOTA.eval_sequence()                                                   0.3559 sec\n    CLEAR.eval_sequence()                                                  0.0724 sec\n    Identity.eval_sequence()                                               0.0229 sec\n    VACE.eval_sequence()                                                   0.0460 sec\n    Count.eval_sequence()                                                  0.0000 sec\n29 eval_sequence(TestVideo4-01, DeepOCSORT_cascade_rcnn_0.1)              0.8956 sec\n\nAll sequences for DeepOCSORT_cascade_rcnn_0.1 finished in 0.90 seconds\n\nHOTA: DeepOCSORT_cascade_rcnn_0.1-target_vehicleHOTA      DetA      AssA      DetRe     DetPr     AssRe     AssPr     LocA      OWTA      HOTA(0)   LocA(0)   HOTALocA(0)\nTestVideo4-01                      22.351    27.826    18.324    40.208    40.043    19.717    63.884    73.024    27.005    36.409    60.153    21.901    \nCOMBINED                           22.351    27.826    18.324    40.208    40.043    19.717    63.884    73.024    27.005    36.409    60.153    21.901    \n\nCLEAR: DeepOCSORT_cascade_rcnn_0.1-target_vehicleMOTA      MOTP      MODA      CLR_Re    CLR_Pr    MTR       PTR       MLR       sMOTA     CLR_TP    CLR_FN    CLR_FP    IDSW      MT        PT        ML        Frag      \nTestVideo4-01                      4.3254    67.301    4.8404    52.626    52.41     0         100       0         -12.883   511       460       464       5         0         1         0         28        \nCOMBINED                           4.3254    67.301    4.8404    52.626    52.41     0         100       0         -12.883   511       460       464       5         0         1         0         28        \n\nIdentity: DeepOCSORT_cascade_rcnn_0.1-target_vehicleIDF1      IDR       IDP       IDTP      IDFN      IDFP      \nTestVideo4-01                      34.532    34.604    34.462    336       635       639       \nCOMBINED                           34.532    34.604    34.462    336       635       639       \n\nVACE: DeepOCSORT_cascade_rcnn_0.1-target_vehicleSFDA      ATA       \nTestVideo4-01                      39.744    2.5632    \nCOMBINED                           39.744    2.5632    \n\nCount: DeepOCSORT_cascade_rcnn_0.1-target_vehicleDets      GT_Dets   IDs       GT_IDs    \nTestVideo4-01                      975       971       26        1         \nCOMBINED                           975       971       26        1         \n\nEvaluating BotSORT_retinanet_0.3\n\n    MotChallenge2DBox.get_raw_seq_data(BotSORT_retinanet_0.3, TestVideo4-01) 0.1476 sec\n    MotChallenge2DBox.get_preprocessed_seq_data(target_vehicle)            0.2414 sec\n    HOTA.eval_sequence()                                                   0.3426 sec\n    CLEAR.eval_sequence()                                                  0.0702 sec\n    Identity.eval_sequence()                                               0.0245 sec\n    VACE.eval_sequence()                                                   0.0457 sec\n    Count.eval_sequence()                                                  0.0000 sec\n30 eval_sequence(TestVideo4-01, BotSORT_retinanet_0.3)                    0.8767 sec\n\nAll sequences for BotSORT_retinanet_0.3 finished in 0.88 seconds\n\nHOTA: BotSORT_retinanet_0.3-target_vehicleHOTA      DetA      AssA      DetRe     DetPr     AssRe     AssPr     LocA      OWTA      HOTA(0)   LocA(0)   HOTALocA(0)\nTestVideo4-01                      13.253    22.651    8.0045    34.663    34.521    8.1727    72.324    74.017    16.479    19.28     62.46     12.042    \nCOMBINED                           13.253    22.651    8.0045    34.663    34.521    8.1727    72.324    74.017    16.479    19.28     62.46     12.042    \n\nCLEAR: BotSORT_retinanet_0.3-target_vehicleMOTA      MOTP      MODA      CLR_Re    CLR_Pr    MTR       PTR       MLR       sMOTA     CLR_TP    CLR_FN    CLR_FP    IDSW      MT        PT        ML        Frag      \nTestVideo4-01                      -5.9732   67.188    -2.1627   49.125    48.923    0         100       0         -22.092   477       494       498       37        0         1         0         85        \nCOMBINED                           -5.9732   67.188    -2.1627   49.125    48.923    0         100       0         -22.092   477       494       498       37        0         1         0         85        \n\nIdentity: BotSORT_retinanet_0.3-target_vehicleIDF1      IDR       IDP       IDTP      IDFN      IDFP      \nTestVideo4-01                      18.911    18.95     18.872    184       787       791       \nCOMBINED                           18.911    18.95     18.872    184       787       791       \n\nVACE: BotSORT_retinanet_0.3-target_vehicleSFDA      ATA       \nTestVideo4-01                      34.252    0.17227   \nCOMBINED                           34.252    0.17227   \n\nCount: BotSORT_retinanet_0.3-target_vehicleDets      GT_Dets   IDs       GT_IDs    \nTestVideo4-01                      975       971       219       1         \nCOMBINED                           975       971       219       1         \n\nEvaluating DeepOCSORT_faster_rcnn_0.5\n\n    MotChallenge2DBox.get_raw_seq_data(DeepOCSORT_faster_rcnn_0.5, TestVideo4-01) 0.1503 sec\n    MotChallenge2DBox.get_preprocessed_seq_data(target_vehicle)            0.2597 sec\n    HOTA.eval_sequence()                                                   0.3820 sec\n    CLEAR.eval_sequence()                                                  0.0740 sec\n    Identity.eval_sequence()                                               0.0230 sec\n    VACE.eval_sequence()                                                   0.0461 sec\n    Count.eval_sequence()                                                  0.0000 sec\n31 eval_sequence(TestVideo4-01, DeepOCSORT_faster_rcnn_0.5)               0.9394 sec\n\nAll sequences for DeepOCSORT_faster_rcnn_0.5 finished in 0.94 seconds\n\nHOTA: DeepOCSORT_faster_rcnn_0.5-target_vehicleHOTA      DetA      AssA      DetRe     DetPr     AssRe     AssPr     LocA      OWTA      HOTA(0)   LocA(0)   HOTALocA(0)\nTestVideo4-01                      30.682    37.121    25.607    48.203    48.005    27.516    60.752    71.205    35.097    51.193    59.512    30.466    \nCOMBINED                           30.682    37.121    25.607    48.203    48.005    27.516    60.752    71.205    35.097    51.193    59.512    30.466    \n\nCLEAR: DeepOCSORT_faster_rcnn_0.5-target_vehicleMOTA      MOTP      MODA      CLR_Re    CLR_Pr    MTR       PTR       MLR       sMOTA     CLR_TP    CLR_FN    CLR_FP    IDSW      MT        PT        ML        Frag      \nTestVideo4-01                      31.617    64.681    31.823    66.117    65.846    0         100       0         8.265     642       329       333       2         0         1         0         39        \nCOMBINED                           31.617    64.681    31.823    66.117    65.846    0         100       0         8.265     642       329       333       2         0         1         0         39        \n\nIdentity: DeepOCSORT_faster_rcnn_0.5-target_vehicleIDF1      IDR       IDP       IDTP      IDFN      IDFP      \nTestVideo4-01                      46.66     46.756    46.564    454       517       521       \nCOMBINED                           46.66     46.756    46.564    454       517       521       \n\nVACE: DeepOCSORT_faster_rcnn_0.5-target_vehicleSFDA      ATA       \nTestVideo4-01                      47.689    6.2341    \nCOMBINED                           47.689    6.2341    \n\nCount: DeepOCSORT_faster_rcnn_0.5-target_vehicleDets      GT_Dets   IDs       GT_IDs    \nTestVideo4-01                      975       971       14        1         \nCOMBINED                           975       971       14        1         \n\nEvaluating BotSORT_faster_rcnn_0.1\n\n    MotChallenge2DBox.get_raw_seq_data(BotSORT_faster_rcnn_0.1, TestVideo4-01) 0.1500 sec\n    MotChallenge2DBox.get_preprocessed_seq_data(target_vehicle)            0.2407 sec\n    HOTA.eval_sequence()                                                   0.3339 sec\n    CLEAR.eval_sequence()                                                  0.0713 sec\n    Identity.eval_sequence()                                               0.0235 sec\n    VACE.eval_sequence()                                                   0.0455 sec\n    Count.eval_sequence()                                                  0.0000 sec\n32 eval_sequence(TestVideo4-01, BotSORT_faster_rcnn_0.1)                  0.8693 sec\n\nAll sequences for BotSORT_faster_rcnn_0.1 finished in 0.87 seconds\n\nHOTA: BotSORT_faster_rcnn_0.1-target_vehicleHOTA      DetA      AssA      DetRe     DetPr     AssRe     AssPr     LocA      OWTA      HOTA(0)   LocA(0)   HOTALocA(0)\nTestVideo4-01                      11.055    20.311    6.3378    31.742    31.611    6.4827    72.089    73.007    13.909    16.036    61.343    9.8368    \nCOMBINED                           11.055    20.311    6.3378    31.742    31.611    6.4827    72.089    73.007    13.909    16.036    61.343    9.8368    \n\nCLEAR: BotSORT_faster_rcnn_0.1-target_vehicleMOTA      MOTP      MODA      CLR_Re    CLR_Pr    MTR       PTR       MLR       sMOTA     CLR_TP    CLR_FN    CLR_FP    IDSW      MT        PT        ML        Frag      \nTestVideo4-01                      -17.92    66.709    -14.109   43.151    42.974    0         100       0         -32.285   419       552       556       37        0         1         0         78        \nCOMBINED                           -17.92    66.709    -14.109   43.151    42.974    0         100       0         -32.285   419       552       556       37        0         1         0         78        \n\nIdentity: BotSORT_faster_rcnn_0.1-target_vehicleIDF1      IDR       IDP       IDTP      IDFN      IDFP      \nTestVideo4-01                      17.472    17.508    17.436    170       801       805       \nCOMBINED                           17.472    17.508    17.436    170       801       805       \n\nVACE: BotSORT_faster_rcnn_0.1-target_vehicleSFDA      ATA       \nTestVideo4-01                      31.384    0.21749   \nCOMBINED                           31.384    0.21749   \n\nCount: BotSORT_faster_rcnn_0.1-target_vehicleDets      GT_Dets   IDs       GT_IDs    \nTestVideo4-01                      975       971       160       1         \nCOMBINED                           975       971       160       1         \n\nEvaluating StrongSORT_retinanet_0.5\n\n    MotChallenge2DBox.get_raw_seq_data(StrongSORT_retinanet_0.5, TestVideo4-01) 0.1482 sec\n    MotChallenge2DBox.get_preprocessed_seq_data(target_vehicle)            0.2418 sec\n    HOTA.eval_sequence()                                                   0.3471 sec\n    CLEAR.eval_sequence()                                                  0.0698 sec\n    Identity.eval_sequence()                                               0.0231 sec\n    VACE.eval_sequence()                                                   0.0450 sec\n    Count.eval_sequence()                                                  0.0000 sec\n33 eval_sequence(TestVideo4-01, StrongSORT_retinanet_0.5)                 0.8796 sec\n\nAll sequences for StrongSORT_retinanet_0.5 finished in 0.88 seconds\n\nHOTA: StrongSORT_retinanet_0.5-target_vehicleHOTA      DetA      AssA      DetRe     DetPr     AssRe     AssPr     LocA      OWTA      HOTA(0)   LocA(0)   HOTALocA(0)\nTestVideo4-01                      19.407    23.974    15.963    35.774    35.628    17.134    60.725    72.2      23.8      31.131    59.266    18.45     \nCOMBINED                           19.407    23.974    15.963    35.774    35.628    17.134    60.725    72.2      23.8      31.131    59.266    18.45     \n\nCLEAR: StrongSORT_retinanet_0.5-target_vehicleMOTA      MOTP      MODA      CLR_Re    CLR_Pr    MTR       PTR       MLR       sMOTA     CLR_TP    CLR_FN    CLR_FP    IDSW      MT        PT        ML        Frag      \nTestVideo4-01                      -0.10299  64.727    0.30896   50.36     50.154    0         100       0         -17.866   489       482       486       4         0         1         0         24        \nCOMBINED                           -0.10299  64.727    0.30896   50.36     50.154    0         100       0         -17.866   489       482       486       4         0         1         0         24        \n\nIdentity: StrongSORT_retinanet_0.5-target_vehicleIDF1      IDR       IDP       IDTP      IDFN      IDFP      \nTestVideo4-01                      30.216    30.278    30.154    294       677       681       \nCOMBINED                           30.216    30.278    30.154    294       677       681       \n\nVACE: StrongSORT_retinanet_0.5-target_vehicleSFDA      ATA       \nTestVideo4-01                      35.338    1.2884    \nCOMBINED                           35.338    1.2884    \n\nCount: StrongSORT_retinanet_0.5-target_vehicleDets      GT_Dets   IDs       GT_IDs    \nTestVideo4-01                      975       971       46        1         \nCOMBINED                           975       971       46        1         \n\nEvaluating BotSORT_yolo_0.1\n\n    MotChallenge2DBox.get_raw_seq_data(BotSORT_yolo_0.1, TestVideo4-01)    0.1461 sec\n    MotChallenge2DBox.get_preprocessed_seq_data(target_vehicle)            0.2414 sec\n    HOTA.eval_sequence()                                                   0.3888 sec\n    CLEAR.eval_sequence()                                                  0.0726 sec\n    Identity.eval_sequence()                                               0.0234 sec\n    VACE.eval_sequence()                                                   0.0459 sec\n    Count.eval_sequence()                                                  0.0000 sec\n34 eval_sequence(TestVideo4-01, BotSORT_yolo_0.1)                         0.9226 sec\n\nAll sequences for BotSORT_yolo_0.1 finished in 0.92 seconds\n\nHOTA: BotSORT_yolo_0.1-target_vehicleHOTA      DetA      AssA      DetRe     DetPr     AssRe     AssPr     LocA      OWTA      HOTA(0)   LocA(0)   HOTALocA(0)\nTestVideo4-01                      22.557    38.18     13.865    49.764    49.56     14.376    70.68     73.425    25.983    33.832    63.691    21.548    \nCOMBINED                           22.557    38.18     13.865    49.764    49.56     14.376    70.68     73.425    25.983    33.832    63.691    21.548    \n\nCLEAR: BotSORT_yolo_0.1-target_vehicleMOTA      MOTP      MODA      CLR_Re    CLR_Pr    MTR       PTR       MLR       sMOTA     CLR_TP    CLR_FN    CLR_FP    IDSW      MT        PT        ML        Frag      \nTestVideo4-01                      39.238    65.549    43.975    72.194    71.897    0         100       0         14.367    701       270       274       46        0         1         0         46        \nCOMBINED                           39.238    65.549    43.975    72.194    71.897    0         100       0         14.367    701       270       274       46        0         1         0         46        \n\nIdentity: BotSORT_yolo_0.1-target_vehicleIDF1      IDR       IDP       IDTP      IDFN      IDFP      \nTestVideo4-01                      29.908    29.969    29.846    291       680       684       \nCOMBINED                           29.908    29.969    29.846    291       680       684       \n\nVACE: BotSORT_yolo_0.1-target_vehicleSFDA      ATA       \nTestVideo4-01                      48.996    0.50368   \nCOMBINED                           48.996    0.50368   \n\nCount: BotSORT_yolo_0.1-target_vehicleDets      GT_Dets   IDs       GT_IDs    \nTestVideo4-01                      975       971       118       1         \nCOMBINED                           975       971       118       1         \n\nEvaluating ByteTracker_yolo_0.1\n\n    MotChallenge2DBox.get_raw_seq_data(ByteTracker_yolo_0.1, TestVideo4-01) 0.1463 sec\n    MotChallenge2DBox.get_preprocessed_seq_data(target_vehicle)            0.2434 sec\n    HOTA.eval_sequence()                                                   0.3887 sec\n    CLEAR.eval_sequence()                                                  0.0725 sec\n    Identity.eval_sequence()                                               0.0237 sec\n    VACE.eval_sequence()                                                   0.0474 sec\n    Count.eval_sequence()                                                  0.0000 sec\n35 eval_sequence(TestVideo4-01, ByteTracker_yolo_0.1)                     0.9263 sec\n\nAll sequences for ByteTracker_yolo_0.1 finished in 0.93 seconds\n\nHOTA: ByteTracker_yolo_0.1-target_vehicleHOTA      DetA      AssA      DetRe     DetPr     AssRe     AssPr     LocA      OWTA      HOTA(0)   LocA(0)   HOTALocA(0)\nTestVideo4-01                      33.153    39.43     28.136    50.74     50.532    29.529    67.64     73.23     37.747    51.784    63.727    33        \nCOMBINED                           33.153    39.43     28.136    50.74     50.532    29.529    67.64     73.23     37.747    51.784    63.727    33        \n\nCLEAR: ByteTracker_yolo_0.1-target_vehicleMOTA      MOTP      MODA      CLR_Re    CLR_Pr    MTR       PTR       MLR       sMOTA     CLR_TP    CLR_FN    CLR_FP    IDSW      MT        PT        ML        Frag      \nTestVideo4-01                      45.314    65.54     45.623    73.018    72.718    0         100       0         20.152    709       262       266       3         0         1         0         37        \nCOMBINED                           45.314    65.54     45.623    73.018    72.718    0         100       0         20.152    709       262       266       3         0         1         0         37        \n\nIdentity: ByteTracker_yolo_0.1-target_vehicleIDF1      IDR       IDP       IDTP      IDFN      IDFP      \nTestVideo4-01                      49.332    49.434    49.231    480       491       495       \nCOMBINED                           49.332    49.434    49.231    480       491       495       \n\nVACE: ByteTracker_yolo_0.1-target_vehicleSFDA      ATA       \nTestVideo4-01                      50.001    2.0597    \nCOMBINED                           50.001    2.0597    \n\nCount: ByteTracker_yolo_0.1-target_vehicleDets      GT_Dets   IDs       GT_IDs    \nTestVideo4-01                      975       971       47        1         \nCOMBINED                           975       971       47        1         \n\nEvaluating DeepOCSORT_faster_rcnn_0.3\n\n    MotChallenge2DBox.get_raw_seq_data(DeepOCSORT_faster_rcnn_0.3, TestVideo4-01) 0.1489 sec\n    MotChallenge2DBox.get_preprocessed_seq_data(target_vehicle)            0.2395 sec\n    HOTA.eval_sequence()                                                   0.3612 sec\n    CLEAR.eval_sequence()                                                  0.0711 sec\n    Identity.eval_sequence()                                               0.0227 sec\n    VACE.eval_sequence()                                                   0.0462 sec\n    Count.eval_sequence()                                                  0.0000 sec\n36 eval_sequence(TestVideo4-01, DeepOCSORT_faster_rcnn_0.3)               0.8943 sec\n\nAll sequences for DeepOCSORT_faster_rcnn_0.3 finished in 0.90 seconds\n\nHOTA: DeepOCSORT_faster_rcnn_0.3-target_vehicleHOTA      DetA      AssA      DetRe     DetPr     AssRe     AssPr     LocA      OWTA      HOTA(0)   LocA(0)   HOTALocA(0)\nTestVideo4-01                      27.575    29.646    25.763    41.78     41.609    27.84     62.581    72.192    32.8      44.72     61.623    27.557    \nCOMBINED                           27.575    29.646    25.763    41.78     41.609    27.84     62.581    72.192    32.8      44.72     61.623    27.557    \n\nCLEAR: DeepOCSORT_faster_rcnn_0.3-target_vehicleMOTA      MOTP      MODA      CLR_Re    CLR_Pr    MTR       PTR       MLR       sMOTA     CLR_TP    CLR_FN    CLR_FP    IDSW      MT        PT        ML        Frag      \nTestVideo4-01                      8.7539    66.266    9.1658    54.789    54.564    0         100       0         -9.7284   532       439       443       4         0         1         0         42        \nCOMBINED                           8.7539    66.266    9.1658    54.789    54.564    0         100       0         -9.7284   532       439       443       4         0         1         0         42        \n\nIdentity: DeepOCSORT_faster_rcnn_0.3-target_vehicleIDF1      IDR       IDP       IDTP      IDFN      IDFP      \nTestVideo4-01                      44.81     44.902    44.718    436       535       539       \nCOMBINED                           44.81     44.902    44.718    436       535       539       \n\nVACE: DeepOCSORT_faster_rcnn_0.3-target_vehicleSFDA      ATA       \nTestVideo4-01                      41.215    2.4946    \nCOMBINED                           41.215    2.4946    \n\nCount: DeepOCSORT_faster_rcnn_0.3-target_vehicleDets      GT_Dets   IDs       GT_IDs    \nTestVideo4-01                      975       971       35        1         \nCOMBINED                           975       971       35        1         \n\nEvaluating ByteTracker_yolo_0.3\n\n    MotChallenge2DBox.get_raw_seq_data(ByteTracker_yolo_0.3, TestVideo4-01) 0.1477 sec\n    MotChallenge2DBox.get_preprocessed_seq_data(target_vehicle)            0.2416 sec\n    HOTA.eval_sequence()                                                   0.3899 sec\n    CLEAR.eval_sequence()                                                  0.0717 sec\n    Identity.eval_sequence()                                               0.0238 sec\n    VACE.eval_sequence()                                                   0.0457 sec\n    Count.eval_sequence()                                                  0.0000 sec\n37 eval_sequence(TestVideo4-01, ByteTracker_yolo_0.3)                     0.9249 sec\n\nAll sequences for ByteTracker_yolo_0.3 finished in 0.93 seconds\n\nHOTA: ByteTracker_yolo_0.3-target_vehicleHOTA      DetA      AssA      DetRe     DetPr     AssRe     AssPr     LocA      OWTA      HOTA(0)   LocA(0)   HOTALocA(0)\nTestVideo4-01                      32.664    38.352    28.073    49.846    49.641    29.423    67.767    73.248    37.373    50.889    63.551    32.341    \nCOMBINED                           32.664    38.352    28.073    49.846    49.641    29.423    67.767    73.248    37.373    50.889    63.551    32.341    \n\nCLEAR: ByteTracker_yolo_0.3-target_vehicleMOTA      MOTP      MODA      CLR_Re    CLR_Pr    MTR       PTR       MLR       sMOTA     CLR_TP    CLR_FN    CLR_FP    IDSW      MT        PT        ML        Frag      \nTestVideo4-01                      44.078    65.381    44.387    72.4      72.103    0         100       0         19.014    703       268       272       3         0         1         0         35        \nCOMBINED                           44.078    65.381    44.387    72.4      72.103    0         100       0         19.014    703       268       272       3         0         1         0         35        \n\nIdentity: ByteTracker_yolo_0.3-target_vehicleIDF1      IDR       IDP       IDTP      IDFN      IDFP      \nTestVideo4-01                      49.435    49.537    49.333    481       490       494       \nCOMBINED                           49.435    49.537    49.333    481       490       494       \n\nVACE: ByteTracker_yolo_0.3-target_vehicleSFDA      ATA       \nTestVideo4-01                      49.095    1.8347    \nCOMBINED                           49.095    1.8347    \n\nCount: ByteTracker_yolo_0.3-target_vehicleDets      GT_Dets   IDs       GT_IDs    \nTestVideo4-01                      975       971       53        1         \nCOMBINED                           975       971       53        1         \n\nEvaluating DeepOCSORT_cascade_rcnn_0.5\n\n    MotChallenge2DBox.get_raw_seq_data(DeepOCSORT_cascade_rcnn_0.5, TestVideo4-01) 0.1509 sec\n    MotChallenge2DBox.get_preprocessed_seq_data(target_vehicle)            0.2417 sec\n    HOTA.eval_sequence()                                                   0.3733 sec\n    CLEAR.eval_sequence()                                                  0.0719 sec\n    Identity.eval_sequence()                                               0.0227 sec\n    VACE.eval_sequence()                                                   0.0454 sec\n    Count.eval_sequence()                                                  0.0000 sec\n38 eval_sequence(TestVideo4-01, DeepOCSORT_cascade_rcnn_0.5)              0.9106 sec\n\nAll sequences for DeepOCSORT_cascade_rcnn_0.5 finished in 0.91 seconds\n\nHOTA: DeepOCSORT_cascade_rcnn_0.5-target_vehicleHOTA      DetA      AssA      DetRe     DetPr     AssRe     AssPr     LocA      OWTA      HOTA(0)   LocA(0)   HOTALocA(0)\nTestVideo4-01                      25.291    33.477    19.607    45.634    45.447    21.134    62.147    72.632    29.726    40.847    60.395    24.67     \nCOMBINED                           25.291    33.477    19.607    45.634    45.447    21.134    62.147    72.632    29.726    40.847    60.395    24.67     \n\nCLEAR: DeepOCSORT_cascade_rcnn_0.5-target_vehicleMOTA      MOTP      MODA      CLR_Re    CLR_Pr    MTR       PTR       MLR       sMOTA     CLR_TP    CLR_FN    CLR_FP    IDSW      MT        PT        ML        Frag      \nTestVideo4-01                      25.335    66.121    25.644    63.028    62.769    0         100       0         3.9817    612       359       363       3         0         1         0         25        \nCOMBINED                           25.335    66.121    25.644    63.028    62.769    0         100       0         3.9817    612       359       363       3         0         1         0         25        \n\nIdentity: DeepOCSORT_cascade_rcnn_0.5-target_vehicleIDF1      IDR       IDP       IDTP      IDFN      IDFP      \nTestVideo4-01                      37.307    37.384    37.231    363       608       612       \nCOMBINED                           37.307    37.384    37.231    363       608       612       \n\nVACE: DeepOCSORT_cascade_rcnn_0.5-target_vehicleSFDA      ATA       \nTestVideo4-01                      45.083    2.7692    \nCOMBINED                           45.083    2.7692    \n\nCount: DeepOCSORT_cascade_rcnn_0.5-target_vehicleDets      GT_Dets   IDs       GT_IDs    \nTestVideo4-01                      975       971       26        1         \nCOMBINED                           975       971       26        1         \n\nEvaluating BotSORT_cascade_rcnn_0.3\n\n    MotChallenge2DBox.get_raw_seq_data(BotSORT_cascade_rcnn_0.3, TestVideo4-01) 0.1498 sec\n    MotChallenge2DBox.get_preprocessed_seq_data(target_vehicle)            0.2427 sec\n    HOTA.eval_sequence()                                                   0.3533 sec\n    CLEAR.eval_sequence()                                                  0.0703 sec\n    Identity.eval_sequence()                                               0.0248 sec\n    VACE.eval_sequence()                                                   0.0457 sec\n    Count.eval_sequence()                                                  0.0000 sec\n39 eval_sequence(TestVideo4-01, BotSORT_cascade_rcnn_0.3)                 0.8912 sec\n\nAll sequences for BotSORT_cascade_rcnn_0.3 finished in 0.89 seconds\n\nHOTA: BotSORT_cascade_rcnn_0.3-target_vehicleHOTA      DetA      AssA      DetRe     DetPr     AssRe     AssPr     LocA      OWTA      HOTA(0)   LocA(0)   HOTALocA(0)\nTestVideo4-01                      15.725    26.387    9.6675    38.902    38.742    9.9357    72.669    74.085    19.203    22.857    63.425    14.497    \nCOMBINED                           15.725    26.387    9.6675    38.902    38.742    9.9357    72.669    74.085    19.203    22.857    63.425    14.497    \n\nCLEAR: BotSORT_cascade_rcnn_0.3-target_vehicleMOTA      MOTP      MODA      CLR_Re    CLR_Pr    MTR       PTR       MLR       sMOTA     CLR_TP    CLR_FN    CLR_FP    IDSW      MT        PT        ML        Frag      \nTestVideo4-01                      4.9434    67.322    10.608    55.51     55.282    0         100       0         -13.196   539       432       436       55        0         1         0         93        \nCOMBINED                           4.9434    67.322    10.608    55.51     55.282    0         100       0         -13.196   539       432       436       55        0         1         0         93        \n\nIdentity: BotSORT_cascade_rcnn_0.3-target_vehicleIDF1      IDR       IDP       IDTP      IDFN      IDFP      \nTestVideo4-01                      24.255    24.305    24.205    236       735       739       \nCOMBINED                           24.255    24.305    24.205    236       735       739       \n\nVACE: BotSORT_cascade_rcnn_0.3-target_vehicleSFDA      ATA       \nTestVideo4-01                      38.414    0.18138   \nCOMBINED                           38.414    0.18138   \n\nCount: BotSORT_cascade_rcnn_0.3-target_vehicleDets      GT_Dets   IDs       GT_IDs    \nTestVideo4-01                      975       971       267       1         \nCOMBINED                           975       971       267       1         \n\nEvaluating BotSORT_cascade_rcnn_0.1\n\n    MotChallenge2DBox.get_raw_seq_data(BotSORT_cascade_rcnn_0.1, TestVideo4-01) 0.1464 sec\n    MotChallenge2DBox.get_preprocessed_seq_data(target_vehicle)            0.2439 sec\n    HOTA.eval_sequence()                                                   0.3346 sec\n    CLEAR.eval_sequence()                                                  0.0696 sec\n    Identity.eval_sequence()                                               0.0230 sec\n    VACE.eval_sequence()                                                   0.0453 sec\n    Count.eval_sequence()                                                  0.0000 sec\n40 eval_sequence(TestVideo4-01, BotSORT_cascade_rcnn_0.1)                 0.8672 sec\n\nAll sequences for BotSORT_cascade_rcnn_0.1 finished in 0.87 seconds\n\nHOTA: BotSORT_cascade_rcnn_0.1-target_vehicleHOTA      DetA      AssA      DetRe     DetPr     AssRe     AssPr     LocA      OWTA      HOTA(0)   LocA(0)   HOTALocA(0)\nTestVideo4-01                      10.535    19.978    5.891     31.649    31.52     6.0006    78.001    74.858    13.346    14.383    63.75     9.169     \nCOMBINED                           10.535    19.978    5.891     31.649    31.52     6.0006    78.001    74.858    13.346    14.383    63.75     9.169     \n\nCLEAR: BotSORT_cascade_rcnn_0.1-target_vehicleMOTA      MOTP      MODA      CLR_Re    CLR_Pr    MTR       PTR       MLR       sMOTA     CLR_TP    CLR_FN    CLR_FP    IDSW      MT        PT        ML        Frag      \nTestVideo4-01                      -17.405   68.634    -12.461   43.975    43.795    0         100       0         -31.198   427       544       548       48        0         1         0         60        \nCOMBINED                           -17.405   68.634    -12.461   43.975    43.795    0         100       0         -31.198   427       544       548       48        0         1         0         60        \n\nIdentity: BotSORT_cascade_rcnn_0.1-target_vehicleIDF1      IDR       IDP       IDTP      IDFN      IDFP      \nTestVideo4-01                      16.238    16.272    16.205    158       813       817       \nCOMBINED                           16.238    16.272    16.205    158       813       817       \n\nVACE: BotSORT_cascade_rcnn_0.1-target_vehicleSFDA      ATA       \nTestVideo4-01                      31.244    0.20214   \nCOMBINED                           31.244    0.20214   \n\nCount: BotSORT_cascade_rcnn_0.1-target_vehicleDets      GT_Dets   IDs       GT_IDs    \nTestVideo4-01                      975       971       160       1         \nCOMBINED                           975       971       160       1         \n\nEvaluating BotSORT_retinanet_0.5\n\n    MotChallenge2DBox.get_raw_seq_data(BotSORT_retinanet_0.5, TestVideo4-01) 0.1455 sec\n    MotChallenge2DBox.get_preprocessed_seq_data(target_vehicle)            0.2396 sec\n    HOTA.eval_sequence()                                                   0.3402 sec\n    CLEAR.eval_sequence()                                                  0.0699 sec\n    Identity.eval_sequence()                                               0.0248 sec\n    VACE.eval_sequence()                                                   0.0450 sec\n    Count.eval_sequence()                                                  0.0000 sec\n41 eval_sequence(TestVideo4-01, BotSORT_retinanet_0.5)                    0.8696 sec\n\nAll sequences for BotSORT_retinanet_0.5 finished in 0.87 seconds\n\nHOTA: BotSORT_retinanet_0.5-target_vehicleHOTA      DetA      AssA      DetRe     DetPr     AssRe     AssPr     LocA      OWTA      HOTA(0)   LocA(0)   HOTALocA(0)\nTestVideo4-01                      16.866    22.812    12.792    34.604    34.462    13.258    70.595    73.074    20.878    25.478    61.945    15.782    \nCOMBINED                           16.866    22.812    12.792    34.604    34.462    13.258    70.595    73.074    20.878    25.478    61.945    15.782    \n\nCLEAR: BotSORT_retinanet_0.5-target_vehicleMOTA      MOTP      MODA      CLR_Re    CLR_Pr    MTR       PTR       MLR       sMOTA     CLR_TP    CLR_FN    CLR_FP    IDSW      MT        PT        ML        Frag      \nTestVideo4-01                      -8.2389   65.311    -2.7806   48.816    48.615    0         100       0         -25.172   474       497       501       53        0         1         0         39        \nCOMBINED                           -8.2389   65.311    -2.7806   48.816    48.615    0         100       0         -25.172   474       497       501       53        0         1         0         39        \n\nIdentity: BotSORT_retinanet_0.5-target_vehicleIDF1      IDR       IDP       IDTP      IDFN      IDFP      \nTestVideo4-01                      28.469    28.527    28.41     277       694       698       \nCOMBINED                           28.469    28.527    28.41     277       694       698       \n\nVACE: BotSORT_retinanet_0.5-target_vehicleSFDA      ATA       \nTestVideo4-01                      34.143    0.3437    \nCOMBINED                           34.143    0.3437    \n\nCount: BotSORT_retinanet_0.5-target_vehicleDets      GT_Dets   IDs       GT_IDs    \nTestVideo4-01                      975       971       165       1         \nCOMBINED                           975       971       165       1         \n\nEvaluating DeepOCSORT_retinanet_0.5\n\n    MotChallenge2DBox.get_raw_seq_data(DeepOCSORT_retinanet_0.5, TestVideo4-01) 0.1478 sec\n    MotChallenge2DBox.get_preprocessed_seq_data(target_vehicle)            0.2413 sec\n    HOTA.eval_sequence()                                                   0.3462 sec\n    CLEAR.eval_sequence()                                                  0.0702 sec\n    Identity.eval_sequence()                                               0.0225 sec\n    VACE.eval_sequence()                                                   0.0453 sec\n    Count.eval_sequence()                                                  0.0000 sec\n42 eval_sequence(TestVideo4-01, DeepOCSORT_retinanet_0.5)                 0.8777 sec\n\nAll sequences for DeepOCSORT_retinanet_0.5 finished in 0.88 seconds\n\nHOTA: DeepOCSORT_retinanet_0.5-target_vehicleHOTA      DetA      AssA      DetRe     DetPr     AssRe     AssPr     LocA      OWTA      HOTA(0)   LocA(0)   HOTALocA(0)\nTestVideo4-01                      20.944    24.138    18.339    35.834    35.687    19.456    61.17     71.829    25.584    35.296    59.83     21.117    \nCOMBINED                           20.944    24.138    18.339    35.834    35.687    19.456    61.17     71.829    25.584    35.296    59.83     21.117    \n\nCLEAR: DeepOCSORT_retinanet_0.5-target_vehicleMOTA      MOTP      MODA      CLR_Re    CLR_Pr    MTR       PTR       MLR       sMOTA     CLR_TP    CLR_FN    CLR_FP    IDSW      MT        PT        ML        Frag      \nTestVideo4-01                      1.2358    64.199    1.3388    50.875    50.667    0         100       0         -16.978   494       477       481       1         0         1         0         19        \nCOMBINED                           1.2358    64.199    1.3388    50.875    50.667    0         100       0         -16.978   494       477       481       1         0         1         0         19        \n\nIdentity: DeepOCSORT_retinanet_0.5-target_vehicleIDF1      IDR       IDP       IDTP      IDFN      IDFP      \nTestVideo4-01                      30.421    30.484    30.359    296       675       679       \nCOMBINED                           30.421    30.484    30.359    296       675       679       \n\nVACE: DeepOCSORT_retinanet_0.5-target_vehicleSFDA      ATA       \nTestVideo4-01                      35.423    3.8105    \nCOMBINED                           35.423    3.8105    \n\nCount: DeepOCSORT_retinanet_0.5-target_vehicleDets      GT_Dets   IDs       GT_IDs    \nTestVideo4-01                      975       971       15        1         \nCOMBINED                           975       971       15        1         \n\nEvaluating StrongSORT_faster_rcnn_0.1\n\n    MotChallenge2DBox.get_raw_seq_data(StrongSORT_faster_rcnn_0.1, TestVideo4-01) 0.1484 sec\n    MotChallenge2DBox.get_preprocessed_seq_data(target_vehicle)            0.2402 sec\n    HOTA.eval_sequence()                                                   0.3529 sec\n    CLEAR.eval_sequence()                                                  0.0707 sec\n    Identity.eval_sequence()                                               0.0226 sec\n    VACE.eval_sequence()                                                   0.0462 sec\n    Count.eval_sequence()                                                  0.0000 sec\n43 eval_sequence(TestVideo4-01, StrongSORT_faster_rcnn_0.1)               0.8851 sec\n\nAll sequences for StrongSORT_faster_rcnn_0.1 finished in 0.89 seconds\n\nHOTA: StrongSORT_faster_rcnn_0.1-target_vehicleHOTA      DetA      AssA      DetRe     DetPr     AssRe     AssPr     LocA      OWTA      HOTA(0)   LocA(0)   HOTALocA(0)\nTestVideo4-01                      24.51     26.409    22.848    38.577    38.418    25.026    57.473    72.528    29.675    39.983    60.678    24.261    \nCOMBINED                           24.51     26.409    22.848    38.577    38.418    25.026    57.473    72.528    29.675    39.983    60.678    24.261    \n\nCLEAR: StrongSORT_faster_rcnn_0.1-target_vehicleMOTA      MOTP      MODA      CLR_Re    CLR_Pr    MTR       PTR       MLR       sMOTA     CLR_TP    CLR_FN    CLR_FP    IDSW      MT        PT        ML        Frag      \nTestVideo4-01                      0.92688   66.717    1.3388    50.875    50.667    0         100       0         -16.006   494       477       481       4         0         1         0         61        \nCOMBINED                           0.92688   66.717    1.3388    50.875    50.667    0         100       0         -16.006   494       477       481       4         0         1         0         61        \n\nIdentity: StrongSORT_faster_rcnn_0.1-target_vehicleIDF1      IDR       IDP       IDTP      IDFN      IDFP      \nTestVideo4-01                      38.849    38.929    38.769    378       593       597       \nCOMBINED                           38.849    38.929    38.769    378       593       597       \n\nVACE: StrongSORT_faster_rcnn_0.1-target_vehicleSFDA      ATA       \nTestVideo4-01                      38.128    2.5953    \nCOMBINED                           38.128    2.5953    \n\nCount: StrongSORT_faster_rcnn_0.1-target_vehicleDets      GT_Dets   IDs       GT_IDs    \nTestVideo4-01                      975       971       29        1         \nCOMBINED                           975       971       29        1         \n\nEvaluating ByteTracker_cascade_rcnn_1e-05\n\n    MotChallenge2DBox.get_raw_seq_data(ByteTracker_cascade_rcnn_1e-05, TestVideo4-01) 0.1484 sec\n    MotChallenge2DBox.get_preprocessed_seq_data(target_vehicle)            0.2409 sec\n    HOTA.eval_sequence()                                                   0.3515 sec\n    CLEAR.eval_sequence()                                                  0.0711 sec\n    Identity.eval_sequence()                                               0.0229 sec\n    VACE.eval_sequence()                                                   0.0455 sec\n    Count.eval_sequence()                                                  0.0000 sec\n44 eval_sequence(TestVideo4-01, ByteTracker_cascade_rcnn_1e-05)           0.8853 sec\n\nAll sequences for ByteTracker_cascade_rcnn_1e-05 finished in 0.89 seconds\n\nHOTA: ByteTracker_cascade_rcnn_1e-05-target_vehicleHOTA      DetA      AssA      DetRe     DetPr     AssRe     AssPr     LocA      OWTA      HOTA(0)   LocA(0)   HOTALocA(0)\nTestVideo4-01                      7.0198    23.914    2.3892    35.818    35.671    2.4022    79.888    72.37     8.7143    10.289    58.265    5.9951    \nCOMBINED                           7.0198    23.914    2.3892    35.818    35.671    2.4022    79.888    72.37     8.7143    10.289    58.265    5.9951    \n\nCLEAR: ByteTracker_cascade_rcnn_1e-05-target_vehicleMOTA      MOTP      MODA      CLR_Re    CLR_Pr    MTR       PTR       MLR       sMOTA     CLR_TP    CLR_FN    CLR_FP    IDSW      MT        PT        ML        Frag      \nTestVideo4-01                      -15.86    66.879    -10.402   45.005    44.821    0         100       0         -30.766   437       534       538       53        0         1         0         29        \nCOMBINED                           -15.86    66.879    -10.402   45.005    44.821    0         100       0         -30.766   437       534       538       53        0         1         0         29        \n\nIdentity: ByteTracker_cascade_rcnn_1e-05-target_vehicleIDF1      IDR       IDP       IDTP      IDFN      IDFP      \nTestVideo4-01                      6.2693    6.2822    6.2564    61        910       914       \nCOMBINED                           6.2693    6.2822    6.2564    61        910       914       \n\nVACE: ByteTracker_cascade_rcnn_1e-05-target_vehicleSFDA      ATA       \nTestVideo4-01                      35.431    0.11853   \nCOMBINED                           35.431    0.11853   \n\nCount: ByteTracker_cascade_rcnn_1e-05-target_vehicleDets      GT_Dets   IDs       GT_IDs    \nTestVideo4-01                      975       971       105       1         \nCOMBINED                           975       971       105       1         \n\nEvaluating BotSORT_yolo_1e-05\n\n    MotChallenge2DBox.get_raw_seq_data(BotSORT_yolo_1e-05, TestVideo4-01)  0.1475 sec\n    MotChallenge2DBox.get_preprocessed_seq_data(target_vehicle)            0.2403 sec\n    HOTA.eval_sequence()                                                   0.3436 sec\n    CLEAR.eval_sequence()                                                  0.0714 sec\n    Identity.eval_sequence()                                               0.0228 sec\n    VACE.eval_sequence()                                                   0.0455 sec\n    Count.eval_sequence()                                                  0.0000 sec\n45 eval_sequence(TestVideo4-01, BotSORT_yolo_1e-05)                       0.8758 sec\n\nAll sequences for BotSORT_yolo_1e-05 finished in 0.88 seconds\n\nHOTA: BotSORT_yolo_1e-05-target_vehicleHOTA      DetA      AssA      DetRe     DetPr     AssRe     AssPr     LocA      OWTA      HOTA(0)   LocA(0)   HOTALocA(0)\nTestVideo4-01                      9.6693    23.485    4.5346    35.167    35.023    4.6093    73.401    71.592    11.987    14.509    57.661    8.3662    \nCOMBINED                           9.6693    23.485    4.5346    35.167    35.023    4.6093    73.401    71.592    11.987    14.509    57.661    8.3662    \n\nCLEAR: BotSORT_yolo_1e-05-target_vehicleMOTA      MOTP      MODA      CLR_Re    CLR_Pr    MTR       PTR       MLR       sMOTA     CLR_TP    CLR_FN    CLR_FP    IDSW      MT        PT        ML        Frag      \nTestVideo4-01                      -13.8     65.677    -10.402   45.005    44.821    0         100       0         -29.248   437       534       538       33        0         1         0         30        \nCOMBINED                           -13.8     65.677    -10.402   45.005    44.821    0         100       0         -29.248   437       534       538       33        0         1         0         30        \n\nIdentity: BotSORT_yolo_1e-05-target_vehicleIDF1      IDR       IDP       IDTP      IDFN      IDFP      \nTestVideo4-01                      11.408    11.432    11.385    111       860       864       \nCOMBINED                           11.408    11.432    11.385    111       860       864       \n\nVACE: BotSORT_yolo_1e-05-target_vehicleSFDA      ATA       \nTestVideo4-01                      34.794    0.30484   \nCOMBINED                           34.794    0.30484   \n\nCount: BotSORT_yolo_1e-05-target_vehicleDets      GT_Dets   IDs       GT_IDs    \nTestVideo4-01                      975       971       74        1         \nCOMBINED                           975       971       74        1         \n\nEvaluating ByteTracker_retinanet_0.5\n\n    MotChallenge2DBox.get_raw_seq_data(ByteTracker_retinanet_0.5, TestVideo4-01) 0.1478 sec\n    MotChallenge2DBox.get_preprocessed_seq_data(target_vehicle)            0.2426 sec\n    HOTA.eval_sequence()                                                   0.3421 sec\n    CLEAR.eval_sequence()                                                  0.0700 sec\n    Identity.eval_sequence()                                               0.0281 sec\n    VACE.eval_sequence()                                                   0.0536 sec\n    Count.eval_sequence()                                                  0.0000 sec\n46 eval_sequence(TestVideo4-01, ByteTracker_retinanet_0.5)                0.8890 sec\n\nAll sequences for ByteTracker_retinanet_0.5 finished in 0.89 seconds\n\nHOTA: ByteTracker_retinanet_0.5-target_vehicleHOTA      DetA      AssA      DetRe     DetPr     AssRe     AssPr     LocA      OWTA      HOTA(0)   LocA(0)   HOTALocA(0)\nTestVideo4-01                      17.656    22.51     14.2      34.365    34.224    14.697    71.623    73.308    21.925    26.313    61.567    16.2      \nCOMBINED                           17.656    22.51     14.2      34.365    34.224    14.697    71.623    73.308    21.925    26.313    61.567    16.2      \n\nCLEAR: ByteTracker_retinanet_0.5-target_vehicleMOTA      MOTP      MODA      CLR_Re    CLR_Pr    MTR       PTR       MLR       sMOTA     CLR_TP    CLR_FN    CLR_FP    IDSW      MT        PT        ML        Frag      \nTestVideo4-01                      -7.1061   66.228    -6.0762   47.168    46.974    0         100       0         -23.035   458       513       517       10        0         1         0         38        \nCOMBINED                           -7.1061   66.228    -6.0762   47.168    46.974    0         100       0         -23.035   458       513       517       10        0         1         0         38        \n\nIdentity: ByteTracker_retinanet_0.5-target_vehicleIDF1      IDR       IDP       IDTP      IDFN      IDFP      \nTestVideo4-01                      28.571    28.63     28.513    278       693       697       \nCOMBINED                           28.571    28.63     28.513    278       693       697       \n\nVACE: ByteTracker_retinanet_0.5-target_vehicleSFDA      ATA       \nTestVideo4-01                      33.877    0.59032   \nCOMBINED                           33.877    0.59032   \n\nCount: ByteTracker_retinanet_0.5-target_vehicleDets      GT_Dets   IDs       GT_IDs    \nTestVideo4-01                      975       971       96        1         \nCOMBINED                           975       971       96        1         \n\nEvaluating DeepOCSORT_cascade_rcnn_0.3\n\n    MotChallenge2DBox.get_raw_seq_data(DeepOCSORT_cascade_rcnn_0.3, TestVideo4-01) 0.1509 sec\n    MotChallenge2DBox.get_preprocessed_seq_data(target_vehicle)            0.2429 sec\n    HOTA.eval_sequence()                                                   0.3881 sec\n    CLEAR.eval_sequence()                                                  0.0726 sec\n    Identity.eval_sequence()                                               0.0236 sec\n    VACE.eval_sequence()                                                   0.0467 sec\n    Count.eval_sequence()                                                  0.0000 sec\n47 eval_sequence(TestVideo4-01, DeepOCSORT_cascade_rcnn_0.3)              0.9292 sec\n\nAll sequences for DeepOCSORT_cascade_rcnn_0.3 finished in 0.93 seconds\n\nHOTA: DeepOCSORT_cascade_rcnn_0.3-target_vehicleHOTA      DetA      AssA      DetRe     DetPr     AssRe     AssPr     LocA      OWTA      HOTA(0)   LocA(0)   HOTALocA(0)\nTestVideo4-01                      31.522    37.238    26.938    49.19     48.988    29.074    64.245    73.621    36.36     48.412    64.542    31.246    \nCOMBINED                           31.522    37.238    26.938    49.19     48.988    29.074    64.245    73.621    36.36     48.412    64.542    31.246    \n\nCLEAR: DeepOCSORT_cascade_rcnn_0.3-target_vehicleMOTA      MOTP      MODA      CLR_Re    CLR_Pr    MTR       PTR       MLR       sMOTA     CLR_TP    CLR_FN    CLR_FP    IDSW      MT        PT        ML        Frag      \nTestVideo4-01                      39.444    66.66     39.65     70.031    69.744    0         100       0         16.096    680       291       295       2         0         1         0         20        \nCOMBINED                           39.444    66.66     39.65     70.031    69.744    0         100       0         16.096    680       291       295       2         0         1         0         20        \n\nIdentity: DeepOCSORT_cascade_rcnn_0.3-target_vehicleIDF1      IDR       IDP       IDTP      IDFN      IDFP      \nTestVideo4-01                      49.743    49.846    49.641    484       487       491       \nCOMBINED                           49.743    49.846    49.641    484       487       491       \n\nVACE: DeepOCSORT_cascade_rcnn_0.3-target_vehicleSFDA      ATA       \nTestVideo4-01                      48.417    3.8343    \nCOMBINED                           48.417    3.8343    \n\nCount: DeepOCSORT_cascade_rcnn_0.3-target_vehicleDets      GT_Dets   IDs       GT_IDs    \nTestVideo4-01                      975       971       25        1         \nCOMBINED                           975       971       25        1         \n\nEvaluating DeepOCSORT_retinanet_0.3\n\n    MotChallenge2DBox.get_raw_seq_data(DeepOCSORT_retinanet_0.3, TestVideo4-01) 0.1481 sec\n    MotChallenge2DBox.get_preprocessed_seq_data(target_vehicle)            0.2408 sec\n    HOTA.eval_sequence()                                                   0.3677 sec\n    CLEAR.eval_sequence()                                                  0.0723 sec\n    Identity.eval_sequence()                                               0.0226 sec\n    VACE.eval_sequence()                                                   0.0469 sec\n    Count.eval_sequence()                                                  0.0000 sec\n48 eval_sequence(TestVideo4-01, DeepOCSORT_retinanet_0.3)                 0.9029 sec\n\nAll sequences for DeepOCSORT_retinanet_0.3 finished in 0.90 seconds\n\nHOTA: DeepOCSORT_retinanet_0.3-target_vehicleHOTA      DetA      AssA      DetRe     DetPr     AssRe     AssPr     LocA      OWTA      HOTA(0)   LocA(0)   HOTALocA(0)\nTestVideo4-01                      22.801    31.679    17.19     43.943    43.762    17.963    68.249    72.877    27.099    34.616    62.153    21.515    \nCOMBINED                           22.801    31.679    17.19     43.943    43.762    17.963    68.249    72.877    27.099    34.616    62.153    21.515    \n\nCLEAR: DeepOCSORT_retinanet_0.3-target_vehicleMOTA      MOTP      MODA      CLR_Re    CLR_Pr    MTR       PTR       MLR       sMOTA     CLR_TP    CLR_FN    CLR_FP    IDSW      MT        PT        ML        Frag      \nTestVideo4-01                      18.229    66.443    18.641    59.526    59.282    0         100       0         -1.7468   578       393       397       4         0         1         0         28        \nCOMBINED                           18.229    66.443    18.641    59.526    59.282    0         100       0         -1.7468   578       393       397       4         0         1         0         28        \n\nIdentity: DeepOCSORT_retinanet_0.3-target_vehicleIDF1      IDR       IDP       IDTP      IDFN      IDFP      \nTestVideo4-01                      32.169    32.235    32.103    313       658       662       \nCOMBINED                           32.169    32.235    32.103    313       658       662       \n\nVACE: DeepOCSORT_retinanet_0.3-target_vehicleSFDA      ATA       \nTestVideo4-01                      43.371    1.842     \nCOMBINED                           43.371    1.842     \n\nCount: DeepOCSORT_retinanet_0.3-target_vehicleDets      GT_Dets   IDs       GT_IDs    \nTestVideo4-01                      975       971       34        1         \nCOMBINED                           975       971       34        1         \n\nEvaluating StrongSORT_cascade_rcnn_1e-05\n\n    MotChallenge2DBox.get_raw_seq_data(StrongSORT_cascade_rcnn_1e-05, TestVideo4-01) 0.1468 sec\n    MotChallenge2DBox.get_preprocessed_seq_data(target_vehicle)            0.2402 sec\n    HOTA.eval_sequence()                                                   0.3281 sec\n    CLEAR.eval_sequence()                                                  0.0696 sec\n    Identity.eval_sequence()                                               0.0223 sec\n    VACE.eval_sequence()                                                   0.0453 sec\n    Count.eval_sequence()                                                  0.0000 sec\n49 eval_sequence(TestVideo4-01, StrongSORT_cascade_rcnn_1e-05)            0.8568 sec\n\nAll sequences for StrongSORT_cascade_rcnn_1e-05 finished in 0.86 seconds\n\nHOTA: StrongSORT_cascade_rcnn_1e-05-target_vehicleHOTA      DetA      AssA      DetRe     DetPr     AssRe     AssPr     LocA      OWTA      HOTA(0)   LocA(0)   HOTALocA(0)\nTestVideo4-01                      12.827    18.607    9.5299    29.628    29.506    9.9012    63.777    72.496    16.322    20.263    55.776    11.302    \nCOMBINED                           12.827    18.607    9.5299    29.628    29.506    9.9012    63.777    72.496    16.322    20.263    55.776    11.302    \n\nCLEAR: StrongSORT_cascade_rcnn_1e-05-target_vehicleMOTA      MOTP      MODA      CLR_Re    CLR_Pr    MTR       PTR       MLR       sMOTA     CLR_TP    CLR_FN    CLR_FP    IDSW      MT        PT        ML        Frag      \nTestVideo4-01                      -29.248   68.616    -28.527   35.942    35.795    0         100       0         -40.528   349       622       626       7         0         1         0         51        \nCOMBINED                           -29.248   68.616    -28.527   35.942    35.795    0         100       0         -40.528   349       622       626       7         0         1         0         51        \n\nIdentity: StrongSORT_cascade_rcnn_1e-05-target_vehicleIDF1      IDR       IDP       IDTP      IDFN      IDFP      \nTestVideo4-01                      16.752    16.787    16.718    163       808       812       \nCOMBINED                           16.752    16.787    16.718    163       808       812       \n\nVACE: StrongSORT_cascade_rcnn_1e-05-target_vehicleSFDA      ATA       \nTestVideo4-01                      29.337    0.9074    \nCOMBINED                           29.337    0.9074    \n\nCount: StrongSORT_cascade_rcnn_1e-05-target_vehicleDets      GT_Dets   IDs       GT_IDs    \nTestVideo4-01                      975       971       36        1         \nCOMBINED                           975       971       36        1         \n\nEvaluating ByteTracker_cascade_rcnn_0.5\n\n    MotChallenge2DBox.get_raw_seq_data(ByteTracker_cascade_rcnn_0.5, TestVideo4-01) 0.1480 sec\n    MotChallenge2DBox.get_preprocessed_seq_data(target_vehicle)            0.2416 sec\n    HOTA.eval_sequence()                                                   0.3679 sec\n    CLEAR.eval_sequence()                                                  0.0737 sec\n    Identity.eval_sequence()                                               0.0244 sec\n    VACE.eval_sequence()                                                   0.0458 sec\n    Count.eval_sequence()                                                  0.0000 sec\n50 eval_sequence(TestVideo4-01, ByteTracker_cascade_rcnn_0.5)             0.9070 sec\n\nAll sequences for ByteTracker_cascade_rcnn_0.5 finished in 0.91 seconds\n\nHOTA: ByteTracker_cascade_rcnn_0.5-target_vehicleHOTA      DetA      AssA      DetRe     DetPr     AssRe     AssPr     LocA      OWTA      HOTA(0)   LocA(0)   HOTALocA(0)\nTestVideo4-01                      23.345    30.483    18.46     43.113    42.937    19.248    72.384    73.915    27.955    33.914    64.515    21.88     \nCOMBINED                           23.345    30.483    18.46     43.113    42.937    19.248    72.384    73.915    27.955    33.914    64.515    21.88     \n\nCLEAR: ByteTracker_cascade_rcnn_0.5-target_vehicleMOTA      MOTP      MODA      CLR_Re    CLR_Pr    MTR       PTR       MLR       sMOTA     CLR_TP    CLR_FN    CLR_FP    IDSW      MT        PT        ML        Frag      \nTestVideo4-01                      17.199    67.167    18.847    59.629    59.385    0         100       0         -2.3795   579       392       396       16        0         1         0         42        \nCOMBINED                           17.199    67.167    18.847    59.629    59.385    0         100       0         -2.3795   579       392       396       16        0         1         0         42        \n\nIdentity: ByteTracker_cascade_rcnn_0.5-target_vehicleIDF1      IDR       IDP       IDTP      IDFN      IDFP      \nTestVideo4-01                      36.999    37.075    36.923    360       611       615       \nCOMBINED                           36.999    37.075    36.923    360       611       615       \n\nVACE: ByteTracker_cascade_rcnn_0.5-target_vehicleSFDA      ATA       \nTestVideo4-01                      42.434    0.69299   \nCOMBINED                           42.434    0.69299   \n\nCount: ByteTracker_cascade_rcnn_0.5-target_vehicleDets      GT_Dets   IDs       GT_IDs    \nTestVideo4-01                      975       971       106       1         \nCOMBINED                           975       971       106       1         \n\nEvaluating ByteTracker_cascade_rcnn_0.3\n\n    MotChallenge2DBox.get_raw_seq_data(ByteTracker_cascade_rcnn_0.3, TestVideo4-01) 0.1483 sec\n    MotChallenge2DBox.get_preprocessed_seq_data(target_vehicle)            0.2447 sec\n    HOTA.eval_sequence()                                                   0.3707 sec\n    CLEAR.eval_sequence()                                                  0.0714 sec\n    Identity.eval_sequence()                                               0.0248 sec\n    VACE.eval_sequence()                                                   0.0461 sec\n    Count.eval_sequence()                                                  0.0000 sec\n51 eval_sequence(TestVideo4-01, ByteTracker_cascade_rcnn_0.3)             0.9105 sec\n\nAll sequences for ByteTracker_cascade_rcnn_0.3 finished in 0.91 seconds\n\nHOTA: ByteTracker_cascade_rcnn_0.3-target_vehicleHOTA      DetA      AssA      DetRe     DetPr     AssRe     AssPr     LocA      OWTA      HOTA(0)   LocA(0)   HOTALocA(0)\nTestVideo4-01                      21.894    32.244    15.578    44.826    44.642    16.076    73.461    73.943    26.032    31.133    63.066    19.635    \nCOMBINED                           21.894    32.244    15.578    44.826    44.642    16.076    73.461    73.943    26.032    31.133    63.066    19.635    \n\nCLEAR: ByteTracker_cascade_rcnn_0.3-target_vehicleMOTA      MOTP      MODA      CLR_Re    CLR_Pr    MTR       PTR       MLR       sMOTA     CLR_TP    CLR_FN    CLR_FP    IDSW      MT        PT        ML        Frag      \nTestVideo4-01                      23.378    67.476    25.438    62.925    62.667    0         100       0         2.9125    611       360       364       20        0         1         0         40        \nCOMBINED                           23.378    67.476    25.438    62.925    62.667    0         100       0         2.9125    611       360       364       20        0         1         0         40        \n\nIdentity: ByteTracker_cascade_rcnn_0.3-target_vehicleIDF1      IDR       IDP       IDTP      IDFN      IDFP      \nTestVideo4-01                      32.785    32.853    32.718    319       652       656       \nCOMBINED                           32.785    32.853    32.718    319       652       656       \n\nVACE: ByteTracker_cascade_rcnn_0.3-target_vehicleSFDA      ATA       \nTestVideo4-01                      44.142    0.64417   \nCOMBINED                           44.142    0.64417   \n\nCount: ByteTracker_cascade_rcnn_0.3-target_vehicleDets      GT_Dets   IDs       GT_IDs    \nTestVideo4-01                      975       971       101       1         \nCOMBINED                           975       971       101       1         \n\nEvaluating StrongSORT_retinanet_0.1\n\n    MotChallenge2DBox.get_raw_seq_data(StrongSORT_retinanet_0.1, TestVideo4-01) 0.1495 sec\n    MotChallenge2DBox.get_preprocessed_seq_data(target_vehicle)            0.2616 sec\n    HOTA.eval_sequence()                                                   0.3230 sec\n    CLEAR.eval_sequence()                                                  0.0692 sec\n    Identity.eval_sequence()                                               0.0223 sec\n    VACE.eval_sequence()                                                   0.0453 sec\n    Count.eval_sequence()                                                  0.0000 sec\n52 eval_sequence(TestVideo4-01, StrongSORT_retinanet_0.1)                 0.8751 sec\n\nAll sequences for StrongSORT_retinanet_0.1 finished in 0.88 seconds\n\nHOTA: StrongSORT_retinanet_0.1-target_vehicleHOTA      DetA      AssA      DetRe     DetPr     AssRe     AssPr     LocA      OWTA      HOTA(0)   LocA(0)   HOTALocA(0)\nTestVideo4-01                      14.033    18.206    11.176    28.782    28.664    11.888    56.126    70.506    17.737    24.635    54.363    13.392    \nCOMBINED                           14.033    18.206    11.176    28.782    28.664    11.888    56.126    70.506    17.737    24.635    54.363    13.392    \n\nCLEAR: StrongSORT_retinanet_0.1-target_vehicleMOTA      MOTP      MODA      CLR_Re    CLR_Pr    MTR       PTR       MLR       sMOTA     CLR_TP    CLR_FN    CLR_FP    IDSW      MT        PT        ML        Frag      \nTestVideo4-01                      -32.441   66.201    -31.411   34.501    34.359    0         100       0         -44.102   335       636       640       10        0         1         0         59        \nCOMBINED                           -32.441   66.201    -31.411   34.501    34.359    0         100       0         -44.102   335       636       640       10        0         1         0         59        \n\nIdentity: StrongSORT_retinanet_0.1-target_vehicleIDF1      IDR       IDP       IDTP      IDFN      IDFP      \nTestVideo4-01                      20.349    20.391    20.308    198       773       777       \nCOMBINED                           20.349    20.391    20.308    198       773       777       \n\nVACE: StrongSORT_retinanet_0.1-target_vehicleSFDA      ATA       \nTestVideo4-01                      28.591    0.75524   \nCOMBINED                           28.591    0.75524   \n\nCount: StrongSORT_retinanet_0.1-target_vehicleDets      GT_Dets   IDs       GT_IDs    \nTestVideo4-01                      975       971       53        1         \nCOMBINED                           975       971       53        1         \n\nEvaluating StrongSORT_cascade_rcnn_0.1\n\n    MotChallenge2DBox.get_raw_seq_data(StrongSORT_cascade_rcnn_0.1, TestVideo4-01) 0.1493 sec\n    MotChallenge2DBox.get_preprocessed_seq_data(target_vehicle)            0.2420 sec\n    HOTA.eval_sequence()                                                   0.3438 sec\n    CLEAR.eval_sequence()                                                  0.0700 sec\n    Identity.eval_sequence()                                               0.0224 sec\n    VACE.eval_sequence()                                                   0.0460 sec\n    Count.eval_sequence()                                                  0.0000 sec\n53 eval_sequence(TestVideo4-01, StrongSORT_cascade_rcnn_0.1)              0.8785 sec\n\nAll sequences for StrongSORT_cascade_rcnn_0.1 finished in 0.88 seconds\n\nHOTA: StrongSORT_cascade_rcnn_0.1-target_vehicleHOTA      DetA      AssA      DetRe     DetPr     AssRe     AssPr     LocA      OWTA      HOTA(0)   LocA(0)   HOTALocA(0)\nTestVideo4-01                      22.892    23.206    22.677    35.449    35.304    24.718    59.644    74.193    28.339    35.635    63.358    22.577    \nCOMBINED                           22.892    23.206    22.677    35.449    35.304    24.718    59.644    74.193    28.339    35.635    63.358    22.577    \n\nCLEAR: StrongSORT_cascade_rcnn_0.1-target_vehicleMOTA      MOTP      MODA      CLR_Re    CLR_Pr    MTR       PTR       MLR       sMOTA     CLR_TP    CLR_FN    CLR_FP    IDSW      MT        PT        ML        Frag      \nTestVideo4-01                      -6.1792   68.53     -5.4583   47.477    47.282    0         100       0         -21.12    461       510       514       7         0         1         0         52        \nCOMBINED                           -6.1792   68.53     -5.4583   47.477    47.282    0         100       0         -21.12    461       510       514       7         0         1         0         52        \n\nIdentity: StrongSORT_cascade_rcnn_0.1-target_vehicleIDF1      IDR       IDP       IDTP      IDFN      IDFP      \nTestVideo4-01                      38.438    38.517    38.359    374       597       601       \nCOMBINED                           38.438    38.517    38.359    374       597       601       \n\nVACE: StrongSORT_cascade_rcnn_0.1-target_vehicleSFDA      ATA       \nTestVideo4-01                      34.997    2.3344    \nCOMBINED                           34.997    2.3344    \n\nCount: StrongSORT_cascade_rcnn_0.1-target_vehicleDets      GT_Dets   IDs       GT_IDs    \nTestVideo4-01                      975       971       32        1         \nCOMBINED                           975       971       32        1         \n\nEvaluating DeepOCSORT_yolo_0.5\n\n    MotChallenge2DBox.get_raw_seq_data(DeepOCSORT_yolo_0.5, TestVideo4-01) 0.1470 sec\n    MotChallenge2DBox.get_preprocessed_seq_data(target_vehicle)            0.2425 sec\n    HOTA.eval_sequence()                                                   0.3966 sec\n    CLEAR.eval_sequence()                                                  0.0724 sec\n    Identity.eval_sequence()                                               0.0238 sec\n    VACE.eval_sequence()                                                   0.0452 sec\n    Count.eval_sequence()                                                  0.0000 sec\n54 eval_sequence(TestVideo4-01, DeepOCSORT_yolo_0.5)                      0.9325 sec\n\nAll sequences for DeepOCSORT_yolo_0.5 finished in 0.93 seconds\n\nHOTA: DeepOCSORT_yolo_0.5-target_vehicleHOTA      DetA      AssA      DetRe     DetPr     AssRe     AssPr     LocA      OWTA      HOTA(0)   LocA(0)   HOTALocA(0)\nTestVideo4-01                      34.872    42.03     29.141    52.702    52.486    31.036    65.435    72.989    39.164    56.965    62.966    35.869    \nCOMBINED                           34.872    42.03     29.141    52.702    52.486    31.036    65.435    72.989    39.164    56.965    62.966    35.869    \n\nCLEAR: DeepOCSORT_yolo_0.5-target_vehicleMOTA      MOTP      MODA      CLR_Re    CLR_Pr    MTR       PTR       MLR       sMOTA     CLR_TP    CLR_FN    CLR_FP    IDSW      MT        PT        ML        Frag      \nTestVideo4-01                      50.669    65.36     50.772    75.592    75.282    0         100       0         24.484    734       237       241       1         0         1         0         14        \nCOMBINED                           50.669    65.36     50.772    75.592    75.282    0         100       0         24.484    734       237       241       1         0         1         0         14        \n\nIdentity: DeepOCSORT_yolo_0.5-target_vehicleIDF1      IDR       IDP       IDTP      IDFN      IDFP      \nTestVideo4-01                      50.154    50.257    50.051    488       483       487       \nCOMBINED                           50.154    50.257    50.051    488       483       487       \n\nVACE: DeepOCSORT_yolo_0.5-target_vehicleSFDA      ATA       \nTestVideo4-01                      51.955    9.1377    \nCOMBINED                           51.955    9.1377    \n\nCount: DeepOCSORT_yolo_0.5-target_vehicleDets      GT_Dets   IDs       GT_IDs    \nTestVideo4-01                      975       971       10        1         \nCOMBINED                           975       971       10        1         \n\nEvaluating BotSORT_faster_rcnn_1e-05\n\n    MotChallenge2DBox.get_raw_seq_data(BotSORT_faster_rcnn_1e-05, TestVideo4-01) 0.1475 sec\n    MotChallenge2DBox.get_preprocessed_seq_data(target_vehicle)            0.2421 sec\n    HOTA.eval_sequence()                                                   0.3251 sec\n    CLEAR.eval_sequence()                                                  0.0693 sec\n    Identity.eval_sequence()                                               0.0231 sec\n    VACE.eval_sequence()                                                   0.0450 sec\n    Count.eval_sequence()                                                  0.0000 sec\n55 eval_sequence(TestVideo4-01, BotSORT_faster_rcnn_1e-05)                0.8568 sec\n\nAll sequences for BotSORT_faster_rcnn_1e-05 finished in 0.86 seconds\n\nHOTA: BotSORT_faster_rcnn_1e-05-target_vehicleHOTA      DetA      AssA      DetRe     DetPr     AssRe     AssPr     LocA      OWTA      HOTA(0)   LocA(0)   HOTALocA(0)\nTestVideo4-01                      8.3616    18.022    4.4746    28.928    28.81     4.5319    78.263    73.022    10.702    11.393    59.915    6.8263    \nCOMBINED                           8.3616    18.022    4.4746    28.928    28.81     4.5319    78.263    73.022    10.702    11.393    59.915    6.8263    \n\nCLEAR: BotSORT_faster_rcnn_1e-05-target_vehicleMOTA      MOTP      MODA      CLR_Re    CLR_Pr    MTR       PTR       MLR       sMOTA     CLR_TP    CLR_FN    CLR_FP    IDSW      MT        PT        ML        Frag      \nTestVideo4-01                      -28.218   67.51     -23.996   38.208    38.051    0         100       0         -40.632   371       600       604       41        0         1         0         47        \nCOMBINED                           -28.218   67.51     -23.996   38.208    38.051    0         100       0         -40.632   371       600       604       41        0         1         0         47        \n\nIdentity: BotSORT_faster_rcnn_1e-05-target_vehicleIDF1      IDR       IDP       IDTP      IDFN      IDFP      \nTestVideo4-01                      11.614    11.637    11.59     113       858       862       \nCOMBINED                           11.614    11.637    11.59     113       858       862       \n\nVACE: BotSORT_faster_rcnn_1e-05-target_vehicleSFDA      ATA       \nTestVideo4-01                      28.612    0.14825   \nCOMBINED                           28.612    0.14825   \n\nCount: BotSORT_faster_rcnn_1e-05-target_vehicleDets      GT_Dets   IDs       GT_IDs    \nTestVideo4-01                      975       971       156       1         \nCOMBINED                           975       971       156       1         \n\nEvaluating ByteTracker_faster_rcnn_0.5\n\n    MotChallenge2DBox.get_raw_seq_data(ByteTracker_faster_rcnn_0.5, TestVideo4-01) 0.1475 sec\n    MotChallenge2DBox.get_preprocessed_seq_data(target_vehicle)            0.2419 sec\n    HOTA.eval_sequence()                                                   0.3673 sec\n    CLEAR.eval_sequence()                                                  0.0713 sec\n    Identity.eval_sequence()                                               0.0233 sec\n    VACE.eval_sequence()                                                   0.0478 sec\n    Count.eval_sequence()                                                  0.0000 sec\n56 eval_sequence(TestVideo4-01, ByteTracker_faster_rcnn_0.5)              0.9038 sec\n\nAll sequences for ByteTracker_faster_rcnn_0.5 finished in 0.91 seconds\n\nHOTA: ByteTracker_faster_rcnn_0.5-target_vehicleHOTA      DetA      AssA      DetRe     DetPr     AssRe     AssPr     LocA      OWTA      HOTA(0)   LocA(0)   HOTALocA(0)\nTestVideo4-01                      27.305    30.116    25.015    42.533    42.359    26.083    69.212    73.164    32.557    41.254    63.383    26.148    \nCOMBINED                           27.305    30.116    25.015    42.533    42.359    26.083    69.212    73.164    32.557    41.254    63.383    26.148    \n\nCLEAR: ByteTracker_faster_rcnn_0.5-target_vehicleMOTA      MOTP      MODA      CLR_Re    CLR_Pr    MTR       PTR       MLR       sMOTA     CLR_TP    CLR_FN    CLR_FP    IDSW      MT        PT        ML        Frag      \nTestVideo4-01                      18.435    66.443    19.464    59.938    59.692    0         100       0         -1.6786   582       389       393       10        0         1         0         73        \nCOMBINED                           18.435    66.443    19.464    59.938    59.692    0         100       0         -1.6786   582       389       393       10        0         1         0         73        \n\nIdentity: ByteTracker_faster_rcnn_0.5-target_vehicleIDF1      IDR       IDP       IDTP      IDFN      IDFP      \nTestVideo4-01                      46.454    46.55     46.359    452       519       523       \nCOMBINED                           46.454    46.55     46.359    452       519       523       \n\nVACE: ByteTracker_faster_rcnn_0.5-target_vehicleSFDA      ATA       \nTestVideo4-01                      41.959    0.62067   \nCOMBINED                           41.959    0.62067   \n\nCount: ByteTracker_faster_rcnn_0.5-target_vehicleDets      GT_Dets   IDs       GT_IDs    \nTestVideo4-01                      975       971       149       1         \nCOMBINED                           975       971       149       1         \n\nEvaluating ByteTracker_faster_rcnn_0.3\n\n    MotChallenge2DBox.get_raw_seq_data(ByteTracker_faster_rcnn_0.3, TestVideo4-01) 0.1496 sec\n    MotChallenge2DBox.get_preprocessed_seq_data(target_vehicle)            0.2418 sec\n    HOTA.eval_sequence()                                                   0.3580 sec\n    CLEAR.eval_sequence()                                                  0.0715 sec\n    Identity.eval_sequence()                                               0.0232 sec\n    VACE.eval_sequence()                                                   0.0461 sec\n    Count.eval_sequence()                                                  0.0000 sec\n57 eval_sequence(TestVideo4-01, ByteTracker_faster_rcnn_0.3)              0.8947 sec\n\nAll sequences for ByteTracker_faster_rcnn_0.3 finished in 0.90 seconds\n\nHOTA: ByteTracker_faster_rcnn_0.3-target_vehicleHOTA      DetA      AssA      DetRe     DetPr     AssRe     AssPr     LocA      OWTA      HOTA(0)   LocA(0)   HOTALocA(0)\nTestVideo4-01                      20.454    26.682    16.244    39.373    39.212    16.699    73.845    74.421    25.002    28.767    63.077    18.145    \nCOMBINED                           20.454    26.682    16.244    39.373    39.212    16.699    73.845    74.421    25.002    28.767    63.077    18.145    \n\nCLEAR: ByteTracker_faster_rcnn_0.3-target_vehicleMOTA      MOTP      MODA      CLR_Re    CLR_Pr    MTR       PTR       MLR       sMOTA     CLR_TP    CLR_FN    CLR_FP    IDSW      MT        PT        ML        Frag      \nTestVideo4-01                      3.7075    68.837    6.4882    53.45     53.231    0         100       0         -12.949   519       452       456       27        0         1         0         55        \nCOMBINED                           3.7075    68.837    6.4882    53.45     53.231    0         100       0         -12.949   519       452       456       27        0         1         0         55        \n\nIdentity: ByteTracker_faster_rcnn_0.3-target_vehicleIDF1      IDR       IDP       IDTP      IDFN      IDFP      \nTestVideo4-01                      31.346    31.411    31.282    305       666       670       \nCOMBINED                           31.346    31.411    31.282    305       666       670       \n\nVACE: ByteTracker_faster_rcnn_0.3-target_vehicleSFDA      ATA       \nTestVideo4-01                      38.869    0.44873   \nCOMBINED                           38.869    0.44873   \n\nCount: ByteTracker_faster_rcnn_0.3-target_vehicleDets      GT_Dets   IDs       GT_IDs    \nTestVideo4-01                      975       971       139       1         \nCOMBINED                           975       971       139       1         \n\nEvaluating StrongSORT_yolo_0.5\n\n    MotChallenge2DBox.get_raw_seq_data(StrongSORT_yolo_0.5, TestVideo4-01) 0.1469 sec\n    MotChallenge2DBox.get_preprocessed_seq_data(target_vehicle)            0.2390 sec\n    HOTA.eval_sequence()                                                   0.3963 sec\n    CLEAR.eval_sequence()                                                  0.0738 sec\n    Identity.eval_sequence()                                               0.0232 sec\n    VACE.eval_sequence()                                                   0.0458 sec\n    Count.eval_sequence()                                                  0.0000 sec\n58 eval_sequence(TestVideo4-01, StrongSORT_yolo_0.5)                      0.9294 sec\n\nAll sequences for StrongSORT_yolo_0.5 finished in 0.93 seconds\n\nHOTA: StrongSORT_yolo_0.5-target_vehicleHOTA      DetA      AssA      DetRe     DetPr     AssRe     AssPr     LocA      OWTA      HOTA(0)   LocA(0)   HOTALocA(0)\nTestVideo4-01                      32.983    42.059    26.103    52.718    52.502    29.959    58.036    73.156    37.062    52.406    63.702    33.384    \nCOMBINED                           32.983    42.059    26.103    52.718    52.502    29.959    58.036    73.156    37.062    52.406    63.702    33.384    \n\nCLEAR: StrongSORT_yolo_0.5-target_vehicleMOTA      MOTP      MODA      CLR_Re    CLR_Pr    MTR       PTR       MLR       sMOTA     CLR_TP    CLR_FN    CLR_FP    IDSW      MT        PT        ML        Frag      \nTestVideo4-01                      51.802    65.211    52.008    76.21     75.897    0         100       0         25.29     740       231       235       2         0         1         0         24        \nCOMBINED                           51.802    65.211    52.008    76.21     75.897    0         100       0         25.29     740       231       235       2         0         1         0         24        \n\nIdentity: StrongSORT_yolo_0.5-target_vehicleIDF1      IDR       IDP       IDTP      IDFN      IDFP      \nTestVideo4-01                      50.154    50.257    50.051    488       483       487       \nCOMBINED                           50.154    50.257    50.051    488       483       487       \n\nVACE: StrongSORT_yolo_0.5-target_vehicleSFDA      ATA       \nTestVideo4-01                      51.965    6.2822    \nCOMBINED                           51.965    6.2822    \n\nCount: StrongSORT_yolo_0.5-target_vehicleDets      GT_Dets   IDs       GT_IDs    \nTestVideo4-01                      975       971       15        1         \nCOMBINED                           975       971       15        1         \n\nEvaluating StrongSORT_retinanet_1e-05\n\n    MotChallenge2DBox.get_raw_seq_data(StrongSORT_retinanet_1e-05, TestVideo4-01) 0.1530 sec\n    MotChallenge2DBox.get_preprocessed_seq_data(target_vehicle)            0.2680 sec\n    HOTA.eval_sequence()                                                   0.3076 sec\n    CLEAR.eval_sequence()                                                  0.0668 sec\n    Identity.eval_sequence()                                               0.0224 sec\n    VACE.eval_sequence()                                                   0.0445 sec\n    Count.eval_sequence()                                                  0.0000 sec\n59 eval_sequence(TestVideo4-01, StrongSORT_retinanet_1e-05)               0.8666 sec\n\nAll sequences for StrongSORT_retinanet_1e-05 finished in 0.87 seconds\n\nHOTA: StrongSORT_retinanet_1e-05-target_vehicleHOTA      DetA      AssA      DetRe     DetPr     AssRe     AssPr     LocA      OWTA      HOTA(0)   LocA(0)   HOTALocA(0)\nTestVideo4-01                      9.4779    13.947    6.6628    22.251    22.159    7.0058    43.884    65.426    12.038    20.604    44.192    9.1052    \nCOMBINED                           9.4779    13.947    6.6628    22.251    22.159    7.0058    43.884    65.426    12.038    20.604    44.192    9.1052    \n\nCLEAR: StrongSORT_retinanet_1e-05-target_vehicleMOTA      MOTP      MODA      CLR_Re    CLR_Pr    MTR       PTR       MLR       sMOTA     CLR_TP    CLR_FN    CLR_FP    IDSW      MT        PT        ML        Frag      \nTestVideo4-01                      -71.061   62.945    -69.31    15.551    15.487    0         0         100       -76.823   151       820       824       17        0         0         1         38        \nCOMBINED                           -71.061   62.945    -69.31    15.551    15.487    0         0         100       -76.823   151       820       824       17        0         0         1         38        \n\nIdentity: StrongSORT_retinanet_1e-05-target_vehicleIDF1      IDR       IDP       IDTP      IDFN      IDFP      \nTestVideo4-01                      7.9137    7.93      7.8974    77        894       898       \nCOMBINED                           7.9137    7.93      7.8974    77        894       898       \n\nVACE: StrongSORT_retinanet_1e-05-target_vehicleSFDA      ATA       \nTestVideo4-01                      22.319    0.33042   \nCOMBINED                           22.319    0.33042   \n\nCount: StrongSORT_retinanet_1e-05-target_vehicleDets      GT_Dets   IDs       GT_IDs    \nTestVideo4-01                      975       971       47        1         \nCOMBINED                           975       971       47        1         \n\nEvaluating DeepOCSORT_yolo_0.3\n\n    MotChallenge2DBox.get_raw_seq_data(DeepOCSORT_yolo_0.3, TestVideo4-01) 0.1484 sec\n    MotChallenge2DBox.get_preprocessed_seq_data(target_vehicle)            0.2417 sec\n    HOTA.eval_sequence()                                                   0.3905 sec\n    CLEAR.eval_sequence()                                                  0.0742 sec\n    Identity.eval_sequence()                                               0.0229 sec\n    VACE.eval_sequence()                                                   0.0466 sec\n    Count.eval_sequence()                                                  0.0000 sec\n60 eval_sequence(TestVideo4-01, DeepOCSORT_yolo_0.3)                      0.9287 sec\n\nAll sequences for DeepOCSORT_yolo_0.3 finished in 0.93 seconds\n\nHOTA: DeepOCSORT_yolo_0.3-target_vehicleHOTA      DetA      AssA      DetRe     DetPr     AssRe     AssPr     LocA      OWTA      HOTA(0)   LocA(0)   HOTALocA(0)\nTestVideo4-01                      34.456    41.561    28.773    52.415    52.2      30.815    65.103    73.25     38.809    55.554    63.499    35.276    \nCOMBINED                           34.456    41.561    28.773    52.415    52.2      30.815    65.103    73.25     38.809    55.554    63.499    35.276    \n\nCLEAR: DeepOCSORT_yolo_0.3-target_vehicleMOTA      MOTP      MODA      CLR_Re    CLR_Pr    MTR       PTR       MLR       sMOTA     CLR_TP    CLR_FN    CLR_FP    IDSW      MT        PT        ML        Frag      \nTestVideo4-01                      51.081    65.524    51.184    75.798    75.487    0         100       0         24.949    736       235       239       1         0         1         0         11        \nCOMBINED                           51.081    65.524    51.184    75.798    75.487    0         100       0         24.949    736       235       239       1         0         1         0         11        \n\nIdentity: DeepOCSORT_yolo_0.3-target_vehicleIDF1      IDR       IDP       IDTP      IDFN      IDFP      \nTestVideo4-01                      50.565    50.669    50.462    492       479       483       \nCOMBINED                           50.565    50.669    50.462    492       479       483       \n\nVACE: DeepOCSORT_yolo_0.3-target_vehicleSFDA      ATA       \nTestVideo4-01                      51.693    10.134    \nCOMBINED                           51.693    10.134    \n\nCount: DeepOCSORT_yolo_0.3-target_vehicleDets      GT_Dets   IDs       GT_IDs    \nTestVideo4-01                      975       971       9         1         \nCOMBINED                           975       971       9         1         \n\nEvaluating BotSORT_yolo_0.3\n\n    MotChallenge2DBox.get_raw_seq_data(BotSORT_yolo_0.3, TestVideo4-01)    0.1478 sec\n    MotChallenge2DBox.get_preprocessed_seq_data(target_vehicle)            0.2435 sec\n    HOTA.eval_sequence()                                                   0.3823 sec\n    CLEAR.eval_sequence()                                                  0.0738 sec\n    Identity.eval_sequence()                                               0.0261 sec\n    VACE.eval_sequence()                                                   0.0470 sec\n    Count.eval_sequence()                                                  0.0000 sec\n61 eval_sequence(TestVideo4-01, BotSORT_yolo_0.3)                         0.9253 sec\n\nAll sequences for BotSORT_yolo_0.3 finished in 0.93 seconds\n\nHOTA: BotSORT_yolo_0.3-target_vehicleHOTA      DetA      AssA      DetRe     DetPr     AssRe     AssPr     LocA      OWTA      HOTA(0)   LocA(0)   HOTALocA(0)\nTestVideo4-01                      22.59     38.583    13.793    50.046    49.841    14.312    70.716    73.366    25.967    33.923    63.647    21.591    \nCOMBINED                           22.59     38.583    13.793    50.046    49.841    14.312    70.716    73.366    25.967    33.923    63.647    21.591    \n\nCLEAR: BotSORT_yolo_0.3-target_vehicleMOTA      MOTP      MODA      CLR_Re    CLR_Pr    MTR       PTR       MLR       sMOTA     CLR_TP    CLR_FN    CLR_FP    IDSW      MT        PT        ML        Frag      \nTestVideo4-01                      38.517    65.45     44.799    72.606    72.308    0         100       0         13.432    705       266       270       61        0         1         0         46        \nCOMBINED                           38.517    65.45     44.799    72.606    72.308    0         100       0         13.432    705       266       270       61        0         1         0         46        \n\nIdentity: BotSORT_yolo_0.3-target_vehicleIDF1      IDR       IDP       IDTP      IDFN      IDFP      \nTestVideo4-01                      30.113    30.175    30.051    293       678       682       \nCOMBINED                           30.113    30.175    30.051    293       678       682       \n\nVACE: BotSORT_yolo_0.3-target_vehicleSFDA      ATA       \nTestVideo4-01                      49.29     0.41055   \nCOMBINED                           49.29     0.41055   \n\nCount: BotSORT_yolo_0.3-target_vehicleDets      GT_Dets   IDs       GT_IDs    \nTestVideo4-01                      975       971       146       1         \nCOMBINED                           975       971       146       1         \n\nEvaluating ByteTracker_retinanet_0.1\n\n    MotChallenge2DBox.get_raw_seq_data(ByteTracker_retinanet_0.1, TestVideo4-01) 0.1478 sec\n    MotChallenge2DBox.get_preprocessed_seq_data(target_vehicle)            0.2417 sec\n    HOTA.eval_sequence()                                                   0.3285 sec\n    CLEAR.eval_sequence()                                                  0.0686 sec\n    Identity.eval_sequence()                                               0.0237 sec\n    VACE.eval_sequence()                                                   0.0450 sec\n    Count.eval_sequence()                                                  0.0000 sec\n62 eval_sequence(TestVideo4-01, ByteTracker_retinanet_0.1)                0.8604 sec\n\nAll sequences for ByteTracker_retinanet_0.1 finished in 0.86 seconds\n\nHOTA: ByteTracker_retinanet_0.1-target_vehicleHOTA      DetA      AssA      DetRe     DetPr     AssRe     AssPr     LocA      OWTA      HOTA(0)   LocA(0)   HOTALocA(0)\nTestVideo4-01                      7.7496    18.735    3.3186    29.373    29.252    3.3486    76.481    70.56     9.739     16.546    49.471    8.1853    \nCOMBINED                           7.7496    18.735    3.3186    29.373    29.252    3.3486    76.481    70.56     9.739     16.546    49.471    8.1853    \n\nCLEAR: ByteTracker_retinanet_0.1-target_vehicleMOTA      MOTP      MODA      CLR_Re    CLR_Pr    MTR       PTR       MLR       sMOTA     CLR_TP    CLR_FN    CLR_FP    IDSW      MT        PT        ML        Frag      \nTestVideo4-01                      -41.401   68.757    -38.002   31.205    31.077    0         100       0         -51.15    303       668       672       33        0         1         0         19        \nCOMBINED                           -41.401   68.757    -38.002   31.205    31.077    0         100       0         -51.15    303       668       672       33        0         1         0         19        \n\nIdentity: ByteTracker_retinanet_0.1-target_vehicleIDF1      IDR       IDP       IDTP      IDFN      IDFP      \nTestVideo4-01                      5.7554    5.7673    5.7436    56        915       919       \nCOMBINED                           5.7554    5.7673    5.7436    56        915       919       \n\nVACE: ByteTracker_retinanet_0.1-target_vehicleSFDA      ATA       \nTestVideo4-01                      29.347    0.16963   \nCOMBINED                           29.347    0.16963   \n\nCount: ByteTracker_retinanet_0.1-target_vehicleDets      GT_Dets   IDs       GT_IDs    \nTestVideo4-01                      975       971       67        1         \nCOMBINED                           975       971       67        1         \n\nEvaluating ByteTracker_cascade_rcnn_0.1\n\n    MotChallenge2DBox.get_raw_seq_data(ByteTracker_cascade_rcnn_0.1, TestVideo4-01) 0.1488 sec\n    MotChallenge2DBox.get_preprocessed_seq_data(target_vehicle)            0.2405 sec\n    HOTA.eval_sequence()                                                   0.3459 sec\n    CLEAR.eval_sequence()                                                  0.0721 sec\n    Identity.eval_sequence()                                               0.0238 sec\n    VACE.eval_sequence()                                                   0.0473 sec\n    Count.eval_sequence()                                                  0.0000 sec\n63 eval_sequence(TestVideo4-01, ByteTracker_cascade_rcnn_0.1)             0.8831 sec\n\nAll sequences for ByteTracker_cascade_rcnn_0.1 finished in 0.88 seconds\n\nHOTA: ByteTracker_cascade_rcnn_0.1-target_vehicleHOTA      DetA      AssA      DetRe     DetPr     AssRe     AssPr     LocA      OWTA      HOTA(0)   LocA(0)   HOTALocA(0)\nTestVideo4-01                      14.694    22.824    10.325    34.961    34.818    10.578    76.677    74.2      18.358    20.006    63.621    12.728    \nCOMBINED                           14.694    22.824    10.325    34.961    34.818    10.578    76.677    74.2      18.358    20.006    63.621    12.728    \n\nCLEAR: ByteTracker_cascade_rcnn_0.1-target_vehicleMOTA      MOTP      MODA      CLR_Re    CLR_Pr    MTR       PTR       MLR       sMOTA     CLR_TP    CLR_FN    CLR_FP    IDSW      MT        PT        ML        Frag      \nTestVideo4-01                      -9.4748   68.293    -6.4882   46.962    46.769    0         100       0         -24.365   456       515       519       29        0         1         0         34        \nCOMBINED                           -9.4748   68.293    -6.4882   46.962    46.769    0         100       0         -24.365   456       515       519       29        0         1         0         34        \n\nIdentity: ByteTracker_cascade_rcnn_0.1-target_vehicleIDF1      IDR       IDP       IDTP      IDFN      IDFP      \nTestVideo4-01                      21.583    21.627    21.538    210       761       765       \nCOMBINED                           21.583    21.627    21.538    210       761       765       \n\nVACE: ByteTracker_cascade_rcnn_0.1-target_vehicleSFDA      ATA       \nTestVideo4-01                      34.476    0.4806    \nCOMBINED                           34.476    0.4806    \n\nCount: ByteTracker_cascade_rcnn_0.1-target_vehicleDets      GT_Dets   IDs       GT_IDs    \nTestVideo4-01                      975       971       89        1         \nCOMBINED                           975       971       89        1         \n\nEvaluating StrongSORT_cascade_rcnn_0.3\n\n    MotChallenge2DBox.get_raw_seq_data(StrongSORT_cascade_rcnn_0.3, TestVideo4-01) 0.1490 sec\n    MotChallenge2DBox.get_preprocessed_seq_data(target_vehicle)            0.2423 sec\n    HOTA.eval_sequence()                                                   0.3729 sec\n    CLEAR.eval_sequence()                                                  0.0708 sec\n    Identity.eval_sequence()                                               0.0233 sec\n    VACE.eval_sequence()                                                   0.0458 sec\n    Count.eval_sequence()                                                  0.0000 sec\n64 eval_sequence(TestVideo4-01, StrongSORT_cascade_rcnn_0.3)              0.9087 sec\n\nAll sequences for StrongSORT_cascade_rcnn_0.3 finished in 0.91 seconds\n\nHOTA: StrongSORT_cascade_rcnn_0.3-target_vehicleHOTA      DetA      AssA      DetRe     DetPr     AssRe     AssPr     LocA      OWTA      HOTA(0)   LocA(0)   HOTALocA(0)\nTestVideo4-01                      28.812    33.066    25.335    45.526    45.339    27.123    64.369    73.906    33.918    43.844    64.433    28.25     \nCOMBINED                           28.812    33.066    25.335    45.526    45.339    27.123    64.369    73.906    33.918    43.844    64.433    28.25     \n\nCLEAR: StrongSORT_cascade_rcnn_0.3-target_vehicleMOTA      MOTP      MODA      CLR_Re    CLR_Pr    MTR       PTR       MLR       sMOTA     CLR_TP    CLR_FN    CLR_FP    IDSW      MT        PT        ML        Frag      \nTestVideo4-01                      29.969    66.869    30.381    65.396    65.128    0         100       0         8.3028    635       336       340       4         0         1         0         43        \nCOMBINED                           29.969    66.869    30.381    65.396    65.128    0         100       0         8.3028    635       336       340       4         0         1         0         43        \n\nIdentity: StrongSORT_cascade_rcnn_0.3-target_vehicleIDF1      IDR       IDP       IDTP      IDFN      IDFP      \nTestVideo4-01                      47.276    47.374    47.179    460       511       515       \nCOMBINED                           47.276    47.374    47.179    460       511       515       \n\nVACE: StrongSORT_cascade_rcnn_0.3-target_vehicleSFDA      ATA       \nTestVideo4-01                      44.893    3.0564    \nCOMBINED                           44.893    3.0564    \n\nCount: StrongSORT_cascade_rcnn_0.3-target_vehicleDets      GT_Dets   IDs       GT_IDs    \nTestVideo4-01                      975       971       30        1         \nCOMBINED                           975       971       30        1         \n\nEvaluating BotSORT_yolo_0.5\n\n    MotChallenge2DBox.get_raw_seq_data(BotSORT_yolo_0.5, TestVideo4-01)    0.1491 sec\n    MotChallenge2DBox.get_preprocessed_seq_data(target_vehicle)            0.2411 sec\n    HOTA.eval_sequence()                                                   0.3844 sec\n    CLEAR.eval_sequence()                                                  0.0741 sec\n    Identity.eval_sequence()                                               0.0240 sec\n    VACE.eval_sequence()                                                   0.0463 sec\n    Count.eval_sequence()                                                  0.0000 sec\n65 eval_sequence(TestVideo4-01, BotSORT_yolo_0.5)                         0.9244 sec\n\nAll sequences for BotSORT_yolo_0.5 finished in 0.93 seconds\n\nHOTA: BotSORT_yolo_0.5-target_vehicleHOTA      DetA      AssA      DetRe     DetPr     AssRe     AssPr     LocA      OWTA      HOTA(0)   LocA(0)   HOTALocA(0)\nTestVideo4-01                      23.184    38.847    14.391    50.203    49.997    14.926    70.207    73.254    26.593    35.117    63.651    22.352    \nCOMBINED                           23.184    38.847    14.391    50.203    49.997    14.926    70.207    73.254    26.593    35.117    63.651    22.352    \n\nCLEAR: BotSORT_yolo_0.5-target_vehicleMOTA      MOTP      MODA      CLR_Re    CLR_Pr    MTR       PTR       MLR       sMOTA     CLR_TP    CLR_FN    CLR_FP    IDSW      MT        PT        ML        Frag      \nTestVideo4-01                      38.929    65.288    44.799    72.606    72.308    0         100       0         13.726    705       266       270       57        0         1         0         39        \nCOMBINED                           38.929    65.288    44.799    72.606    72.308    0         100       0         13.726    705       266       270       57        0         1         0         39        \n\nIdentity: BotSORT_yolo_0.5-target_vehicleIDF1      IDR       IDP       IDTP      IDFN      IDFP      \nTestVideo4-01                      30.319    30.381    30.256    295       676       680       \nCOMBINED                           30.319    30.381    30.256    295       676       680       \n\nVACE: BotSORT_yolo_0.5-target_vehicleSFDA      ATA       \nTestVideo4-01                      49.419    0.4279    \nCOMBINED                           49.419    0.4279    \n\nCount: BotSORT_yolo_0.5-target_vehicleDets      GT_Dets   IDs       GT_IDs    \nTestVideo4-01                      975       971       141       1         \nCOMBINED                           975       971       141       1         \n\nTiming analysis:\nMotChallenge2DBox.get_raw_seq_data                                     9.7460 sec\nMotChallenge2DBox.get_preprocessed_seq_data                            15.7994 sec\nHOTA.eval_sequence                                                     23.1165 sec\nCLEAR.eval_sequence                                                    4.6170 sec\nIdentity.eval_sequence                                                 1.5234 sec\nVACE.eval_sequence                                                     2.9960 sec\nCount.eval_sequence                                                    0.0003 sec\neval_sequence                                                          58.0926 sec\nEvaluator.evaluate                                                     93.4340 sec\n",
          "output_type": "stream"
        }
      ]
    },
    {
      "cell_type": "code",
      "source": [
        "import pandas as pd\n",
        "import numpy as np\n",
        "\n",
        "def filtered_dataframe(name, track_dir, target_columns):\n",
        "    csv_file = track_dir + name + '/target_vehicle_detailed.csv'\n",
        "    df = pd.read_csv(csv_file)\n",
        "\n",
        "    df_filtered = df[target_columns]\n",
        "    df_filtered = df_filtered.iloc[:-1]   # remove last row\n",
        "    df_filtered['Tracker'] = name # add tracker name column\n",
        "    df_filtered = df_filtered.rename(columns={'HOTA___AUC': 'HOTA_AUC'})\n",
        "\n",
        "    # Move the last column ('Tracker') to the first position\n",
        "    columns = df_filtered.columns.tolist()  # Get the list of columns\n",
        "    new_order = [columns[-1]] + columns[:-1]  # Move the last column to the front\n",
        "    df_filtered = df_filtered[new_order]\n",
        "    return df_filtered\n",
        "\n",
        "track_dir = '/kaggle/working/TrackEval/data/trackers/mot_challenge/TestVideo4-train/'\n",
        "trackers_names = ['DeepOCSORT', 'StrongSORT', 'BotSORT', 'ByteTracker']\n",
        "model_names = ['faster_rcnn', 'retinanet', 'cascade_rcnn', 'yolo']\n",
        "thresholds = [0.5, 0.3, 0.1, 1e-5]\n",
        "\n",
        "\n",
        "target_columns = ['HOTA___AUC', 'MOTP', 'CLR_TP', 'CLR_FP', 'IDSW', 'IDF1', 'IDR', 'IDP']\n",
        "\n",
        "df_list = []\n",
        "for tracker_name in trackers_names:\n",
        "    print(tracker_name)\n",
        "    for model_name in model_names:\n",
        "        for threshold in thresholds:\n",
        "            name = f'{tracker_name}_{model_name}_{threshold}'\n",
        "            df_list.append(filtered_dataframe(name, track_dir, target_columns).copy())\n",
        "\n",
        "\n",
        "df_list.append(filtered_dataframe('PerfectTracker', track_dir, target_columns))\n",
        "df_combined = pd.concat(df_list, axis=0, ignore_index=True)\n",
        "df_combined.to_csv('/kaggle/working/Output/All_tracker_output.csv', index=False, sep=',')\n",
        "df_combined"
      ],
      "metadata": {
        "execution": {
          "iopub.status.busy": "2024-10-01T07:06:21.459525Z",
          "iopub.execute_input": "2024-10-01T07:06:21.460083Z",
          "iopub.status.idle": "2024-10-01T07:06:22.720660Z",
          "shell.execute_reply.started": "2024-10-01T07:06:21.460039Z",
          "shell.execute_reply": "2024-10-01T07:06:22.719619Z"
        },
        "trusted": true,
        "id": "22kL4H4iwf7_",
        "outputId": "7a3d0024-0d44-4941-b7b5-deb8e7e5cd06"
      },
      "execution_count": null,
      "outputs": [
        {
          "name": "stdout",
          "text": "DeepOCSORT\nStrongSORT\nBotSORT\nByteTracker\n",
          "output_type": "stream"
        },
        {
          "execution_count": 14,
          "output_type": "execute_result",
          "data": {
            "text/plain": "                         Tracker  HOTA_AUC      MOTP  CLR_TP  CLR_FP  IDSW  \\\n0     DeepOCSORT_faster_rcnn_0.5  0.306819  0.646812     642     333     2   \n1     DeepOCSORT_faster_rcnn_0.3  0.275749  0.662665     532     443     4   \n2     DeepOCSORT_faster_rcnn_0.1  0.234278  0.663360     415     560     6   \n3   DeepOCSORT_faster_rcnn_1e-05  0.131560  0.675665     333     642     6   \n4       DeepOCSORT_retinanet_0.5  0.209445  0.641987     494     481     1   \n..                           ...       ...       ...     ...     ...   ...   \n60          ByteTracker_yolo_0.5  0.328323  0.652223     706     269     4   \n61          ByteTracker_yolo_0.3  0.326642  0.653807     703     272     3   \n62          ByteTracker_yolo_0.1  0.331534  0.655399     709     266     3   \n63        ByteTracker_yolo_1e-05  0.072981  0.657092     398     577    32   \n64                PerfectTracker  1.000000  1.000000     971       0     0   \n\n        IDF1       IDR       IDP  \n0   0.466598  0.467559  0.465641  \n1   0.448099  0.449022  0.447179  \n2   0.365879  0.366632  0.365128  \n3   0.198356  0.198764  0.197949  \n4   0.304214  0.304840  0.303590  \n..       ...       ...       ...  \n60  0.496403  0.497425  0.495385  \n61  0.494347  0.495366  0.493333  \n62  0.493320  0.494336  0.492308  \n63  0.059609  0.059732  0.059487  \n64  1.000000  1.000000  1.000000  \n\n[65 rows x 9 columns]",
            "text/html": "<div>\n<style scoped>\n    .dataframe tbody tr th:only-of-type {\n        vertical-align: middle;\n    }\n\n    .dataframe tbody tr th {\n        vertical-align: top;\n    }\n\n    .dataframe thead th {\n        text-align: right;\n    }\n</style>\n<table border=\"1\" class=\"dataframe\">\n  <thead>\n    <tr style=\"text-align: right;\">\n      <th></th>\n      <th>Tracker</th>\n      <th>HOTA_AUC</th>\n      <th>MOTP</th>\n      <th>CLR_TP</th>\n      <th>CLR_FP</th>\n      <th>IDSW</th>\n      <th>IDF1</th>\n      <th>IDR</th>\n      <th>IDP</th>\n    </tr>\n  </thead>\n  <tbody>\n    <tr>\n      <th>0</th>\n      <td>DeepOCSORT_faster_rcnn_0.5</td>\n      <td>0.306819</td>\n      <td>0.646812</td>\n      <td>642</td>\n      <td>333</td>\n      <td>2</td>\n      <td>0.466598</td>\n      <td>0.467559</td>\n      <td>0.465641</td>\n    </tr>\n    <tr>\n      <th>1</th>\n      <td>DeepOCSORT_faster_rcnn_0.3</td>\n      <td>0.275749</td>\n      <td>0.662665</td>\n      <td>532</td>\n      <td>443</td>\n      <td>4</td>\n      <td>0.448099</td>\n      <td>0.449022</td>\n      <td>0.447179</td>\n    </tr>\n    <tr>\n      <th>2</th>\n      <td>DeepOCSORT_faster_rcnn_0.1</td>\n      <td>0.234278</td>\n      <td>0.663360</td>\n      <td>415</td>\n      <td>560</td>\n      <td>6</td>\n      <td>0.365879</td>\n      <td>0.366632</td>\n      <td>0.365128</td>\n    </tr>\n    <tr>\n      <th>3</th>\n      <td>DeepOCSORT_faster_rcnn_1e-05</td>\n      <td>0.131560</td>\n      <td>0.675665</td>\n      <td>333</td>\n      <td>642</td>\n      <td>6</td>\n      <td>0.198356</td>\n      <td>0.198764</td>\n      <td>0.197949</td>\n    </tr>\n    <tr>\n      <th>4</th>\n      <td>DeepOCSORT_retinanet_0.5</td>\n      <td>0.209445</td>\n      <td>0.641987</td>\n      <td>494</td>\n      <td>481</td>\n      <td>1</td>\n      <td>0.304214</td>\n      <td>0.304840</td>\n      <td>0.303590</td>\n    </tr>\n    <tr>\n      <th>...</th>\n      <td>...</td>\n      <td>...</td>\n      <td>...</td>\n      <td>...</td>\n      <td>...</td>\n      <td>...</td>\n      <td>...</td>\n      <td>...</td>\n      <td>...</td>\n    </tr>\n    <tr>\n      <th>60</th>\n      <td>ByteTracker_yolo_0.5</td>\n      <td>0.328323</td>\n      <td>0.652223</td>\n      <td>706</td>\n      <td>269</td>\n      <td>4</td>\n      <td>0.496403</td>\n      <td>0.497425</td>\n      <td>0.495385</td>\n    </tr>\n    <tr>\n      <th>61</th>\n      <td>ByteTracker_yolo_0.3</td>\n      <td>0.326642</td>\n      <td>0.653807</td>\n      <td>703</td>\n      <td>272</td>\n      <td>3</td>\n      <td>0.494347</td>\n      <td>0.495366</td>\n      <td>0.493333</td>\n    </tr>\n    <tr>\n      <th>62</th>\n      <td>ByteTracker_yolo_0.1</td>\n      <td>0.331534</td>\n      <td>0.655399</td>\n      <td>709</td>\n      <td>266</td>\n      <td>3</td>\n      <td>0.493320</td>\n      <td>0.494336</td>\n      <td>0.492308</td>\n    </tr>\n    <tr>\n      <th>63</th>\n      <td>ByteTracker_yolo_1e-05</td>\n      <td>0.072981</td>\n      <td>0.657092</td>\n      <td>398</td>\n      <td>577</td>\n      <td>32</td>\n      <td>0.059609</td>\n      <td>0.059732</td>\n      <td>0.059487</td>\n    </tr>\n    <tr>\n      <th>64</th>\n      <td>PerfectTracker</td>\n      <td>1.000000</td>\n      <td>1.000000</td>\n      <td>971</td>\n      <td>0</td>\n      <td>0</td>\n      <td>1.000000</td>\n      <td>1.000000</td>\n      <td>1.000000</td>\n    </tr>\n  </tbody>\n</table>\n<p>65 rows × 9 columns</p>\n</div>"
          },
          "metadata": {}
        }
      ]
    },
    {
      "cell_type": "markdown",
      "source": [
        "# Convert CSV for Statical Analysis"
      ],
      "metadata": {
        "id": "t3MYQd3Dwf7_"
      }
    },
    {
      "cell_type": "code",
      "source": [
        "# In static analysis, lowest value is considered the best value. So observing the perfect tracker/ground truth, we will convert certain column\n",
        "# Multiply both 'Age' and 'Salary' columns by -1\n",
        "df_combined_statics = df_combined.copy()\n",
        "\n",
        "selected_column = ['HOTA_AUC', 'MOTP', 'CLR_TP', 'IDF1', 'IDR', 'IDP']\n",
        "\n",
        "for column in selected_column:\n",
        "    df_combined_statics[column] = df_combined_statics[column] * -1\n",
        "\n",
        "df_combined_statics.to_csv('/kaggle/working/Output/All_tracker_output_statics.csv', index=False, sep=',')\n",
        "df_combined_statics"
      ],
      "metadata": {
        "execution": {
          "iopub.status.busy": "2024-10-01T07:54:34.716831Z",
          "iopub.execute_input": "2024-10-01T07:54:34.717661Z",
          "iopub.status.idle": "2024-10-01T07:54:34.746865Z",
          "shell.execute_reply.started": "2024-10-01T07:54:34.717613Z",
          "shell.execute_reply": "2024-10-01T07:54:34.745717Z"
        },
        "trusted": true,
        "id": "Z_sjIdxawf7_",
        "outputId": "63be58dc-7649-4ecf-9df1-67142a4fe589"
      },
      "execution_count": null,
      "outputs": [
        {
          "execution_count": 43,
          "output_type": "execute_result",
          "data": {
            "text/plain": "                         Tracker  HOTA_AUC      MOTP  CLR_TP  CLR_FP  IDSW  \\\n0     DeepOCSORT_faster_rcnn_0.5 -0.306819 -0.646812    -642     333     2   \n1     DeepOCSORT_faster_rcnn_0.3 -0.275749 -0.662665    -532     443     4   \n2     DeepOCSORT_faster_rcnn_0.1 -0.234278 -0.663360    -415     560     6   \n3   DeepOCSORT_faster_rcnn_1e-05 -0.131560 -0.675665    -333     642     6   \n4       DeepOCSORT_retinanet_0.5 -0.209445 -0.641987    -494     481     1   \n..                           ...       ...       ...     ...     ...   ...   \n60          ByteTracker_yolo_0.5 -0.328323 -0.652223    -706     269     4   \n61          ByteTracker_yolo_0.3 -0.326642 -0.653807    -703     272     3   \n62          ByteTracker_yolo_0.1 -0.331534 -0.655399    -709     266     3   \n63        ByteTracker_yolo_1e-05 -0.072981 -0.657092    -398     577    32   \n64                PerfectTracker -1.000000 -1.000000    -971       0     0   \n\n        IDF1       IDR       IDP  \n0  -0.466598 -0.467559 -0.465641  \n1  -0.448099 -0.449022 -0.447179  \n2  -0.365879 -0.366632 -0.365128  \n3  -0.198356 -0.198764 -0.197949  \n4  -0.304214 -0.304840 -0.303590  \n..       ...       ...       ...  \n60 -0.496403 -0.497425 -0.495385  \n61 -0.494347 -0.495366 -0.493333  \n62 -0.493320 -0.494336 -0.492308  \n63 -0.059609 -0.059732 -0.059487  \n64 -1.000000 -1.000000 -1.000000  \n\n[65 rows x 9 columns]",
            "text/html": "<div>\n<style scoped>\n    .dataframe tbody tr th:only-of-type {\n        vertical-align: middle;\n    }\n\n    .dataframe tbody tr th {\n        vertical-align: top;\n    }\n\n    .dataframe thead th {\n        text-align: right;\n    }\n</style>\n<table border=\"1\" class=\"dataframe\">\n  <thead>\n    <tr style=\"text-align: right;\">\n      <th></th>\n      <th>Tracker</th>\n      <th>HOTA_AUC</th>\n      <th>MOTP</th>\n      <th>CLR_TP</th>\n      <th>CLR_FP</th>\n      <th>IDSW</th>\n      <th>IDF1</th>\n      <th>IDR</th>\n      <th>IDP</th>\n    </tr>\n  </thead>\n  <tbody>\n    <tr>\n      <th>0</th>\n      <td>DeepOCSORT_faster_rcnn_0.5</td>\n      <td>-0.306819</td>\n      <td>-0.646812</td>\n      <td>-642</td>\n      <td>333</td>\n      <td>2</td>\n      <td>-0.466598</td>\n      <td>-0.467559</td>\n      <td>-0.465641</td>\n    </tr>\n    <tr>\n      <th>1</th>\n      <td>DeepOCSORT_faster_rcnn_0.3</td>\n      <td>-0.275749</td>\n      <td>-0.662665</td>\n      <td>-532</td>\n      <td>443</td>\n      <td>4</td>\n      <td>-0.448099</td>\n      <td>-0.449022</td>\n      <td>-0.447179</td>\n    </tr>\n    <tr>\n      <th>2</th>\n      <td>DeepOCSORT_faster_rcnn_0.1</td>\n      <td>-0.234278</td>\n      <td>-0.663360</td>\n      <td>-415</td>\n      <td>560</td>\n      <td>6</td>\n      <td>-0.365879</td>\n      <td>-0.366632</td>\n      <td>-0.365128</td>\n    </tr>\n    <tr>\n      <th>3</th>\n      <td>DeepOCSORT_faster_rcnn_1e-05</td>\n      <td>-0.131560</td>\n      <td>-0.675665</td>\n      <td>-333</td>\n      <td>642</td>\n      <td>6</td>\n      <td>-0.198356</td>\n      <td>-0.198764</td>\n      <td>-0.197949</td>\n    </tr>\n    <tr>\n      <th>4</th>\n      <td>DeepOCSORT_retinanet_0.5</td>\n      <td>-0.209445</td>\n      <td>-0.641987</td>\n      <td>-494</td>\n      <td>481</td>\n      <td>1</td>\n      <td>-0.304214</td>\n      <td>-0.304840</td>\n      <td>-0.303590</td>\n    </tr>\n    <tr>\n      <th>...</th>\n      <td>...</td>\n      <td>...</td>\n      <td>...</td>\n      <td>...</td>\n      <td>...</td>\n      <td>...</td>\n      <td>...</td>\n      <td>...</td>\n      <td>...</td>\n    </tr>\n    <tr>\n      <th>60</th>\n      <td>ByteTracker_yolo_0.5</td>\n      <td>-0.328323</td>\n      <td>-0.652223</td>\n      <td>-706</td>\n      <td>269</td>\n      <td>4</td>\n      <td>-0.496403</td>\n      <td>-0.497425</td>\n      <td>-0.495385</td>\n    </tr>\n    <tr>\n      <th>61</th>\n      <td>ByteTracker_yolo_0.3</td>\n      <td>-0.326642</td>\n      <td>-0.653807</td>\n      <td>-703</td>\n      <td>272</td>\n      <td>3</td>\n      <td>-0.494347</td>\n      <td>-0.495366</td>\n      <td>-0.493333</td>\n    </tr>\n    <tr>\n      <th>62</th>\n      <td>ByteTracker_yolo_0.1</td>\n      <td>-0.331534</td>\n      <td>-0.655399</td>\n      <td>-709</td>\n      <td>266</td>\n      <td>3</td>\n      <td>-0.493320</td>\n      <td>-0.494336</td>\n      <td>-0.492308</td>\n    </tr>\n    <tr>\n      <th>63</th>\n      <td>ByteTracker_yolo_1e-05</td>\n      <td>-0.072981</td>\n      <td>-0.657092</td>\n      <td>-398</td>\n      <td>577</td>\n      <td>32</td>\n      <td>-0.059609</td>\n      <td>-0.059732</td>\n      <td>-0.059487</td>\n    </tr>\n    <tr>\n      <th>64</th>\n      <td>PerfectTracker</td>\n      <td>-1.000000</td>\n      <td>-1.000000</td>\n      <td>-971</td>\n      <td>0</td>\n      <td>0</td>\n      <td>-1.000000</td>\n      <td>-1.000000</td>\n      <td>-1.000000</td>\n    </tr>\n  </tbody>\n</table>\n<p>65 rows × 9 columns</p>\n</div>"
          },
          "metadata": {}
        }
      ]
    },
    {
      "cell_type": "code",
      "source": [
        "df_combined_statics_transposed = df_combined_statics.copy().T\n",
        "df_combined_statics_transposed = df_combined_statics_transposed.reset_index()\n",
        "df_combined_statics_transposed.to_csv('/kaggle/working/Output/All_tracker_output_statics_transposed.csv', index=False, sep=',')\n",
        "df_combined_statics_transposed"
      ],
      "metadata": {
        "execution": {
          "iopub.status.busy": "2024-10-01T08:05:29.897006Z",
          "iopub.execute_input": "2024-10-01T08:05:29.898265Z",
          "iopub.status.idle": "2024-10-01T08:05:29.934845Z",
          "shell.execute_reply.started": "2024-10-01T08:05:29.898225Z",
          "shell.execute_reply": "2024-10-01T08:05:29.933409Z"
        },
        "trusted": true,
        "id": "flq6_01Hwf7_",
        "outputId": "7383bc4b-3689-4cd7-ed98-f459b46b6e8c"
      },
      "execution_count": null,
      "outputs": [
        {
          "execution_count": 46,
          "output_type": "execute_result",
          "data": {
            "text/plain": "      index                           0                           1  \\\n0   Tracker  DeepOCSORT_faster_rcnn_0.5  DeepOCSORT_faster_rcnn_0.3   \n1  HOTA_AUC                   -0.306819                   -0.275749   \n2      MOTP                   -0.646812                   -0.662665   \n3    CLR_TP                        -642                        -532   \n4    CLR_FP                         333                         443   \n5      IDSW                           2                           4   \n6      IDF1                   -0.466598                   -0.448099   \n7       IDR                   -0.467559                   -0.449022   \n8       IDP                   -0.465641                   -0.447179   \n\n                            2                             3  \\\n0  DeepOCSORT_faster_rcnn_0.1  DeepOCSORT_faster_rcnn_1e-05   \n1                   -0.234278                      -0.13156   \n2                    -0.66336                     -0.675665   \n3                        -415                          -333   \n4                         560                           642   \n5                           6                             6   \n6                   -0.365879                     -0.198356   \n7                   -0.366632                     -0.198764   \n8                   -0.365128                     -0.197949   \n\n                          4                         5  \\\n0  DeepOCSORT_retinanet_0.5  DeepOCSORT_retinanet_0.3   \n1                 -0.209445                 -0.228014   \n2                 -0.641987                 -0.664427   \n3                      -494                      -578   \n4                       481                       397   \n5                         1                         4   \n6                 -0.304214                 -0.321686   \n7                  -0.30484                 -0.322348   \n8                  -0.30359                 -0.321026   \n\n                          6                           7  \\\n0  DeepOCSORT_retinanet_0.1  DeepOCSORT_retinanet_1e-05   \n1                 -0.067758                   -0.058115   \n2                 -0.654996                   -0.646243   \n3                      -247                         -93   \n4                       728                         882   \n5                         8                           3   \n6                 -0.053443                   -0.065776   \n7                 -0.053553                   -0.065911   \n8                 -0.053333                   -0.065641   \n\n                             8  ...                           55  \\\n0  DeepOCSORT_cascade_rcnn_0.5  ...  ByteTracker_retinanet_1e-05   \n1                    -0.252914  ...                    -0.071609   \n2                    -0.661213  ...                    -0.658893   \n3                         -612  ...                          -81   \n4                          363  ...                          894   \n5                            3  ...                            5   \n6                    -0.373073  ...                    -0.057554   \n7                    -0.373841  ...                    -0.057673   \n8                    -0.372308  ...                    -0.057436   \n\n                             56                            57  \\\n0  ByteTracker_cascade_rcnn_0.5  ByteTracker_cascade_rcnn_0.3   \n1                     -0.233451                     -0.218935   \n2                     -0.671667                     -0.674764   \n3                          -579                          -611   \n4                           396                           364   \n5                            16                            20   \n6                      -0.36999                     -0.327852   \n7                     -0.370752                     -0.328527   \n8                     -0.369231                     -0.327179   \n\n                             58                              59  \\\n0  ByteTracker_cascade_rcnn_0.1  ByteTracker_cascade_rcnn_1e-05   \n1                     -0.146942                       -0.070198   \n2                     -0.682931                       -0.668791   \n3                          -456                            -437   \n4                           519                             538   \n5                            29                              53   \n6                     -0.215827                       -0.062693   \n7                     -0.216272                       -0.062822   \n8                     -0.215385                       -0.062564   \n\n                     60                    61                    62  \\\n0  ByteTracker_yolo_0.5  ByteTracker_yolo_0.3  ByteTracker_yolo_0.1   \n1             -0.328323             -0.326642             -0.331534   \n2             -0.652223             -0.653807             -0.655399   \n3                  -706                  -703                  -709   \n4                   269                   272                   266   \n5                     4                     3                     3   \n6             -0.496403             -0.494347              -0.49332   \n7             -0.497425             -0.495366             -0.494336   \n8             -0.495385             -0.493333             -0.492308   \n\n                       63              64  \n0  ByteTracker_yolo_1e-05  PerfectTracker  \n1               -0.072981            -1.0  \n2               -0.657092            -1.0  \n3                    -398            -971  \n4                     577               0  \n5                      32               0  \n6               -0.059609            -1.0  \n7               -0.059732            -1.0  \n8               -0.059487            -1.0  \n\n[9 rows x 66 columns]",
            "text/html": "<div>\n<style scoped>\n    .dataframe tbody tr th:only-of-type {\n        vertical-align: middle;\n    }\n\n    .dataframe tbody tr th {\n        vertical-align: top;\n    }\n\n    .dataframe thead th {\n        text-align: right;\n    }\n</style>\n<table border=\"1\" class=\"dataframe\">\n  <thead>\n    <tr style=\"text-align: right;\">\n      <th></th>\n      <th>index</th>\n      <th>0</th>\n      <th>1</th>\n      <th>2</th>\n      <th>3</th>\n      <th>4</th>\n      <th>5</th>\n      <th>6</th>\n      <th>7</th>\n      <th>8</th>\n      <th>...</th>\n      <th>55</th>\n      <th>56</th>\n      <th>57</th>\n      <th>58</th>\n      <th>59</th>\n      <th>60</th>\n      <th>61</th>\n      <th>62</th>\n      <th>63</th>\n      <th>64</th>\n    </tr>\n  </thead>\n  <tbody>\n    <tr>\n      <th>0</th>\n      <td>Tracker</td>\n      <td>DeepOCSORT_faster_rcnn_0.5</td>\n      <td>DeepOCSORT_faster_rcnn_0.3</td>\n      <td>DeepOCSORT_faster_rcnn_0.1</td>\n      <td>DeepOCSORT_faster_rcnn_1e-05</td>\n      <td>DeepOCSORT_retinanet_0.5</td>\n      <td>DeepOCSORT_retinanet_0.3</td>\n      <td>DeepOCSORT_retinanet_0.1</td>\n      <td>DeepOCSORT_retinanet_1e-05</td>\n      <td>DeepOCSORT_cascade_rcnn_0.5</td>\n      <td>...</td>\n      <td>ByteTracker_retinanet_1e-05</td>\n      <td>ByteTracker_cascade_rcnn_0.5</td>\n      <td>ByteTracker_cascade_rcnn_0.3</td>\n      <td>ByteTracker_cascade_rcnn_0.1</td>\n      <td>ByteTracker_cascade_rcnn_1e-05</td>\n      <td>ByteTracker_yolo_0.5</td>\n      <td>ByteTracker_yolo_0.3</td>\n      <td>ByteTracker_yolo_0.1</td>\n      <td>ByteTracker_yolo_1e-05</td>\n      <td>PerfectTracker</td>\n    </tr>\n    <tr>\n      <th>1</th>\n      <td>HOTA_AUC</td>\n      <td>-0.306819</td>\n      <td>-0.275749</td>\n      <td>-0.234278</td>\n      <td>-0.13156</td>\n      <td>-0.209445</td>\n      <td>-0.228014</td>\n      <td>-0.067758</td>\n      <td>-0.058115</td>\n      <td>-0.252914</td>\n      <td>...</td>\n      <td>-0.071609</td>\n      <td>-0.233451</td>\n      <td>-0.218935</td>\n      <td>-0.146942</td>\n      <td>-0.070198</td>\n      <td>-0.328323</td>\n      <td>-0.326642</td>\n      <td>-0.331534</td>\n      <td>-0.072981</td>\n      <td>-1.0</td>\n    </tr>\n    <tr>\n      <th>2</th>\n      <td>MOTP</td>\n      <td>-0.646812</td>\n      <td>-0.662665</td>\n      <td>-0.66336</td>\n      <td>-0.675665</td>\n      <td>-0.641987</td>\n      <td>-0.664427</td>\n      <td>-0.654996</td>\n      <td>-0.646243</td>\n      <td>-0.661213</td>\n      <td>...</td>\n      <td>-0.658893</td>\n      <td>-0.671667</td>\n      <td>-0.674764</td>\n      <td>-0.682931</td>\n      <td>-0.668791</td>\n      <td>-0.652223</td>\n      <td>-0.653807</td>\n      <td>-0.655399</td>\n      <td>-0.657092</td>\n      <td>-1.0</td>\n    </tr>\n    <tr>\n      <th>3</th>\n      <td>CLR_TP</td>\n      <td>-642</td>\n      <td>-532</td>\n      <td>-415</td>\n      <td>-333</td>\n      <td>-494</td>\n      <td>-578</td>\n      <td>-247</td>\n      <td>-93</td>\n      <td>-612</td>\n      <td>...</td>\n      <td>-81</td>\n      <td>-579</td>\n      <td>-611</td>\n      <td>-456</td>\n      <td>-437</td>\n      <td>-706</td>\n      <td>-703</td>\n      <td>-709</td>\n      <td>-398</td>\n      <td>-971</td>\n    </tr>\n    <tr>\n      <th>4</th>\n      <td>CLR_FP</td>\n      <td>333</td>\n      <td>443</td>\n      <td>560</td>\n      <td>642</td>\n      <td>481</td>\n      <td>397</td>\n      <td>728</td>\n      <td>882</td>\n      <td>363</td>\n      <td>...</td>\n      <td>894</td>\n      <td>396</td>\n      <td>364</td>\n      <td>519</td>\n      <td>538</td>\n      <td>269</td>\n      <td>272</td>\n      <td>266</td>\n      <td>577</td>\n      <td>0</td>\n    </tr>\n    <tr>\n      <th>5</th>\n      <td>IDSW</td>\n      <td>2</td>\n      <td>4</td>\n      <td>6</td>\n      <td>6</td>\n      <td>1</td>\n      <td>4</td>\n      <td>8</td>\n      <td>3</td>\n      <td>3</td>\n      <td>...</td>\n      <td>5</td>\n      <td>16</td>\n      <td>20</td>\n      <td>29</td>\n      <td>53</td>\n      <td>4</td>\n      <td>3</td>\n      <td>3</td>\n      <td>32</td>\n      <td>0</td>\n    </tr>\n    <tr>\n      <th>6</th>\n      <td>IDF1</td>\n      <td>-0.466598</td>\n      <td>-0.448099</td>\n      <td>-0.365879</td>\n      <td>-0.198356</td>\n      <td>-0.304214</td>\n      <td>-0.321686</td>\n      <td>-0.053443</td>\n      <td>-0.065776</td>\n      <td>-0.373073</td>\n      <td>...</td>\n      <td>-0.057554</td>\n      <td>-0.36999</td>\n      <td>-0.327852</td>\n      <td>-0.215827</td>\n      <td>-0.062693</td>\n      <td>-0.496403</td>\n      <td>-0.494347</td>\n      <td>-0.49332</td>\n      <td>-0.059609</td>\n      <td>-1.0</td>\n    </tr>\n    <tr>\n      <th>7</th>\n      <td>IDR</td>\n      <td>-0.467559</td>\n      <td>-0.449022</td>\n      <td>-0.366632</td>\n      <td>-0.198764</td>\n      <td>-0.30484</td>\n      <td>-0.322348</td>\n      <td>-0.053553</td>\n      <td>-0.065911</td>\n      <td>-0.373841</td>\n      <td>...</td>\n      <td>-0.057673</td>\n      <td>-0.370752</td>\n      <td>-0.328527</td>\n      <td>-0.216272</td>\n      <td>-0.062822</td>\n      <td>-0.497425</td>\n      <td>-0.495366</td>\n      <td>-0.494336</td>\n      <td>-0.059732</td>\n      <td>-1.0</td>\n    </tr>\n    <tr>\n      <th>8</th>\n      <td>IDP</td>\n      <td>-0.465641</td>\n      <td>-0.447179</td>\n      <td>-0.365128</td>\n      <td>-0.197949</td>\n      <td>-0.30359</td>\n      <td>-0.321026</td>\n      <td>-0.053333</td>\n      <td>-0.065641</td>\n      <td>-0.372308</td>\n      <td>...</td>\n      <td>-0.057436</td>\n      <td>-0.369231</td>\n      <td>-0.327179</td>\n      <td>-0.215385</td>\n      <td>-0.062564</td>\n      <td>-0.495385</td>\n      <td>-0.493333</td>\n      <td>-0.492308</td>\n      <td>-0.059487</td>\n      <td>-1.0</td>\n    </tr>\n  </tbody>\n</table>\n<p>9 rows × 66 columns</p>\n</div>"
          },
          "metadata": {}
        }
      ]
    },
    {
      "cell_type": "code",
      "source": [
        "df_combined_statics_transposed.to_csv('/kaggle/working/Output/All_tracker_output_statics_transposed.txt', sep=',', index=False)"
      ],
      "metadata": {
        "execution": {
          "iopub.status.busy": "2024-10-01T08:10:57.005169Z",
          "iopub.execute_input": "2024-10-01T08:10:57.005745Z",
          "iopub.status.idle": "2024-10-01T08:10:57.017691Z",
          "shell.execute_reply.started": "2024-10-01T08:10:57.005700Z",
          "shell.execute_reply": "2024-10-01T08:10:57.015778Z"
        },
        "trusted": true,
        "id": "gavW7AgBwf8A"
      },
      "execution_count": null,
      "outputs": []
    },
    {
      "cell_type": "code",
      "source": [
        "import shutil\n",
        "# Make Zip to download all results\n",
        "\n",
        "OUTPUT_NAME = f'/kaggle/working/Tracker_Output'\n",
        "DIRECTORY_TO_ZIP = f'/kaggle/working/Output'\n",
        "\n",
        "print(DIRECTORY_TO_ZIP)\n",
        "shutil.make_archive(OUTPUT_NAME, 'zip', DIRECTORY_TO_ZIP)\n"
      ],
      "metadata": {
        "execution": {
          "iopub.status.busy": "2024-10-02T17:57:22.631728Z",
          "iopub.execute_input": "2024-10-02T17:57:22.632585Z",
          "iopub.status.idle": "2024-10-02T17:57:25.219307Z",
          "shell.execute_reply.started": "2024-10-02T17:57:22.632547Z",
          "shell.execute_reply": "2024-10-02T17:57:25.218412Z"
        },
        "trusted": true,
        "id": "cKcsLaVjwf8A",
        "outputId": "65df09fc-34d8-48d6-d078-86f876d8d43f"
      },
      "execution_count": null,
      "outputs": [
        {
          "name": "stdout",
          "text": "/kaggle/working/Output\n",
          "output_type": "stream"
        },
        {
          "execution_count": 1,
          "output_type": "execute_result",
          "data": {
            "text/plain": "'/kaggle/working/Tracker_Output.zip'"
          },
          "metadata": {}
        }
      ]
    }
  ]
}